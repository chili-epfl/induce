{
 "cells": [
  {
   "cell_type": "code",
   "execution_count": 1,
   "metadata": {
    "scrolled": false
   },
   "outputs": [
    {
     "ename": "SyntaxError",
     "evalue": "invalid syntax (<ipython-input-1-a48d0d53df76>, line 31)",
     "output_type": "error",
     "traceback": [
      "\u001b[0;36m  File \u001b[0;32m\"<ipython-input-1-a48d0d53df76>\"\u001b[0;36m, line \u001b[0;32m31\u001b[0m\n\u001b[0;31m    TRAIN_USER = [u for i,u in enumerate(USERS) if FOLDS[i] % 3 = 0]\u001b[0m\n\u001b[0m                                                                ^\u001b[0m\n\u001b[0;31mSyntaxError\u001b[0m\u001b[0;31m:\u001b[0m invalid syntax\n"
     ]
    }
   ],
   "source": [
    "import pandas as pd\n",
    "import numpy as np\n",
    "import matplotlib.pyplot as plt\n",
    "\n",
    "import dummy\n",
    "import baseline\n",
    "import fixed\n",
    "import correlation\n",
    "import bayesian\n",
    "\n",
    "import utils as u\n",
    "\n",
    "def clip(x):\n",
    "    return max(1e-5, min(1-1e-5, x))\n",
    "\n",
    "print(\"Reading file . . .\")\n",
    "DATA = pd.read_csv(\"./data/induce-data-2019-08-08.csv\",index_col=0)\n",
    "print(\"I'm so tired . . .\")\n",
    "\n",
    "# DATA = DATA[DATA.topic == \"animals\"]\n",
    "\n",
    "USERS = DATA.user.unique() \n",
    "FOLDS = [np.random.randint(10) for _ in USERS]\n",
    "\n",
    "for fold in range(1):\n",
    "    print(\"&&&\" * 20)\n",
    "    print()\n",
    "    print(\"FOLD\", fold)\n",
    "    print()\n",
    "\n",
    "    TRAIN_USER = [u for i,u in enumerate(USERS) if FOLDS[i] % 3 == 0]\n",
    "    TEST__USER = [u for i,u in enumerate(USERS) if FOLDS[i] == fold]\n",
    "    \n",
    "    TRAIN_DATA = DATA[DATA.user.isin(TRAIN_USER)]\n",
    "    TEST__DATA = DATA[DATA.user.isin(TEST__USER)]\n",
    "    \n",
    "    models = [bayesian.Model(12)]\n",
    "    for model in models:\n",
    "        \n",
    "        print(\"--\" * 20)\n",
    "        print()\n",
    "        print(\"Training Model   :\", model.name)\n",
    "        model.train(TRAIN_DATA)\n",
    "        \n",
    "        print(\"***\" * 20)\n",
    "\n",
    "        print(\"Evaluating Model :\", model.name)\n",
    "        LOG_ERR = 0\n",
    "        MSE_ERR = 0\n",
    "        ACC_ERR = 0\n",
    "\n",
    "        for user in TEST__USER:\n",
    "            userSequence = [x[1] for x in TEST__DATA[TEST__DATA.user == user].iterrows()]\n",
    "            for idx in range(len(userSequence)):\n",
    "\n",
    "                [proba, prediction] = model.predict(userSequence[:idx], userSequence[idx])\n",
    "\n",
    "                if prediction not in u.accepted_answers[userSequence[idx].question]:\n",
    "                    raise Exception(\"Predictor incorrectly assessed possible answers\")\n",
    "\n",
    "                p = clip(proba)\n",
    "                \n",
    "                LOG_ERR -= np.log(p) if prediction == userSequence[idx].result else np.log(1-p)\n",
    "                MSE_ERR += (1-p) ** 2 if prediction == userSequence[idx].result else p ** 2\n",
    "                ACC_ERR += 1 if (prediction == userSequence[idx].result) == (p >= 0.5) else 0\n",
    "\n",
    "        LOG_ERR /= len(TEST__DATA)\n",
    "        MSE_ERR /= len(TEST__DATA)\n",
    "        ACC_ERR /= len(TEST__DATA)\n",
    "        \n",
    "        print()\n",
    "        print(\"LOG_ERR = %.3f\" % LOG_ERR)\n",
    "        print(\"MSE_ERR = %.3f\" % MSE_ERR)\n",
    "        print(\"ACC_ERR = %.3f\" % ACC_ERR)\n",
    "        print()"
   ]
  },
  {
   "cell_type": "code",
   "execution_count": null,
   "metadata": {},
   "outputs": [],
   "source": []
  },
  {
   "cell_type": "code",
   "execution_count": null,
   "metadata": {
    "scrolled": false
   },
   "outputs": [],
   "source": []
  },
  {
   "cell_type": "code",
   "execution_count": null,
   "metadata": {},
   "outputs": [],
   "source": []
  },
  {
   "cell_type": "code",
   "execution_count": null,
   "metadata": {},
   "outputs": [],
   "source": []
  },
  {
   "cell_type": "code",
   "execution_count": null,
   "metadata": {},
   "outputs": [],
   "source": []
  },
  {
   "cell_type": "code",
   "execution_count": null,
   "metadata": {},
   "outputs": [],
   "source": []
  },
  {
   "cell_type": "code",
   "execution_count": null,
   "metadata": {},
   "outputs": [],
   "source": []
  },
  {
   "cell_type": "code",
   "execution_count": null,
   "metadata": {},
   "outputs": [],
   "source": []
  },
  {
   "cell_type": "code",
   "execution_count": null,
   "metadata": {},
   "outputs": [],
   "source": []
  },
  {
   "cell_type": "code",
   "execution_count": null,
   "metadata": {},
   "outputs": [],
   "source": []
  },
  {
   "cell_type": "code",
   "execution_count": null,
   "metadata": {},
   "outputs": [],
   "source": []
  }
 ],
 "metadata": {
  "kernelspec": {
   "display_name": "Python 3",
   "language": "python",
   "name": "python3"
  }
 },
 "nbformat": 4,
 "nbformat_minor": 2
}
