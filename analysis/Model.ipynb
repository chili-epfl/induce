{
 "cells": [
  {
   "cell_type": "code",
   "execution_count": 3,
   "metadata": {},
   "outputs": [],
   "source": [
    "import matplotlib.pyplot as plt\n",
    "import pandas as pd\n",
    "import numpy as np\n",
    "import seaborn as sns\n",
    "import scipy.stats as ss"
   ]
  },
  {
   "cell_type": "code",
   "execution_count": 4,
   "metadata": {},
   "outputs": [],
   "source": [
    "rd = np.random.random"
   ]
  },
  {
   "cell_type": "code",
   "execution_count": 5,
   "metadata": {},
   "outputs": [],
   "source": [
    "dataDf = pd.read_csv(\"./data/induce-data-2019-07-16.csv\",index_col=0)"
   ]
  },
  {
   "cell_type": "code",
   "execution_count": 6,
   "metadata": {},
   "outputs": [],
   "source": [
    "dataDf = dataDf.drop(\"age\", axis=1)\n",
    "dataDf = dataDf.drop(\"choice\", axis=1)\n",
    "dataDf = dataDf.groupby([\"user\", \"step\"]).first().reset_index()"
   ]
  },
  {
   "cell_type": "code",
   "execution_count": 7,
   "metadata": {},
   "outputs": [],
   "source": [
    "#dataDf = dataDf[dataDf.topic == \"geometry\"]"
   ]
  },
  {
   "cell_type": "code",
   "execution_count": 8,
   "metadata": {},
   "outputs": [
    {
     "data": {
      "text/html": [
       "<div>\n",
       "<style scoped>\n",
       "    .dataframe tbody tr th:only-of-type {\n",
       "        vertical-align: middle;\n",
       "    }\n",
       "\n",
       "    .dataframe tbody tr th {\n",
       "        vertical-align: top;\n",
       "    }\n",
       "\n",
       "    .dataframe thead th {\n",
       "        text-align: right;\n",
       "    }\n",
       "</style>\n",
       "<table border=\"1\" class=\"dataframe\">\n",
       "  <thead>\n",
       "    <tr style=\"text-align: right;\">\n",
       "      <th></th>\n",
       "      <th>user</th>\n",
       "      <th>step</th>\n",
       "      <th>createdAt</th>\n",
       "      <th>question</th>\n",
       "      <th>result</th>\n",
       "      <th>topic</th>\n",
       "      <th>ageGroup</th>\n",
       "    </tr>\n",
       "  </thead>\n",
       "  <tbody>\n",
       "    <tr>\n",
       "      <th>0</th>\n",
       "      <td>10fee518</td>\n",
       "      <td>0</td>\n",
       "      <td>2019-06-17 09:21:02.736000+00:00</td>\n",
       "      <td>C_E_F_T</td>\n",
       "      <td>correct</td>\n",
       "      <td>cards</td>\n",
       "      <td>11-13</td>\n",
       "    </tr>\n",
       "    <tr>\n",
       "      <th>1</th>\n",
       "      <td>10fee518</td>\n",
       "      <td>1</td>\n",
       "      <td>2019-06-17 09:21:15.081000+00:00</td>\n",
       "      <td>C_E_F_C</td>\n",
       "      <td>correct</td>\n",
       "      <td>cards</td>\n",
       "      <td>11-13</td>\n",
       "    </tr>\n",
       "    <tr>\n",
       "      <th>2</th>\n",
       "      <td>10fee518</td>\n",
       "      <td>2</td>\n",
       "      <td>2019-06-17 09:21:24.037000+00:00</td>\n",
       "      <td>C_E_F_O</td>\n",
       "      <td>correct</td>\n",
       "      <td>cards</td>\n",
       "      <td>11-13</td>\n",
       "    </tr>\n",
       "    <tr>\n",
       "      <th>3</th>\n",
       "      <td>10fee518</td>\n",
       "      <td>3</td>\n",
       "      <td>2019-06-17 09:21:33.090000+00:00</td>\n",
       "      <td>A_E_F_T</td>\n",
       "      <td>correct</td>\n",
       "      <td>animals</td>\n",
       "      <td>11-13</td>\n",
       "    </tr>\n",
       "    <tr>\n",
       "      <th>4</th>\n",
       "      <td>10fee518</td>\n",
       "      <td>4</td>\n",
       "      <td>2019-06-17 09:21:42.062000+00:00</td>\n",
       "      <td>A_E_F_O</td>\n",
       "      <td>correct</td>\n",
       "      <td>animals</td>\n",
       "      <td>11-13</td>\n",
       "    </tr>\n",
       "  </tbody>\n",
       "</table>\n",
       "</div>"
      ],
      "text/plain": [
       "       user  step                         createdAt question   result  \\\n",
       "0  10fee518     0  2019-06-17 09:21:02.736000+00:00  C_E_F_T  correct   \n",
       "1  10fee518     1  2019-06-17 09:21:15.081000+00:00  C_E_F_C  correct   \n",
       "2  10fee518     2  2019-06-17 09:21:24.037000+00:00  C_E_F_O  correct   \n",
       "3  10fee518     3  2019-06-17 09:21:33.090000+00:00  A_E_F_T  correct   \n",
       "4  10fee518     4  2019-06-17 09:21:42.062000+00:00  A_E_F_O  correct   \n",
       "\n",
       "     topic ageGroup  \n",
       "0    cards    11-13  \n",
       "1    cards    11-13  \n",
       "2    cards    11-13  \n",
       "3  animals    11-13  \n",
       "4  animals    11-13  "
      ]
     },
     "execution_count": 8,
     "metadata": {},
     "output_type": "execute_result"
    }
   ],
   "source": [
    "dataDf.head()"
   ]
  },
  {
   "cell_type": "code",
   "execution_count": 9,
   "metadata": {},
   "outputs": [
    {
     "data": {
      "text/html": [
       "<div>\n",
       "<style scoped>\n",
       "    .dataframe tbody tr th:only-of-type {\n",
       "        vertical-align: middle;\n",
       "    }\n",
       "\n",
       "    .dataframe tbody tr th {\n",
       "        vertical-align: top;\n",
       "    }\n",
       "\n",
       "    .dataframe thead th {\n",
       "        text-align: right;\n",
       "    }\n",
       "</style>\n",
       "<table border=\"1\" class=\"dataframe\">\n",
       "  <thead>\n",
       "    <tr style=\"text-align: right;\">\n",
       "      <th></th>\n",
       "      <th>user</th>\n",
       "      <th>step</th>\n",
       "      <th>createdAt</th>\n",
       "      <th>question</th>\n",
       "      <th>result</th>\n",
       "      <th>topic</th>\n",
       "      <th>ageGroup</th>\n",
       "      <th>uniqueQuestionID</th>\n",
       "      <th>type</th>\n",
       "    </tr>\n",
       "  </thead>\n",
       "  <tbody>\n",
       "    <tr>\n",
       "      <th>0</th>\n",
       "      <td>10fee518</td>\n",
       "      <td>0</td>\n",
       "      <td>2019-06-17 09:21:02.736000+00:00</td>\n",
       "      <td>C_E_F_T</td>\n",
       "      <td>correct</td>\n",
       "      <td>cards</td>\n",
       "      <td>11-13</td>\n",
       "      <td>C_E_F_T_INTRO</td>\n",
       "      <td>INTRO</td>\n",
       "    </tr>\n",
       "    <tr>\n",
       "      <th>1</th>\n",
       "      <td>10fee518</td>\n",
       "      <td>1</td>\n",
       "      <td>2019-06-17 09:21:15.081000+00:00</td>\n",
       "      <td>C_E_F_C</td>\n",
       "      <td>correct</td>\n",
       "      <td>cards</td>\n",
       "      <td>11-13</td>\n",
       "      <td>C_E_F_C_INTRO</td>\n",
       "      <td>INTRO</td>\n",
       "    </tr>\n",
       "    <tr>\n",
       "      <th>2</th>\n",
       "      <td>10fee518</td>\n",
       "      <td>2</td>\n",
       "      <td>2019-06-17 09:21:24.037000+00:00</td>\n",
       "      <td>C_E_F_O</td>\n",
       "      <td>correct</td>\n",
       "      <td>cards</td>\n",
       "      <td>11-13</td>\n",
       "      <td>C_E_F_O_INTRO</td>\n",
       "      <td>INTRO</td>\n",
       "    </tr>\n",
       "    <tr>\n",
       "      <th>3</th>\n",
       "      <td>10fee518</td>\n",
       "      <td>3</td>\n",
       "      <td>2019-06-17 09:21:33.090000+00:00</td>\n",
       "      <td>A_E_F_T</td>\n",
       "      <td>correct</td>\n",
       "      <td>animals</td>\n",
       "      <td>11-13</td>\n",
       "      <td>A_E_F_T_INTRO</td>\n",
       "      <td>INTRO</td>\n",
       "    </tr>\n",
       "    <tr>\n",
       "      <th>4</th>\n",
       "      <td>10fee518</td>\n",
       "      <td>4</td>\n",
       "      <td>2019-06-17 09:21:42.062000+00:00</td>\n",
       "      <td>A_E_F_O</td>\n",
       "      <td>correct</td>\n",
       "      <td>animals</td>\n",
       "      <td>11-13</td>\n",
       "      <td>A_E_F_O_INTRO</td>\n",
       "      <td>INTRO</td>\n",
       "    </tr>\n",
       "  </tbody>\n",
       "</table>\n",
       "</div>"
      ],
      "text/plain": [
       "       user  step                         createdAt question   result  \\\n",
       "0  10fee518     0  2019-06-17 09:21:02.736000+00:00  C_E_F_T  correct   \n",
       "1  10fee518     1  2019-06-17 09:21:15.081000+00:00  C_E_F_C  correct   \n",
       "2  10fee518     2  2019-06-17 09:21:24.037000+00:00  C_E_F_O  correct   \n",
       "3  10fee518     3  2019-06-17 09:21:33.090000+00:00  A_E_F_T  correct   \n",
       "4  10fee518     4  2019-06-17 09:21:42.062000+00:00  A_E_F_O  correct   \n",
       "\n",
       "     topic ageGroup uniqueQuestionID   type  \n",
       "0    cards    11-13    C_E_F_T_INTRO  INTRO  \n",
       "1    cards    11-13    C_E_F_C_INTRO  INTRO  \n",
       "2    cards    11-13    C_E_F_O_INTRO  INTRO  \n",
       "3  animals    11-13    A_E_F_T_INTRO  INTRO  \n",
       "4  animals    11-13    A_E_F_O_INTRO  INTRO  "
      ]
     },
     "execution_count": 9,
     "metadata": {},
     "output_type": "execute_result"
    }
   ],
   "source": [
    "def computeType(row):\n",
    "    if row.step < 18: return \"INTRO\"\n",
    "    if row.step < 36: return \"CORE\"\n",
    "    if row.step in [36, 38, 40, 45, 47, 49, 54, 56, 58]: return \"TRIK\"\n",
    "    if row.step in [37, 39, 41, 46, 48, 50, 55, 57, 59]: return \"FLEX\"\n",
    "    return \"DELY\"\n",
    "\n",
    "def computeUniqueId(row):\n",
    "    return row.question + \"_\" + computeType(row)\n",
    "\n",
    "dataDf[\"uniqueQuestionID\"] = dataDf.apply(computeUniqueId, axis=1)\n",
    "dataDf[\"type\"] = dataDf.apply(computeType, axis=1)\n",
    "\n",
    "dataDf.head()"
   ]
  },
  {
   "cell_type": "code",
   "execution_count": 10,
   "metadata": {},
   "outputs": [
    {
     "data": {
      "text/html": [
       "<div>\n",
       "<style scoped>\n",
       "    .dataframe tbody tr th:only-of-type {\n",
       "        vertical-align: middle;\n",
       "    }\n",
       "\n",
       "    .dataframe tbody tr th {\n",
       "        vertical-align: top;\n",
       "    }\n",
       "\n",
       "    .dataframe thead th {\n",
       "        text-align: right;\n",
       "    }\n",
       "</style>\n",
       "<table border=\"1\" class=\"dataframe\">\n",
       "  <thead>\n",
       "    <tr style=\"text-align: right;\">\n",
       "      <th></th>\n",
       "      <th>user</th>\n",
       "      <th>step</th>\n",
       "      <th>createdAt</th>\n",
       "      <th>question</th>\n",
       "      <th>result</th>\n",
       "      <th>topic</th>\n",
       "      <th>ageGroup</th>\n",
       "      <th>uniqueQuestionID</th>\n",
       "      <th>type</th>\n",
       "      <th>feature</th>\n",
       "    </tr>\n",
       "  </thead>\n",
       "  <tbody>\n",
       "    <tr>\n",
       "      <th>0</th>\n",
       "      <td>10fee518</td>\n",
       "      <td>0</td>\n",
       "      <td>2019-06-17 09:21:02.736000+00:00</td>\n",
       "      <td>C_E_F_T</td>\n",
       "      <td>correct</td>\n",
       "      <td>cards</td>\n",
       "      <td>11-13</td>\n",
       "      <td>C_E_F_T_INTRO</td>\n",
       "      <td>INTRO</td>\n",
       "      <td>type</td>\n",
       "    </tr>\n",
       "    <tr>\n",
       "      <th>1</th>\n",
       "      <td>10fee518</td>\n",
       "      <td>1</td>\n",
       "      <td>2019-06-17 09:21:15.081000+00:00</td>\n",
       "      <td>C_E_F_C</td>\n",
       "      <td>correct</td>\n",
       "      <td>cards</td>\n",
       "      <td>11-13</td>\n",
       "      <td>C_E_F_C_INTRO</td>\n",
       "      <td>INTRO</td>\n",
       "      <td>color</td>\n",
       "    </tr>\n",
       "    <tr>\n",
       "      <th>2</th>\n",
       "      <td>10fee518</td>\n",
       "      <td>2</td>\n",
       "      <td>2019-06-17 09:21:24.037000+00:00</td>\n",
       "      <td>C_E_F_O</td>\n",
       "      <td>correct</td>\n",
       "      <td>cards</td>\n",
       "      <td>11-13</td>\n",
       "      <td>C_E_F_O_INTRO</td>\n",
       "      <td>INTRO</td>\n",
       "      <td>orientation</td>\n",
       "    </tr>\n",
       "    <tr>\n",
       "      <th>3</th>\n",
       "      <td>10fee518</td>\n",
       "      <td>3</td>\n",
       "      <td>2019-06-17 09:21:33.090000+00:00</td>\n",
       "      <td>A_E_F_T</td>\n",
       "      <td>correct</td>\n",
       "      <td>animals</td>\n",
       "      <td>11-13</td>\n",
       "      <td>A_E_F_T_INTRO</td>\n",
       "      <td>INTRO</td>\n",
       "      <td>type</td>\n",
       "    </tr>\n",
       "    <tr>\n",
       "      <th>4</th>\n",
       "      <td>10fee518</td>\n",
       "      <td>4</td>\n",
       "      <td>2019-06-17 09:21:42.062000+00:00</td>\n",
       "      <td>A_E_F_O</td>\n",
       "      <td>correct</td>\n",
       "      <td>animals</td>\n",
       "      <td>11-13</td>\n",
       "      <td>A_E_F_O_INTRO</td>\n",
       "      <td>INTRO</td>\n",
       "      <td>orientation</td>\n",
       "    </tr>\n",
       "  </tbody>\n",
       "</table>\n",
       "</div>"
      ],
      "text/plain": [
       "       user  step                         createdAt question   result  \\\n",
       "0  10fee518     0  2019-06-17 09:21:02.736000+00:00  C_E_F_T  correct   \n",
       "1  10fee518     1  2019-06-17 09:21:15.081000+00:00  C_E_F_C  correct   \n",
       "2  10fee518     2  2019-06-17 09:21:24.037000+00:00  C_E_F_O  correct   \n",
       "3  10fee518     3  2019-06-17 09:21:33.090000+00:00  A_E_F_T  correct   \n",
       "4  10fee518     4  2019-06-17 09:21:42.062000+00:00  A_E_F_O  correct   \n",
       "\n",
       "     topic ageGroup uniqueQuestionID   type      feature  \n",
       "0    cards    11-13    C_E_F_T_INTRO  INTRO         type  \n",
       "1    cards    11-13    C_E_F_C_INTRO  INTRO        color  \n",
       "2    cards    11-13    C_E_F_O_INTRO  INTRO  orientation  \n",
       "3  animals    11-13    A_E_F_T_INTRO  INTRO         type  \n",
       "4  animals    11-13    A_E_F_O_INTRO  INTRO  orientation  "
      ]
     },
     "execution_count": 10,
     "metadata": {},
     "output_type": "execute_result"
    }
   ],
   "source": [
    "def feature(row):\n",
    "    if row.step < 18:\n",
    "        return {\n",
    "            \"T\":\"type\", \"C\": \"color\", \"O\":\"orientation\"\n",
    "        }[row.question[-1]]\n",
    "    else: \n",
    "        return \"dual\"\n",
    "\n",
    "dataDf[\"feature\"] = dataDf.apply(feature, axis=1)\n",
    "\n",
    "dataDf.head()"
   ]
  },
  {
   "cell_type": "code",
   "execution_count": 11,
   "metadata": {},
   "outputs": [],
   "source": [
    "from datetime import date\n",
    "dataDf.to_csv('./induce-data-'+ str(date.today()) + '.csv')"
   ]
  },
  {
   "cell_type": "code",
   "execution_count": 12,
   "metadata": {},
   "outputs": [],
   "source": [
    "acceptedAnswers = {}\n",
    "\n",
    "for q in dataDf.question.unique():\n",
    "    tag = q.split(\"_\")[-1]\n",
    "    if len(tag) == 1:\n",
    "        acceptedAnswers[q] = [\"correct\", \"wrong\"]\n",
    "    else:\n",
    "        if tag == \"OT\":\n",
    "            acceptedAnswers[q] = [\"orientation\", \"type\"]\n",
    "        elif tag == \"CT\":\n",
    "            acceptedAnswers[q] = [\"color\", \"type\"]\n",
    "        elif tag == \"CO\":\n",
    "            acceptedAnswers[q] = [\"orientation\", \"color\"]\n",
    "        else:\n",
    "            throw(\"ERROR IN VERIFYING ANSWERS\")"
   ]
  },
  {
   "cell_type": "code",
   "execution_count": 13,
   "metadata": {},
   "outputs": [
    {
     "data": {
      "text/plain": [
       "{'C_E_F_T': ['correct', 'wrong'],\n",
       " 'C_E_F_C': ['correct', 'wrong'],\n",
       " 'C_E_F_O': ['correct', 'wrong'],\n",
       " 'A_E_F_T': ['correct', 'wrong'],\n",
       " 'A_E_F_O': ['correct', 'wrong'],\n",
       " 'A_E_F_C': ['correct', 'wrong'],\n",
       " 'G_E_F_C': ['correct', 'wrong'],\n",
       " 'G_E_F_T': ['correct', 'wrong'],\n",
       " 'G_E_F_O': ['correct', 'wrong'],\n",
       " 'A_E_M_T': ['correct', 'wrong'],\n",
       " 'A_E_M_O': ['correct', 'wrong'],\n",
       " 'A_E_M_C': ['correct', 'wrong'],\n",
       " 'G_E_M_O': ['correct', 'wrong'],\n",
       " 'G_E_M_C': ['correct', 'wrong'],\n",
       " 'G_E_M_T': ['correct', 'wrong'],\n",
       " 'C_E_M_O': ['correct', 'wrong'],\n",
       " 'C_E_M_C': ['correct', 'wrong'],\n",
       " 'C_E_M_T': ['correct', 'wrong'],\n",
       " 'C_H_F_CO': ['orientation', 'color'],\n",
       " 'C_H_F_CT': ['color', 'type'],\n",
       " 'C_H_F_OT': ['orientation', 'type'],\n",
       " 'G_H_F_OT': ['orientation', 'type'],\n",
       " 'G_H_F_CO': ['orientation', 'color'],\n",
       " 'G_H_F_CT': ['color', 'type'],\n",
       " 'A_H_F_CT': ['color', 'type'],\n",
       " 'A_H_F_OT': ['orientation', 'type'],\n",
       " 'A_H_F_CO': ['orientation', 'color'],\n",
       " 'C_H_M_CO': ['orientation', 'color'],\n",
       " 'C_H_M_CT': ['color', 'type'],\n",
       " 'C_H_M_OT': ['orientation', 'type'],\n",
       " 'A_H_M_CT': ['color', 'type'],\n",
       " 'A_H_M_OT': ['orientation', 'type'],\n",
       " 'A_H_M_CO': ['orientation', 'color'],\n",
       " 'G_H_M_OT': ['orientation', 'type'],\n",
       " 'G_H_M_CO': ['orientation', 'color'],\n",
       " 'G_H_M_CT': ['color', 'type']}"
      ]
     },
     "execution_count": 13,
     "metadata": {},
     "output_type": "execute_result"
    }
   ],
   "source": [
    "acceptedAnswers"
   ]
  },
  {
   "cell_type": "markdown",
   "metadata": {},
   "source": [
    "# SPLIT TRAIN / TEST"
   ]
  },
  {
   "cell_type": "code",
   "execution_count": null,
   "metadata": {},
   "outputs": [],
   "source": [
    "USERS = dataDf.user.unique()\n",
    "\n",
    "TRAIN_USERS = []\n",
    "TEST_USERS = []\n",
    "\n",
    "for u in USERS:\n",
    "    (TRAIN_USERS if rd() > 0.2 else TEST_USERS).append(u)\n",
    "\n",
    "TRAIN_DF = dataDf[dataDf.user.isin(TRAIN_USERS)]\n",
    "TEST_DF = dataDf[dataDf.user.isin(TEST_USERS)]\n",
    "    \n",
    "len(TRAIN_USERS), len(TEST_USERS)"
   ]
  },
  {
   "cell_type": "markdown",
   "metadata": {},
   "source": [
    "# TEST FUNCTION"
   ]
  },
  {
   "cell_type": "code",
   "execution_count": null,
   "metadata": {
    "scrolled": true
   },
   "outputs": [],
   "source": [
    "def test(model):\n",
    "    LOG_ERR = 0\n",
    "    MSE_ERR = 0\n",
    "    ACC_ERR = 0\n",
    "\n",
    "    for user in TEST_USERS:\n",
    "        userSequence = [x[1] for x in TEST_DF[TEST_DF.user == user].iterrows()]\n",
    "        for idx in range(len(userSequence)):\n",
    "            \n",
    "            [proba, prediction] = model(userSequence[:idx], userSequence[idx])\n",
    "\n",
    "            if prediction not in acceptedAnswers[userSequence[idx].question]:\n",
    "                raise Exception(\"Predictor incorrectly assessed possible answers\")\n",
    "            \n",
    "            p = 1e-4 if proba < 1e-4 else 1 - 1e-4 if proba > 1 - 1e-4 else proba\n",
    "            LOG_ERR -= np.log(p) if prediction == userSequence[idx].result else np.log(1-p)\n",
    "            MSE_ERR += (1-p) ** 2 if prediction == userSequence[idx].result else p ** 2\n",
    "            ACC_ERR += 1 if (prediction == userSequence[idx].result) == (p >= 0.5) else 0\n",
    "    \n",
    "    LOG_ERR /= len(TEST_DF)\n",
    "    MSE_ERR /= len(TEST_DF)\n",
    "    ACC_ERR /= len(TEST_DF)\n",
    "    \n",
    "    return LOG_ERR, MSE_ERR, ACC_ERR"
   ]
  },
  {
   "cell_type": "code",
   "execution_count": null,
   "metadata": {},
   "outputs": [],
   "source": [
    "len(TEST_DF)"
   ]
  },
  {
   "cell_type": "markdown",
   "metadata": {},
   "source": [
    "# DUMMY MODEL"
   ]
  },
  {
   "cell_type": "code",
   "execution_count": null,
   "metadata": {},
   "outputs": [],
   "source": [
    "def dummy(seq, question):\n",
    "    prediction = acceptedAnswers[question.question][0]\n",
    "    return [0.5, prediction]\n",
    "\n",
    "LOG_ERR, MSE_ERR, ACC_ERR = test(dummy)\n",
    "print(\"LOG_ERR = %.3f\" % LOG_ERR)\n",
    "print(\"MSE_ERR = %.3f\" % MSE_ERR)\n",
    "print(\"ACC_ERR = %.3f\" % ACC_ERR)"
   ]
  },
  {
   "cell_type": "markdown",
   "metadata": {},
   "source": [
    "# BASELINE MODEL"
   ]
  },
  {
   "cell_type": "code",
   "execution_count": null,
   "metadata": {},
   "outputs": [],
   "source": [
    "_DF = TRAIN_DF.groupby([\"uniqueQuestionID\", \"result\"]).count()\n",
    "\n",
    "BASELINE_AGG = {}\n",
    "for idx,counts in _DF.iterrows():\n",
    "    uniqueQuestionID, result = idx\n",
    "    count = counts.question\n",
    "    BASELINE_AGG[uniqueQuestionID] = BASELINE_AGG.get(uniqueQuestionID, {})\n",
    "    BASELINE_AGG[uniqueQuestionID][result] = count\n",
    "\n",
    "def baseline(seq, question):\n",
    "    q = BASELINE_AGG[question.uniqueQuestionID]\n",
    "    prediction = list(q.keys())[0]\n",
    "    [a,b] = [q[k] for k in q.keys()]\n",
    "    proba = a / (a+b)\n",
    "    #print(question[0], prediction, proba)\n",
    "    return [proba, prediction]\n",
    "\n",
    "LOG_ERR, MSE_ERR, ACC_ERR = test(baseline)\n",
    "print(\"LOG_ERR = %.3f\" % LOG_ERR)\n",
    "print(\"MSE_ERR = %.3f\" % MSE_ERR)\n",
    "print(\"ACC_ERR = %.3f\" % ACC_ERR)"
   ]
  },
  {
   "cell_type": "markdown",
   "metadata": {},
   "source": [
    "# BIAS MODEL"
   ]
  },
  {
   "cell_type": "code",
   "execution_count": null,
   "metadata": {},
   "outputs": [],
   "source": [
    "rows = []\n",
    "for user in TRAIN_USERS:\n",
    "    userSequence = TRAIN_DF[TRAIN_DF.user == user]\n",
    "    userRow = { \"user\": user }\n",
    "    for _,q in userSequence.iterrows():\n",
    "        userRow[q.uniqueQuestionID] = q.result\n",
    "    rows.append(userRow)\n",
    "userDf = pd.DataFrame(rows).set_index(\"user\")\n",
    "userDf.head()"
   ]
  },
  {
   "cell_type": "code",
   "execution_count": null,
   "metadata": {
    "scrolled": true
   },
   "outputs": [],
   "source": [
    "BIAS_AGG = []\n",
    "\n",
    "for q1 in userDf.columns:\n",
    "    for r1 in [\"correct\", \"wrong\", \"orientation\",\"type\",\"color\"]:\n",
    "        _K = userDf[userDf[q1] == r1]\n",
    "        if(len(_K)) == 0:\n",
    "            continue\n",
    "        row = {\"from\": \"from:\" + q1 + \"==\" + r1}\n",
    "        for q2 in userDf.columns:\n",
    "            K = _K[q2].tolist()\n",
    "            K = [y for y in K if y in [\"correct\", \"wrong\", \"orientation\",\"type\",\"color\"]]\n",
    "            \n",
    "            if len(K) == 0:\n",
    "                continue\n",
    "            \n",
    "            for r2 in [\"correct\", \"wrong\", \"orientation\",\"type\",\"color\"]:\n",
    "                c = len([y for y in K if y == r2])\n",
    "                if(c > 0):\n",
    "                    row[\"to:\" + q2 + \"==\" + r2] = c / len(K)\n",
    "\n",
    "        BIAS_AGG.append(row)\n",
    "\n",
    "BIAS_AGG = pd.DataFrame(BIAS_AGG).set_index(\"from\").fillna(0.)\n",
    "BIAS_AGG.head()"
   ]
  },
  {
   "cell_type": "code",
   "execution_count": null,
   "metadata": {},
   "outputs": [],
   "source": [
    "def bias(seq, question):\n",
    "    possibleAnswers = acceptedAnswers[question.question]\n",
    "    if(len(seq) == 0):\n",
    "        return baseline(seq,question)\n",
    "    \n",
    "    bestProba = 0\n",
    "    bestPrediction = \"\"\n",
    "    for previous in seq:\n",
    "        for a in possibleAnswers:\n",
    "            f,t = \"from:\"+previous.uniqueQuestionID+\"==\"+previous.result, \"to:\"+question.uniqueQuestionID+\"==\"+a\n",
    "            p = BIAS_AGG[t].loc[f]\n",
    "            if p > bestProba:\n",
    "                bestProba = p\n",
    "                bestPrediction = a\n",
    "    \n",
    "    proba = bestProba\n",
    "    prediction = bestPrediction\n",
    "    #print(question.uniqueQuestionID, prediction, proba)\n",
    "    return [proba, prediction]\n",
    "\n",
    "LOG_ERR, MSE_ERR, ACC_ERR = test(bias)"
   ]
  },
  {
   "cell_type": "code",
   "execution_count": null,
   "metadata": {},
   "outputs": [],
   "source": [
    "print(\"LOG_ERR = %.3f\" % LOG_ERR)\n",
    "print(\"MSE_ERR = %.3f\" % MSE_ERR)\n",
    "print(\"ACC_ERR = %.3f\" % ACC_ERR)"
   ]
  },
  {
   "cell_type": "markdown",
   "metadata": {},
   "source": [
    "# BIAS MODEL FIXED"
   ]
  },
  {
   "cell_type": "code",
   "execution_count": null,
   "metadata": {},
   "outputs": [],
   "source": [
    "match = {\n",
    "    'A_E_M_C_INTRO': 'A_E_F_C_INTRO',\n",
    "    'A_E_M_O_INTRO': 'A_E_F_O_INTRO',\n",
    "    'A_E_M_T_INTRO': 'A_E_F_T_INTRO',\n",
    "\n",
    "    'A_H_F_CO_DELY': 'A_H_F_CO_CORE',\n",
    "    'A_H_F_CO_TRIK': 'A_H_F_CO_CORE',\n",
    "\n",
    "    'A_H_F_CT_DELY': 'A_H_F_CT_CORE',\n",
    "    'A_H_F_CT_TRIK': 'A_H_F_CT_CORE',\n",
    "\n",
    "    'A_H_F_OT_DELY': 'A_H_F_OT_CORE',\n",
    "    'A_H_F_OT_TRIK': 'A_H_F_OT_CORE',\n",
    "\n",
    "    'A_H_M_CO_CORE': 'A_H_F_CO_CORE',\n",
    "    'A_H_M_CO_FLEX': 'A_H_F_CO_TRIK',\n",
    "\n",
    "    'A_H_M_CT_CORE': 'A_H_F_CT_CORE',\n",
    "    'A_H_M_CT_FLEX': 'A_H_F_CT_TRIK',\n",
    "\n",
    "    'A_H_M_OT_CORE': 'A_H_F_OT_CORE',\n",
    "    'A_H_M_OT_FLEX': 'A_H_F_OT_TRIK',\n",
    "\n",
    "    'C_E_M_C_INTRO': 'C_E_F_C_INTRO',\n",
    "    'C_E_M_O_INTRO': 'C_E_F_O_INTRO',\n",
    "    'C_E_M_T_INTRO': 'C_E_F_T_INTRO',\n",
    "\n",
    "    'C_H_F_CO_DELY': 'C_H_F_CO_CORE',\n",
    "    'C_H_F_CO_TRIK': 'C_H_F_CO_CORE',\n",
    "\n",
    "    'C_H_F_CT_DELY': 'C_H_F_CT_CORE',\n",
    "    'C_H_F_CT_TRIK': 'C_H_F_CT_CORE',\n",
    "\n",
    "    'C_H_F_OT_DELY': 'C_H_F_OT_CORE',\n",
    "    'C_H_F_OT_TRIK': 'C_H_F_OT_CORE',\n",
    "\n",
    "    'C_H_M_CO_CORE': 'C_H_F_CO_CORE',\n",
    "    'C_H_M_CO_FLEX': 'C_H_F_CO_TRIK',\n",
    "\n",
    "    'C_H_M_CT_CORE': 'C_H_F_CT_CORE',\n",
    "    'C_H_M_CT_FLEX': 'C_H_F_CT_TRIK',\n",
    "\n",
    "    'C_H_M_OT_CORE': 'C_H_F_OT_CORE',\n",
    "    'C_H_M_OT_FLEX': 'C_H_F_OT_TRIK',\n",
    "\n",
    "    'G_E_M_C_INTRO': 'G_E_F_C_INTRO',\n",
    "    'G_E_M_O_INTRO': 'G_E_F_O_INTRO',\n",
    "    'G_E_M_T_INTRO': 'G_E_F_T_INTRO',\n",
    "\n",
    "    'G_H_F_CO_DELY': 'G_H_F_CO_CORE',\n",
    "    'G_H_F_CO_TRIK': 'G_H_F_CO_CORE',\n",
    "\n",
    "    'G_H_F_CT_DELY': 'G_H_F_CT_CORE',\n",
    "    'G_H_F_CT_TRIK': 'G_H_F_CT_CORE',\n",
    "\n",
    "    'G_H_F_OT_DELY': 'G_H_F_OT_CORE',\n",
    "    'G_H_F_OT_TRIK': 'G_H_F_OT_CORE',\n",
    "\n",
    "    'G_H_M_CO_CORE': 'G_H_F_CO_CORE',\n",
    "    'G_H_M_CO_FLEX': 'G_H_F_CO_TRIK',\n",
    "\n",
    "    'G_H_M_CT_CORE': 'G_H_F_CT_CORE',\n",
    "    'G_H_M_CT_FLEX': 'G_H_F_CT_TRIK',\n",
    "\n",
    "    'G_H_M_OT_CORE': 'G_H_F_OT_CORE',\n",
    "    'G_H_M_OT_FLEX': 'G_H_F_OT_TRIK'\n",
    "}\n",
    "\n",
    "def fixed(seq, question):\n",
    "    possibleAnswers = acceptedAnswers[question.question]\n",
    "    prediction = possibleAnswers[0]\n",
    "    \n",
    "    if(question.uniqueQuestionID not in match):\n",
    "        return baseline(seq,question)\n",
    "    \n",
    "    previous = [p for p in seq if p.uniqueQuestionID == match[question.uniqueQuestionID]][0]\n",
    "    \n",
    "    f,t = \"from:\"+previous.uniqueQuestionID+\"==\"+previous.result, \"to:\"+question.uniqueQuestionID+\"==\"+prediction\n",
    "    proba = BIAS_AGG[t].loc[f]\n",
    "    #print(question.uniqueQuestionID, prediction, proba)\n",
    "    return [proba, prediction]\n",
    "\n",
    "LOG_ERR, MSE_ERR, ACC_ERR = test(fixed)"
   ]
  },
  {
   "cell_type": "code",
   "execution_count": null,
   "metadata": {},
   "outputs": [],
   "source": [
    "print(\"LOG_ERR = %.3f\" % LOG_ERR)\n",
    "print(\"MSE_ERR = %.3f\" % MSE_ERR)\n",
    "print(\"ACC_ERR = %.3f\" % ACC_ERR)"
   ]
  },
  {
   "cell_type": "code",
   "execution_count": null,
   "metadata": {},
   "outputs": [],
   "source": []
  },
  {
   "cell_type": "markdown",
   "metadata": {},
   "source": [
    "# BAYESIAN"
   ]
  },
  {
   "cell_type": "code",
   "execution_count": null,
   "metadata": {},
   "outputs": [],
   "source": [
    "_DF = TRAIN_DF[TRAIN_DF.type.isin([\"CORE\", \"TRIK\"])]\n",
    "\n",
    "K = 12\n",
    "indexes = [ \"A_CO\", \"A_CT\", \"A_OT\", \"C_CO\", \"C_CT\", \"C_OT\", \"G_CO\", \"G_CT\", \"G_OT\" ]\n",
    "answers = [ \"color\", \"color\", \"orientation\", \"color\", \"color\", \"orientation\", \"color\", \"color\", \"orientation\" ]\n",
    "states = [[rd() for _ in range(9)] for _ in range(K)]\n",
    "userStates = {}\n",
    "prior = [0 for _ in states]\n",
    "\n",
    "def computeProba(state, question):\n",
    "    [topic, _, _ , features] = question.question.split(\"_\")\n",
    "    probaIndex = indexes.index(topic + \"_\" + features)\n",
    "    p = state[probaIndex]\n",
    "    p = max(1e-5,min(1-1e-5,p))\n",
    "    return p if answers[probaIndex] == question.result else (1 - p)\n",
    "\n",
    "def expectation():\n",
    "    for u in TRAIN_USERS:\n",
    "        userSequence = [x for _,x in _DF[_DF.user == u].iterrows()]\n",
    "        _p = [[computeProba(s,q) for q in userSequence] for s in states]\n",
    "        _p = np.array([np.exp(sum(np.log(np.array(q)))) for q in _p])\n",
    "        userStates[u] = _p / sum(_p)\n",
    "    \n",
    "def maximization():\n",
    "    for s in states:\n",
    "        for k in range(9):\n",
    "            s[k] = {\"r\":0, \"c\":0}\n",
    "    \n",
    "    for _,question in _DF.iterrows():\n",
    "        [topic, _, _ , features] = question.question.split(\"_\")\n",
    "        probaIndex = indexes.index(topic + \"_\" + features)\n",
    "        for i,s in enumerate(states):\n",
    "            _p = userStates[question.user][i]\n",
    "            s[probaIndex][\"r\"] += _p if question.result == answers[probaIndex] else 0\n",
    "            s[probaIndex][\"c\"] += _p\n",
    "        \n",
    "    for s in states:\n",
    "        for k in range(9):\n",
    "            s[k] = max(1e-5, min(1-1e-5, s[k][\"r\"] / s[k][\"c\"])) if s[k][\"c\"] > 0 else 0.5\n",
    "    \n",
    "def loop():\n",
    "    for i in range(16):\n",
    "        print(\"ITERATION %d . . .\" % (i+1), end=\" , \")\n",
    "        print(\"EXP . . .\", end=\" , \")\n",
    "        expectation()\n",
    "        print(\"MAX . . .\")\n",
    "        maximization()\n",
    "    print(\"Computing prior . . .\")\n",
    "    _prior = np.array([0. for _ in states])\n",
    "    for _p in userStates.values():\n",
    "        _prior += _p\n",
    "    _prior /= sum(_prior)\n",
    "    return _prior"
   ]
  },
  {
   "cell_type": "code",
   "execution_count": null,
   "metadata": {
    "scrolled": true
   },
   "outputs": [],
   "source": [
    "prior = loop()"
   ]
  },
  {
   "cell_type": "code",
   "execution_count": null,
   "metadata": {},
   "outputs": [],
   "source": [
    "TRAIN_DF.head()"
   ]
  },
  {
   "cell_type": "code",
   "execution_count": null,
   "metadata": {},
   "outputs": [],
   "source": [
    "def computeTransitions():\n",
    "    CORE_DF = TRAIN_DF[TRAIN_DF.type.isin([\"CORE\", \"TRIK\"])]\n",
    "    FLEX_DF = TRAIN_DF[TRAIN_DF.type.isin([\"FLEX\"])]\n",
    "    \n",
    "    transitions = {}\n",
    "    for flex in FLEX_DF.question.unique():\n",
    "        transitions[flex] = [ np.array([0 for _ in range(K)]) for _ in range(K) ] \n",
    "    \n",
    "    for user in TRAIN_USERS:\n",
    "        coreSequence = [x for _,x in CORE_DF[CORE_DF.user == user].iterrows()]\n",
    "        _p = [[computeProba(s,q) for q in coreSequence] for s in states]\n",
    "        _p = np.exp(np.array([sum(np.log(np.array(q))) for q in _p]) + np.log(prior))\n",
    "        _p /= sum(_p)\n",
    "        \n",
    "        flexSequence = [x for _,x in FLEX_DF[FLEX_DF.user == user].iterrows()]\n",
    "        for questionFlex in flexSequence:\n",
    "            _f = np.array([computeProba(s,questionFlex) for s in states])\n",
    "            _f /= sum(_f)\n",
    "            for stateFrom in range(K):\n",
    "                t = transitions[questionFlex.question]\n",
    "                t[stateFrom] = t[stateFrom] + _p[stateFrom] * _f\n",
    "    \n",
    "    for flex in FLEX_DF.question.unique():\n",
    "        for i in range(K):\n",
    "            transitions[flex][i] /= sum(transitions[flex][i])\n",
    "\n",
    "    return transitions\n",
    "\n",
    "\n",
    "def randomTransitions():\n",
    "    FLEX_DF = TRAIN_DF[TRAIN_DF.type.isin([\"FLEX\"])]\n",
    "    transitions = {}\n",
    "    for flex in FLEX_DF.question.unique():\n",
    "        transitions[flex] = [ np.array([rd() for _ in range(K)]) for _ in range(K) ] \n",
    "    for flex in FLEX_DF.question.unique():\n",
    "        for i in range(K):\n",
    "            transitions[flex][i] /= sum(transitions[flex][i])\n",
    "    return transitions\n",
    "\n",
    "\n",
    "TRANSITIONS = randomTransitions()\n",
    "TRANSITIONS"
   ]
  },
  {
   "cell_type": "code",
   "execution_count": null,
   "metadata": {
    "scrolled": false
   },
   "outputs": [],
   "source": [
    "def bayesian(seq, question):\n",
    "    if(question.step < 18):\n",
    "        return baseline(seq,question)\n",
    "\n",
    "    \n",
    "    biasQuestions = [q for q in seq if q.type in [\"CORE\", \"TRICK\"]]\n",
    "    _p = [[computeProba(s,q) for q in biasQuestions] for s in states]\n",
    "    _p = np.exp(np.array([sum(np.log(np.array(q))) for q in _p]) + np.log(prior))\n",
    "    _p /= sum(_p)\n",
    "    \n",
    "    [topic, _, _ , features] = question.question.split(\"_\")\n",
    "    probaIndex = indexes.index(topic + \"_\" + features)    \n",
    "    prediction = answers[probaIndex]\n",
    "    \n",
    "    if(question.type in [\"CORE\", \"TRIK\"]):\n",
    "        proba = sum([_p[i] * s[probaIndex] for i,s in enumerate(states)])\n",
    "        return [proba, prediction] \n",
    "    \n",
    "    if(question.type == \"FLEX\"):\n",
    "        t = TRANSITIONS[question.question]\n",
    "        proba = 0\n",
    "        for i,_d in enumerate(t):\n",
    "            proba += sum([_p[i] * _d[k] * s[probaIndex] for k,s in enumerate(states)]) \n",
    "        return [proba, prediction]\n",
    "    \n",
    "    return baseline(seq,question)\n",
    "\n",
    "\n",
    "LOG_ERR, MSE_ERR, ACC_ERR = test(bayesian)\n",
    "print(\"LOG_ERR = %.3f\" % LOG_ERR)\n",
    "print(\"MSE_ERR = %.3f\" % MSE_ERR)\n",
    "print(\"ACC_ERR = %.3f\" % ACC_ERR)"
   ]
  },
  {
   "cell_type": "code",
   "execution_count": null,
   "metadata": {},
   "outputs": [],
   "source": [
    "print(\"LOG_ERR = %.3f\" % LOG_ERR)\n",
    "print(\"MSE_ERR = %.3f\" % MSE_ERR)\n",
    "print(\"ACC_ERR = %.3f\" % ACC_ERR)"
   ]
  },
  {
   "cell_type": "code",
   "execution_count": null,
   "metadata": {
    "scrolled": false
   },
   "outputs": [],
   "source": [
    "print(\"-------------------------------------------------------------------------\")\n",
    "print(\"|\", end=\" \")\n",
    "for i in range(9):\n",
    "    print(indexes[i], end=\"  | \")\n",
    "\n",
    "for s in states:\n",
    "    print()\n",
    "    print(\"-------------------------------------------------------------------------\")\n",
    "    print(\"|\", end=\" \")\n",
    "    for i in range(len(s)):\n",
    "        print(\"%.3f\" % s[i], end=\" | \")\n",
    "print()\n",
    "print(\"-------------------------------------------------------------------------\")\n"
   ]
  },
  {
   "cell_type": "code",
   "execution_count": null,
   "metadata": {},
   "outputs": [],
   "source": [
    "# TODO : This code is broken\n",
    "#plt.hist([userStates.values()], bins=[-0.25 + 0.5 * k for k in range(2 * len(states))])"
   ]
  },
  {
   "cell_type": "code",
   "execution_count": null,
   "metadata": {},
   "outputs": [],
   "source": []
  },
  {
   "cell_type": "code",
   "execution_count": null,
   "metadata": {},
   "outputs": [],
   "source": []
  },
  {
   "cell_type": "code",
   "execution_count": null,
   "metadata": {},
   "outputs": [],
   "source": []
  },
  {
   "cell_type": "code",
   "execution_count": null,
   "metadata": {},
   "outputs": [],
   "source": [
    "userStates"
   ]
  },
  {
   "cell_type": "code",
   "execution_count": null,
   "metadata": {
    "scrolled": true
   },
   "outputs": [],
   "source": [
    "states"
   ]
  },
  {
   "cell_type": "code",
   "execution_count": null,
   "metadata": {},
   "outputs": [],
   "source": []
  },
  {
   "cell_type": "code",
   "execution_count": null,
   "metadata": {},
   "outputs": [],
   "source": []
  },
  {
   "cell_type": "code",
   "execution_count": null,
   "metadata": {},
   "outputs": [],
   "source": []
  },
  {
   "cell_type": "code",
   "execution_count": null,
   "metadata": {},
   "outputs": [],
   "source": []
  },
  {
   "cell_type": "code",
   "execution_count": null,
   "metadata": {},
   "outputs": [],
   "source": []
  },
  {
   "cell_type": "code",
   "execution_count": null,
   "metadata": {},
   "outputs": [],
   "source": [
    "dataDf.head()"
   ]
  },
  {
   "cell_type": "code",
   "execution_count": null,
   "metadata": {},
   "outputs": [],
   "source": []
  },
  {
   "cell_type": "code",
   "execution_count": null,
   "metadata": {},
   "outputs": [],
   "source": []
  },
  {
   "cell_type": "code",
   "execution_count": null,
   "metadata": {},
   "outputs": [],
   "source": []
  },
  {
   "cell_type": "code",
   "execution_count": null,
   "metadata": {},
   "outputs": [],
   "source": []
  },
  {
   "cell_type": "code",
   "execution_count": null,
   "metadata": {},
   "outputs": [],
   "source": []
  },
  {
   "cell_type": "code",
   "execution_count": null,
   "metadata": {},
   "outputs": [],
   "source": []
  },
  {
   "cell_type": "code",
   "execution_count": null,
   "metadata": {},
   "outputs": [],
   "source": []
  },
  {
   "cell_type": "code",
   "execution_count": null,
   "metadata": {},
   "outputs": [],
   "source": []
  },
  {
   "cell_type": "code",
   "execution_count": null,
   "metadata": {},
   "outputs": [],
   "source": [
    "import matplotlib.pyplot as plt"
   ]
  },
  {
   "cell_type": "code",
   "execution_count": null,
   "metadata": {},
   "outputs": [],
   "source": [
    "BIAS_AGG.head()"
   ]
  },
  {
   "cell_type": "code",
   "execution_count": null,
   "metadata": {},
   "outputs": [],
   "source": []
  },
  {
   "cell_type": "code",
   "execution_count": null,
   "metadata": {},
   "outputs": [],
   "source": []
  },
  {
   "cell_type": "code",
   "execution_count": null,
   "metadata": {},
   "outputs": [],
   "source": []
  },
  {
   "cell_type": "code",
   "execution_count": null,
   "metadata": {},
   "outputs": [],
   "source": []
  },
  {
   "cell_type": "code",
   "execution_count": null,
   "metadata": {},
   "outputs": [],
   "source": []
  },
  {
   "cell_type": "code",
   "execution_count": null,
   "metadata": {},
   "outputs": [],
   "source": []
  },
  {
   "cell_type": "code",
   "execution_count": null,
   "metadata": {},
   "outputs": [],
   "source": []
  },
  {
   "cell_type": "code",
   "execution_count": null,
   "metadata": {},
   "outputs": [],
   "source": []
  },
  {
   "cell_type": "code",
   "execution_count": null,
   "metadata": {},
   "outputs": [],
   "source": []
  },
  {
   "cell_type": "code",
   "execution_count": null,
   "metadata": {},
   "outputs": [],
   "source": []
  },
  {
   "cell_type": "code",
   "execution_count": null,
   "metadata": {},
   "outputs": [],
   "source": []
  },
  {
   "cell_type": "code",
   "execution_count": null,
   "metadata": {},
   "outputs": [],
   "source": []
  },
  {
   "cell_type": "code",
   "execution_count": null,
   "metadata": {},
   "outputs": [],
   "source": []
  },
  {
   "cell_type": "code",
   "execution_count": null,
   "metadata": {},
   "outputs": [],
   "source": []
  },
  {
   "cell_type": "code",
   "execution_count": null,
   "metadata": {},
   "outputs": [],
   "source": []
  },
  {
   "cell_type": "code",
   "execution_count": null,
   "metadata": {},
   "outputs": [],
   "source": []
  },
  {
   "cell_type": "code",
   "execution_count": null,
   "metadata": {},
   "outputs": [],
   "source": [
    "plt.figure(figsize=(27,12))\n",
    "plt.plot(BIAS_AGG[\"to:A_H_M_CO_CORE==color\"])\n",
    "#plt.plot(BIAS_AGG[\"to:A_H_M_CO_CORE==orientation\"])\n",
    "plt.xticks(rotation='vertical')\n",
    "plt.show()"
   ]
  },
  {
   "cell_type": "code",
   "execution_count": null,
   "metadata": {},
   "outputs": [],
   "source": []
  }
 ],
 "metadata": {
  "kernelspec": {
   "display_name": "Python 3",
   "language": "python",
   "name": "python3"
  },
  "language_info": {
   "codemirror_mode": {
    "name": "ipython",
    "version": 3
   },
   "file_extension": ".py",
   "mimetype": "text/x-python",
   "name": "python",
   "nbconvert_exporter": "python",
   "pygments_lexer": "ipython3",
   "version": "3.6.7"
  }
 },
 "nbformat": 4,
 "nbformat_minor": 2
}
