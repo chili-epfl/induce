{
 "cells": [
  {
   "cell_type": "code",
   "execution_count": 2,
   "metadata": {},
   "outputs": [],
   "source": [
    "import matplotlib.pyplot as plt\n",
    "import pandas as pd\n",
    "import numpy as np\n",
    "import seaborn as sns\n",
    "import scipy.stats as ss"
   ]
  },
  {
   "cell_type": "code",
   "execution_count": 3,
   "metadata": {},
   "outputs": [
    {
     "data": {
      "text/html": [
       "<div>\n",
       "<style scoped>\n",
       "    .dataframe tbody tr th:only-of-type {\n",
       "        vertical-align: middle;\n",
       "    }\n",
       "\n",
       "    .dataframe tbody tr th {\n",
       "        vertical-align: top;\n",
       "    }\n",
       "\n",
       "    .dataframe thead th {\n",
       "        text-align: right;\n",
       "    }\n",
       "</style>\n",
       "<table border=\"1\" class=\"dataframe\">\n",
       "  <thead>\n",
       "    <tr style=\"text-align: right;\">\n",
       "      <th></th>\n",
       "      <th>age</th>\n",
       "      <th>choice</th>\n",
       "      <th>createdAt</th>\n",
       "      <th>question</th>\n",
       "      <th>step</th>\n",
       "      <th>user</th>\n",
       "      <th>result</th>\n",
       "      <th>topic</th>\n",
       "      <th>ageGroup</th>\n",
       "    </tr>\n",
       "  </thead>\n",
       "  <tbody>\n",
       "    <tr>\n",
       "      <th>563</th>\n",
       "      <td>12</td>\n",
       "      <td>left</td>\n",
       "      <td>2019-05-28 12:17:02.647000+00:00</td>\n",
       "      <td>A_E_F_T</td>\n",
       "      <td>0</td>\n",
       "      <td>1454962c</td>\n",
       "      <td>correct</td>\n",
       "      <td>animals</td>\n",
       "      <td>11-13</td>\n",
       "    </tr>\n",
       "    <tr>\n",
       "      <th>14670</th>\n",
       "      <td>12</td>\n",
       "      <td>left</td>\n",
       "      <td>2019-05-28 12:17:09.350000+00:00</td>\n",
       "      <td>A_E_F_T</td>\n",
       "      <td>0</td>\n",
       "      <td>d09631e3</td>\n",
       "      <td>correct</td>\n",
       "      <td>animals</td>\n",
       "      <td>11-13</td>\n",
       "    </tr>\n",
       "    <tr>\n",
       "      <th>576</th>\n",
       "      <td>12</td>\n",
       "      <td>left</td>\n",
       "      <td>2019-05-28 12:17:11.176000+00:00</td>\n",
       "      <td>A_E_F_O</td>\n",
       "      <td>1</td>\n",
       "      <td>1454962c</td>\n",
       "      <td>wrong</td>\n",
       "      <td>animals</td>\n",
       "      <td>11-13</td>\n",
       "    </tr>\n",
       "    <tr>\n",
       "      <th>14612</th>\n",
       "      <td>12</td>\n",
       "      <td>left</td>\n",
       "      <td>2019-05-28 12:17:16.655000+00:00</td>\n",
       "      <td>A_E_F_O</td>\n",
       "      <td>1</td>\n",
       "      <td>d09631e3</td>\n",
       "      <td>wrong</td>\n",
       "      <td>animals</td>\n",
       "      <td>11-13</td>\n",
       "    </tr>\n",
       "    <tr>\n",
       "      <th>8022</th>\n",
       "      <td>12</td>\n",
       "      <td>left</td>\n",
       "      <td>2019-05-28 12:17:17.341000+00:00</td>\n",
       "      <td>A_E_F_T</td>\n",
       "      <td>0</td>\n",
       "      <td>6a36b606</td>\n",
       "      <td>correct</td>\n",
       "      <td>animals</td>\n",
       "      <td>11-13</td>\n",
       "    </tr>\n",
       "  </tbody>\n",
       "</table>\n",
       "</div>"
      ],
      "text/plain": [
       "       age choice                         createdAt question  step      user  \\\n",
       "563     12   left  2019-05-28 12:17:02.647000+00:00  A_E_F_T     0  1454962c   \n",
       "14670   12   left  2019-05-28 12:17:09.350000+00:00  A_E_F_T     0  d09631e3   \n",
       "576     12   left  2019-05-28 12:17:11.176000+00:00  A_E_F_O     1  1454962c   \n",
       "14612   12   left  2019-05-28 12:17:16.655000+00:00  A_E_F_O     1  d09631e3   \n",
       "8022    12   left  2019-05-28 12:17:17.341000+00:00  A_E_F_T     0  6a36b606   \n",
       "\n",
       "        result    topic ageGroup  \n",
       "563    correct  animals    11-13  \n",
       "14670  correct  animals    11-13  \n",
       "576      wrong  animals    11-13  \n",
       "14612    wrong  animals    11-13  \n",
       "8022   correct  animals    11-13  "
      ]
     },
     "execution_count": 3,
     "metadata": {},
     "output_type": "execute_result"
    }
   ],
   "source": [
    "dataDf = pd.read_csv(\"./induce-data-2019-07-16.csv\",index_col=0)\n",
    "dataDf.head()"
   ]
  },
  {
   "cell_type": "code",
   "execution_count": 4,
   "metadata": {},
   "outputs": [
    {
     "name": "stdout",
     "output_type": "stream",
     "text": [
      "number of students: 222\n"
     ]
    }
   ],
   "source": [
    "print(\"number of students:\", len(dataDf.user.unique()))"
   ]
  },
  {
   "cell_type": "code",
   "execution_count": null,
   "metadata": {},
   "outputs": [],
   "source": []
  },
  {
   "cell_type": "code",
   "execution_count": 5,
   "metadata": {},
   "outputs": [],
   "source": [
    "qHF = [\n",
    "    \"A_H_F_CT\",\n",
    "    \"A_H_F_OT\",\n",
    "    \"A_H_F_CO\",\n",
    "    \"C_H_F_CT\",\n",
    "    \"C_H_F_OT\",\n",
    "    \"C_H_F_CO\",\n",
    "    \"G_H_F_CT\",\n",
    "    \"G_H_F_OT\",\n",
    "    \"G_H_F_CO\",\n",
    "]\n",
    "\n",
    "qHM = [\n",
    "    \"A_H_M_CT\",\n",
    "    \"A_H_M_OT\",\n",
    "    \"A_H_M_CO\",\n",
    "    \"C_H_M_CT\",\n",
    "    \"C_H_M_OT\",\n",
    "    \"C_H_M_CO\",\n",
    "    \"G_H_M_CT\",\n",
    "    \"G_H_M_OT\",\n",
    "    \"G_H_M_CO\",\n",
    "]"
   ]
  },
  {
   "cell_type": "code",
   "execution_count": null,
   "metadata": {},
   "outputs": [],
   "source": []
  },
  {
   "cell_type": "code",
   "execution_count": null,
   "metadata": {},
   "outputs": [],
   "source": []
  },
  {
   "cell_type": "code",
   "execution_count": 6,
   "metadata": {},
   "outputs": [
    {
     "data": {
      "text/plain": [
       "(array([  9.,  64.,  11.,  14., 100.,  24.,   0.]),\n",
       " array([ 7.5,  8.5,  9.5, 10.5, 11.5, 12.5, 13.5, 14.5]),\n",
       " <a list of 7 Patch objects>)"
      ]
     },
     "execution_count": 6,
     "metadata": {},
     "output_type": "execute_result"
    },
    {
     "data": {
      "image/png": "[encoded data removed]",
      "text/plain": [
       "<Figure size 432x288 with 1 Axes>"
      ]
     },
     "metadata": {
      "needs_background": "light"
     },
     "output_type": "display_data"
    }
   ],
   "source": [
    "plt.hist([int(x) for x in dataDf.groupby(\"user\").first().age.tolist()], bins=[7.5 + k for k in range(8)])"
   ]
  },
  {
   "cell_type": "code",
   "execution_count": null,
   "metadata": {},
   "outputs": [],
   "source": []
  },
  {
   "cell_type": "code",
   "execution_count": null,
   "metadata": {},
   "outputs": [],
   "source": []
  },
  {
   "cell_type": "code",
   "execution_count": null,
   "metadata": {},
   "outputs": [],
   "source": []
  },
  {
   "cell_type": "code",
   "execution_count": null,
   "metadata": {},
   "outputs": [],
   "source": []
  },
  {
   "cell_type": "markdown",
   "metadata": {},
   "source": [
    "## Are the 9 first questions answered correctly?"
   ]
  },
  {
   "cell_type": "code",
   "execution_count": null,
   "metadata": {},
   "outputs": [],
   "source": [
    "\n"
   ]
  },
  {
   "cell_type": "code",
   "execution_count": 94,
   "metadata": {},
   "outputs": [],
   "source": [
    "def ChiSquare(x,y, verbose=True):\n",
    "    confusion_matrix = pd.crosstab(x,y)\n",
    "    chi2, p, dof, ex = ss.chi2_contingency(confusion_matrix)\n",
    "    if verbose:\n",
    "        print(\"\\n=====================================\")\n",
    "        print(confusion_matrix)\n",
    "        print(\"-------------------------------------\")\n",
    "        print(\"p-value: %.4f\" % p)\n",
    "        print(\"=====================================\\n\\n\")\n",
    "    return p"
   ]
  },
  {
   "cell_type": "code",
   "execution_count": 8,
   "metadata": {
    "scrolled": false
   },
   "outputs": [
    {
     "data": {
      "text/html": [
       "<div>\n",
       "<style scoped>\n",
       "    .dataframe tbody tr th:only-of-type {\n",
       "        vertical-align: middle;\n",
       "    }\n",
       "\n",
       "    .dataframe tbody tr th {\n",
       "        vertical-align: top;\n",
       "    }\n",
       "\n",
       "    .dataframe thead th {\n",
       "        text-align: right;\n",
       "    }\n",
       "</style>\n",
       "<table border=\"1\" class=\"dataframe\">\n",
       "  <thead>\n",
       "    <tr style=\"text-align: right;\">\n",
       "      <th></th>\n",
       "      <th>question</th>\n",
       "      <th>user</th>\n",
       "      <th>age</th>\n",
       "      <th>choice</th>\n",
       "      <th>createdAt</th>\n",
       "      <th>step</th>\n",
       "      <th>result</th>\n",
       "      <th>topic</th>\n",
       "      <th>ageGroup</th>\n",
       "      <th>feedback</th>\n",
       "    </tr>\n",
       "  </thead>\n",
       "  <tbody>\n",
       "    <tr>\n",
       "      <th>0</th>\n",
       "      <td>A_E_F_C</td>\n",
       "      <td>10fee518</td>\n",
       "      <td>12</td>\n",
       "      <td>left</td>\n",
       "      <td>2019-06-17 09:21:51.428000+00:00</td>\n",
       "      <td>5</td>\n",
       "      <td>wrong</td>\n",
       "      <td>animals</td>\n",
       "      <td>11-13</td>\n",
       "      <td>False</td>\n",
       "    </tr>\n",
       "    <tr>\n",
       "      <th>1</th>\n",
       "      <td>A_E_F_C</td>\n",
       "      <td>1147ad30</td>\n",
       "      <td>13</td>\n",
       "      <td>right</td>\n",
       "      <td>2019-06-13 06:24:10.514000+00:00</td>\n",
       "      <td>2</td>\n",
       "      <td>correct</td>\n",
       "      <td>animals</td>\n",
       "      <td>11-13</td>\n",
       "      <td>False</td>\n",
       "    </tr>\n",
       "    <tr>\n",
       "      <th>2</th>\n",
       "      <td>A_E_F_C</td>\n",
       "      <td>123c90fc</td>\n",
       "      <td>10</td>\n",
       "      <td>left</td>\n",
       "      <td>2019-06-05 12:54:26.105000+00:00</td>\n",
       "      <td>5</td>\n",
       "      <td>wrong</td>\n",
       "      <td>animals</td>\n",
       "      <td>8-10</td>\n",
       "      <td>False</td>\n",
       "    </tr>\n",
       "    <tr>\n",
       "      <th>3</th>\n",
       "      <td>A_E_F_C</td>\n",
       "      <td>12460a06</td>\n",
       "      <td>9</td>\n",
       "      <td>left</td>\n",
       "      <td>2019-06-13 06:44:53.257000+00:00</td>\n",
       "      <td>5</td>\n",
       "      <td>wrong</td>\n",
       "      <td>animals</td>\n",
       "      <td>8-10</td>\n",
       "      <td>False</td>\n",
       "    </tr>\n",
       "    <tr>\n",
       "      <th>4</th>\n",
       "      <td>A_E_F_C</td>\n",
       "      <td>128880be</td>\n",
       "      <td>9</td>\n",
       "      <td>left</td>\n",
       "      <td>2019-06-05 12:53:40.690000+00:00</td>\n",
       "      <td>8</td>\n",
       "      <td>wrong</td>\n",
       "      <td>animals</td>\n",
       "      <td>8-10</td>\n",
       "      <td>False</td>\n",
       "    </tr>\n",
       "    <tr>\n",
       "      <th>5</th>\n",
       "      <td>A_E_F_C</td>\n",
       "      <td>131ddb1e</td>\n",
       "      <td>12</td>\n",
       "      <td>right</td>\n",
       "      <td>2019-06-17 09:21:50.644000+00:00</td>\n",
       "      <td>5</td>\n",
       "      <td>correct</td>\n",
       "      <td>animals</td>\n",
       "      <td>11-13</td>\n",
       "      <td>False</td>\n",
       "    </tr>\n",
       "    <tr>\n",
       "      <th>6</th>\n",
       "      <td>A_E_F_C</td>\n",
       "      <td>13c4f1b0</td>\n",
       "      <td>9</td>\n",
       "      <td>left</td>\n",
       "      <td>2019-06-05 12:52:03.119000+00:00</td>\n",
       "      <td>8</td>\n",
       "      <td>wrong</td>\n",
       "      <td>animals</td>\n",
       "      <td>8-10</td>\n",
       "      <td>False</td>\n",
       "    </tr>\n",
       "    <tr>\n",
       "      <th>7</th>\n",
       "      <td>A_E_F_C</td>\n",
       "      <td>1454962c</td>\n",
       "      <td>12</td>\n",
       "      <td>right</td>\n",
       "      <td>2019-05-28 12:17:35.123000+00:00</td>\n",
       "      <td>2</td>\n",
       "      <td>correct</td>\n",
       "      <td>animals</td>\n",
       "      <td>11-13</td>\n",
       "      <td>False</td>\n",
       "    </tr>\n",
       "    <tr>\n",
       "      <th>8</th>\n",
       "      <td>A_E_F_C</td>\n",
       "      <td>152139ff</td>\n",
       "      <td>12</td>\n",
       "      <td>left</td>\n",
       "      <td>2019-06-13 06:23:02.344000+00:00</td>\n",
       "      <td>2</td>\n",
       "      <td>wrong</td>\n",
       "      <td>animals</td>\n",
       "      <td>11-13</td>\n",
       "      <td>False</td>\n",
       "    </tr>\n",
       "    <tr>\n",
       "      <th>9</th>\n",
       "      <td>A_E_F_C</td>\n",
       "      <td>155d1456</td>\n",
       "      <td>9</td>\n",
       "      <td>left</td>\n",
       "      <td>2019-06-13 06:44:21.819000+00:00</td>\n",
       "      <td>5</td>\n",
       "      <td>wrong</td>\n",
       "      <td>animals</td>\n",
       "      <td>8-10</td>\n",
       "      <td>False</td>\n",
       "    </tr>\n",
       "  </tbody>\n",
       "</table>\n",
       "</div>"
      ],
      "text/plain": [
       "  question      user  age choice                         createdAt  step  \\\n",
       "0  A_E_F_C  10fee518   12   left  2019-06-17 09:21:51.428000+00:00     5   \n",
       "1  A_E_F_C  1147ad30   13  right  2019-06-13 06:24:10.514000+00:00     2   \n",
       "2  A_E_F_C  123c90fc   10   left  2019-06-05 12:54:26.105000+00:00     5   \n",
       "3  A_E_F_C  12460a06    9   left  2019-06-13 06:44:53.257000+00:00     5   \n",
       "4  A_E_F_C  128880be    9   left  2019-06-05 12:53:40.690000+00:00     8   \n",
       "5  A_E_F_C  131ddb1e   12  right  2019-06-17 09:21:50.644000+00:00     5   \n",
       "6  A_E_F_C  13c4f1b0    9   left  2019-06-05 12:52:03.119000+00:00     8   \n",
       "7  A_E_F_C  1454962c   12  right  2019-05-28 12:17:35.123000+00:00     2   \n",
       "8  A_E_F_C  152139ff   12   left  2019-06-13 06:23:02.344000+00:00     2   \n",
       "9  A_E_F_C  155d1456    9   left  2019-06-13 06:44:21.819000+00:00     5   \n",
       "\n",
       "    result    topic ageGroup  feedback  \n",
       "0    wrong  animals    11-13     False  \n",
       "1  correct  animals    11-13     False  \n",
       "2    wrong  animals     8-10     False  \n",
       "3    wrong  animals     8-10     False  \n",
       "4    wrong  animals     8-10     False  \n",
       "5  correct  animals    11-13     False  \n",
       "6    wrong  animals     8-10     False  \n",
       "7  correct  animals    11-13     False  \n",
       "8    wrong  animals    11-13     False  \n",
       "9    wrong  animals     8-10     False  "
      ]
     },
     "execution_count": 8,
     "metadata": {},
     "output_type": "execute_result"
    }
   ],
   "source": [
    "Questions_1_9 = dataDf[dataDf.step < 9].groupby([\"user\",\"question\"]).first().reset_index()\n",
    "Questions_10_18 = dataDf[(dataDf.step > 8) & (dataDf.step < 18)].groupby([\"question\",\"user\"]).first().reset_index()\n",
    "Questions_1_18 = dataDf[(dataDf.step < 18)].groupby([\"question\",\"user\"]).first().reset_index()\n",
    "Questions_1_18[\"feedback\"] = Questions_1_18.step > 8\n",
    "Questions_19_27 = dataDf[(dataDf.step > 17) & (dataDf.step < 27)].groupby([\"question\",\"user\"]).first().reset_index()\n",
    "Questions_28_36 = dataDf[(dataDf.step > 27) & (dataDf.step < 36)].groupby([\"question\",\"user\"]).first().reset_index()\n",
    "Questions_1_18.head(10)"
   ]
  },
  {
   "cell_type": "code",
   "execution_count": 9,
   "metadata": {},
   "outputs": [
    {
     "data": {
      "text/plain": [
       "(0, 225)"
      ]
     },
     "execution_count": 9,
     "metadata": {},
     "output_type": "execute_result"
    },
    {
     "data": {
      "image/png": "[encoded data removed]",
      "text/plain": [
       "<Figure size 648x504 with 2 Axes>"
      ]
     },
     "metadata": {
      "needs_background": "light"
     },
     "output_type": "display_data"
    }
   ],
   "source": [
    "plt.figure(figsize=(9,7))\n",
    "plt.subplots_adjust(hspace=0.4)\n",
    "\n",
    "plt.subplot(2,1,1)\n",
    "sns.countplot(x=\"question\", hue=\"result\", data=Questions_1_9.sort_values(by=[\"question\",\"result\"]))\n",
    "plt.title(\"BEFORE feedback\")\n",
    "plt.ylim([0,225])\n",
    "\n",
    "plt.subplot(2,1,2)\n",
    "sns.countplot(x=\"question\", hue=\"result\", data=Questions_10_18.sort_values(by=[\"question\",\"result\"]))\n",
    "plt.title(\"AFTER feedback\")\n",
    "plt.ylim([0,225])"
   ]
  },
  {
   "cell_type": "code",
   "execution_count": 10,
   "metadata": {},
   "outputs": [
    {
     "name": "stdout",
     "output_type": "stream",
     "text": [
      "\n",
      "=====================================\n",
      "result    correct  wrong\n",
      "feedback                \n",
      "False        1646    352\n",
      "True         1758    240\n",
      "-------------------------------------\n",
      "p-value: 0.0000\n",
      "=====================================\n",
      "\n",
      "\n"
     ]
    },
    {
     "data": {
      "text/plain": [
       "<matplotlib.axes._subplots.AxesSubplot at 0x1a0fd94438>"
      ]
     },
     "execution_count": 10,
     "metadata": {},
     "output_type": "execute_result"
    },
    {
     "data": {
      "image/png": "[encoded data removed]",
      "text/plain": [
       "<Figure size 432x288 with 1 Axes>"
      ]
     },
     "metadata": {
      "needs_background": "light"
     },
     "output_type": "display_data"
    }
   ],
   "source": [
    "ChiSquare(Questions_1_18.feedback,Questions_1_18.result)\n",
    "sns.countplot(x=\"feedback\", hue=\"result\", data=Questions_1_18.sort_values(by=[\"question\",\"result\"]))\n"
   ]
  },
  {
   "cell_type": "code",
   "execution_count": 11,
   "metadata": {},
   "outputs": [
    {
     "data": {
      "text/plain": [
       "<matplotlib.axes._subplots.AxesSubplot at 0x1a0fff9358>"
      ]
     },
     "execution_count": 11,
     "metadata": {},
     "output_type": "execute_result"
    },
    {
     "data": {
      "image/png": "[encoded data removed]",
      "text/plain": [
       "<Figure size 432x288 with 1 Axes>"
      ]
     },
     "metadata": {
      "needs_background": "light"
     },
     "output_type": "display_data"
    }
   ],
   "source": [
    "_D = Questions_1_18\n",
    "_D[\"result_\"] = _D.result != \"wrong\" \n",
    "\n",
    "sns.barplot(x=\"feedback\", y=\"result_\", hue=\"ageGroup\", data=Questions_1_18.sort_values(by=[\"question\",\"result\"]))\n"
   ]
  },
  {
   "cell_type": "code",
   "execution_count": 12,
   "metadata": {},
   "outputs": [
    {
     "data": {
      "text/plain": [
       "(0, 450)"
      ]
     },
     "execution_count": 12,
     "metadata": {},
     "output_type": "execute_result"
    },
    {
     "data": {
      "image/png": "[encoded data removed]",
      "text/plain": [
       "<Figure size 648x504 with 2 Axes>"
      ]
     },
     "metadata": {
      "needs_background": "light"
     },
     "output_type": "display_data"
    }
   ],
   "source": [
    "plt.figure(figsize=(9,7))\n",
    "plt.subplots_adjust(hspace=0.4)\n",
    "\n",
    "plt.subplot(2,1,1)\n",
    "sns.countplot(x=\"topic\", hue=\"result\", data=Questions_19_27.sort_values(by=[\"question\",\"result\"]))\n",
    "plt.title(\"Topic Preference\")\n",
    "plt.ylim([0,450])\n",
    "\n",
    "plt.subplot(2,1,2)\n",
    "sns.countplot(x=\"topic\", hue=\"result\", data=Questions_28_36.sort_values(by=[\"question\",\"result\"]))\n",
    "plt.title(\"Topics\")\n",
    "plt.ylim([0,450])"
   ]
  },
  {
   "cell_type": "code",
   "execution_count": 133,
   "metadata": {},
   "outputs": [
    {
     "data": {
      "text/plain": [
       "(array([14., 46., 58., 48., 29., 13.,  6.,  1.,  2.,  4.,  1.,  0.]),\n",
       " array([-0.5,  0.5,  1.5,  2.5,  3.5,  4.5,  5.5,  6.5,  7.5,  8.5,  9.5,\n",
       "        10.5, 11.5]),\n",
       " <a list of 12 Patch objects>)"
      ]
     },
     "execution_count": 133,
     "metadata": {},
     "output_type": "execute_result"
    },
    {
     "data": {
      "image/png": "[encoded data removed]",
      "text/plain": [
       "<Figure size 432x288 with 1 Axes>"
      ]
     },
     "metadata": {
      "needs_background": "light"
     },
     "output_type": "display_data"
    }
   ],
   "source": [
    "users = Questions_1_18.user.unique()\n",
    "wrongs = Questions_1_18[Questions_1_18.result == \"wrong\"]\n",
    "counts = [len(wrongs[wrongs.user == u]) for u in users]\n",
    "\n",
    "plt.hist(counts, bins=[-0.5 + k for k in range(13)])"
   ]
  },
  {
   "cell_type": "code",
   "execution_count": 13,
   "metadata": {},
   "outputs": [
    {
     "data": {
      "image/png": "[encoded data removed]",
      "text/plain": [
       "<Figure size 864x576 with 9 Axes>"
      ]
     },
     "metadata": {
      "needs_background": "light"
     },
     "output_type": "display_data"
    }
   ],
   "source": [
    "_D = Questions_1_9.groupby([\"question\",\"ageGroup\",\"result\"]).createdAt.count()\n",
    "\n",
    "plt.figure(figsize=(12,8))\n",
    "plt.subplots_adjust(left=0., bottom=0., right=1.2, top=1.2, wspace=None, hspace=None)\n",
    "\n",
    "for i,q in enumerate(_D.index.levels[0]):\n",
    "    plt.subplot(3,3,i+1)\n",
    "    \n",
    "    ly = _D.loc[q].loc[\"8-10\"].loc[\"correct\"] if \"correct\" in _D.loc[q].loc[\"8-10\"].index else 0.001\n",
    "    ry = _D.loc[q].loc[\"8-10\"].loc[\"wrong\"] if \"wrong\" in _D.loc[q].loc[\"8-10\"].index else 0.001\n",
    "    lo = _D.loc[q].loc[\"11-13\"].loc[\"correct\"] if \"correct\" in _D.loc[q].loc[\"11-13\"].index else 0.001\n",
    "    ro = _D.loc[q].loc[\"11-13\"].loc[\"wrong\"] if \"wrong\" in _D.loc[q].loc[\"11-13\"].index else 0.001\n",
    "    \n",
    "    ly, ry = ly / (ly + ry), ry / (ly + ry)\n",
    "    lo, ro = lo / (lo + ro), ro / (lo + ro)\n",
    "    \n",
    "    plt.bar([\"correct_8-10\",\"wrong_8-10\"], [ly,ry])\n",
    "    plt.bar([\"correct_11-13\",\"wrong_11-13\"], [lo,ro])\n",
    "    plt.title(q)\n",
    "    plt.ylim([0,1])\n",
    "\n"
   ]
  },
  {
   "cell_type": "markdown",
   "metadata": {},
   "source": [
    "## Are the features correctly answered in the questions 10-18 ?"
   ]
  },
  {
   "cell_type": "code",
   "execution_count": 14,
   "metadata": {},
   "outputs": [
    {
     "data": {
      "image/png": "[encoded data removed]",
      "text/plain": [
       "<Figure size 576x576 with 9 Axes>"
      ]
     },
     "metadata": {
      "needs_background": "light"
     },
     "output_type": "display_data"
    }
   ],
   "source": [
    "_D = Questions_10_18.groupby([\"question\",\"result\"]).createdAt.count()\n",
    "\n",
    "plt.figure(figsize=(8,8))\n",
    "plt.subplots_adjust(left=0., bottom=0., right=1.2, top=1.2, wspace=None, hspace=None)\n",
    "\n",
    "for i,q in enumerate(_D.index.levels[0]):\n",
    "    plt.subplot(3,3,i+1)\n",
    "    l = _D.loc[q].loc[\"correct\"] if \"correct\" in _D.loc[q].index else 0\n",
    "    r = _D.loc[q].loc[\"wrong\"] if \"wrong\" in _D.loc[q].index else 0\n",
    "    plt.bar([\"correct\",\"wrong\"], [l,r])\n",
    "    plt.title(q)\n",
    "    plt.ylim([0,225])\n"
   ]
  },
  {
   "cell_type": "code",
   "execution_count": 15,
   "metadata": {},
   "outputs": [
    {
     "data": {
      "image/png": "[encoded data removed]",
      "text/plain": [
       "<Figure size 864x864 with 9 Axes>"
      ]
     },
     "metadata": {
      "needs_background": "light"
     },
     "output_type": "display_data"
    }
   ],
   "source": [
    "_D = dataDf[(dataDf.step > 8) & (dataDf.step < 18)].groupby([\"question\",\"user\"]).first().groupby([\"question\",\"ageGroup\",\"result\"]).createdAt.count()\n",
    "\n",
    "plt.figure(figsize=(12,12))\n",
    "plt.subplots_adjust(left=0., bottom=0., right=1.2, top=1.2, wspace=None, hspace=None)\n",
    "\n",
    "_D\n",
    "\n",
    "\n",
    "for i,q in enumerate(_D.index.levels[0]):\n",
    "    plt.subplot(3,3,i+1)\n",
    "    \n",
    "    ly = _D.loc[q].loc[\"8-10\"].loc[\"correct\"] if \"correct\" in _D.loc[q].loc[\"8-10\"].index else 0.001\n",
    "    ry = _D.loc[q].loc[\"8-10\"].loc[\"wrong\"] if \"wrong\" in _D.loc[q].loc[\"8-10\"].index else 0.001\n",
    "    lo = _D.loc[q].loc[\"11-13\"].loc[\"correct\"] if \"correct\" in _D.loc[q].loc[\"11-13\"].index else 0.001\n",
    "    ro = _D.loc[q].loc[\"11-13\"].loc[\"wrong\"] if \"wrong\" in _D.loc[q].loc[\"11-13\"].index else 0.001\n",
    "    \n",
    "    ly, ry = ly / (ly + ry), ry / (ly + ry)\n",
    "    lo, ro = lo / (lo + ro), ro / (lo + ro)\n",
    "    \n",
    "    plt.bar([\"correct_8-10\",\"wrong_8-10\"], [ly,ry])\n",
    "    plt.bar([\"correct_11-13\",\"wrong_11-13\"], [lo,ro])\n",
    "    plt.title(q)\n",
    "    plt.ylim([0,1])\n"
   ]
  },
  {
   "cell_type": "code",
   "execution_count": 16,
   "metadata": {},
   "outputs": [
    {
     "name": "stdout",
     "output_type": "stream",
     "text": [
      "BY: 0.198 \t BO: 0.163\n",
      "AY: 0.146 \t AO: 0.105\n"
     ]
    },
    {
     "data": {
      "image/png": "[encoded data removed]",
      "text/plain": [
       "<Figure size 576x288 with 1 Axes>"
      ]
     },
     "metadata": {
      "needs_background": "light"
     },
     "output_type": "display_data"
    }
   ],
   "source": [
    "_D = dataDf[dataDf.step < 9].groupby([\"question\",\"user\"]).first().groupby([\"ageGroup\",\"result\"]).createdAt.count()\n",
    "\n",
    "plt.figure(figsize=(8,4))\n",
    "plt.subplots_adjust(left=0., bottom=0., right=1.2, top=1.2, wspace=None, hspace=None)\n",
    "   \n",
    "ly = _D.loc[\"8-10\"].loc[\"correct\"] if \"correct\" in _D.loc[\"8-10\"].index else 0.001\n",
    "ry = _D.loc[\"8-10\"].loc[\"wrong\"] if \"wrong\" in _D.loc[\"8-10\"].index else 0.001\n",
    "lo = _D.loc[\"11-13\"].loc[\"correct\"] if \"correct\" in _D.loc[\"11-13\"].index else 0.001\n",
    "ro = _D.loc[\"11-13\"].loc[\"wrong\"] if \"wrong\" in _D.loc[\"11-13\"].index else 0.001\n",
    "    \n",
    "ly, ry = ly / (ly + ry), ry / (ly + ry)\n",
    "lo, ro = lo / (lo + ro), ro / (lo + ro)\n",
    "    \n",
    "plt.bar([\"B_W_8-10\"], [ry])\n",
    "plt.bar([\"B_W_11-13\"], [ro])\n",
    "\n",
    "print(\"BY: %.3f \\t BO: %.3f\" % (ry,ro))\n",
    "\n",
    "_D = dataDf[(dataDf.step > 8) & (dataDf.step < 18)].groupby([\"question\",\"user\"]).first().groupby([\"ageGroup\",\"result\"]).createdAt.count()\n",
    "   \n",
    "ly = _D.loc[\"8-10\"].loc[\"correct\"] if \"correct\" in _D.loc[\"8-10\"].index else 0.001\n",
    "ry = _D.loc[\"8-10\"].loc[\"wrong\"] if \"wrong\" in _D.loc[\"8-10\"].index else 0.001\n",
    "lo = _D.loc[\"11-13\"].loc[\"correct\"] if \"correct\" in _D.loc[\"11-13\"].index else 0.001\n",
    "ro = _D.loc[\"11-13\"].loc[\"wrong\"] if \"wrong\" in _D.loc[\"11-13\"].index else 0.001\n",
    "    \n",
    "ly, ry = ly / (ly + ry), ry / (ly + ry)\n",
    "lo, ro = lo / (lo + ro), ro / (lo + ro)\n",
    "    \n",
    "#plt.bar([\"A_C_8-10\",\"A_W_8-10\"], [ly,ry])\n",
    "#plt.bar([\"A_C_11-13\",\"A_W_11-13\"], [lo,ro])\n",
    "\n",
    "plt.bar([\"A_W_8-10\"], [ry])\n",
    "plt.bar([\"A_W_11-13\"], [ro])\n",
    "\n",
    "print(\"AY: %.3f \\t AO: %.3f\" % (ry, ro))\n"
   ]
  },
  {
   "cell_type": "code",
   "execution_count": null,
   "metadata": {},
   "outputs": [],
   "source": []
  },
  {
   "cell_type": "code",
   "execution_count": null,
   "metadata": {},
   "outputs": [],
   "source": []
  },
  {
   "cell_type": "code",
   "execution_count": null,
   "metadata": {},
   "outputs": [],
   "source": []
  },
  {
   "cell_type": "markdown",
   "metadata": {},
   "source": [
    "# Is feature choices correlated between topics ?"
   ]
  },
  {
   "cell_type": "code",
   "execution_count": 39,
   "metadata": {},
   "outputs": [],
   "source": [
    "def computeUniqueId(row):\n",
    "    if row.step < 18:\n",
    "        return row.question + \"_INTRO\"\n",
    "    if row.step < 36:\n",
    "        return row.question + \"_CORE\"\n",
    "    if row.step in [36, 38, 40, 45, 47, 49, 54, 56, 58]:\n",
    "        return row.question + \"_TRIK\"\n",
    "    if row.step in [37, 39, 41, 46, 48, 50, 55, 57, 59]:\n",
    "        return row.question + \"_FLEX\"\n",
    "    return row.question + \"_DELY\"\n",
    "\n",
    "dataDf[\"uniqueQuestionID\"] = dataDf.apply(computeUniqueId, axis = 1)"
   ]
  },
  {
   "cell_type": "code",
   "execution_count": 40,
   "metadata": {},
   "outputs": [
    {
     "data": {
      "text/html": [
       "<div>\n",
       "<style scoped>\n",
       "    .dataframe tbody tr th:only-of-type {\n",
       "        vertical-align: middle;\n",
       "    }\n",
       "\n",
       "    .dataframe tbody tr th {\n",
       "        vertical-align: top;\n",
       "    }\n",
       "\n",
       "    .dataframe thead th {\n",
       "        text-align: right;\n",
       "    }\n",
       "</style>\n",
       "<table border=\"1\" class=\"dataframe\">\n",
       "  <thead>\n",
       "    <tr style=\"text-align: right;\">\n",
       "      <th></th>\n",
       "      <th>age</th>\n",
       "      <th>choice</th>\n",
       "      <th>createdAt</th>\n",
       "      <th>question</th>\n",
       "      <th>step</th>\n",
       "      <th>user</th>\n",
       "      <th>result</th>\n",
       "      <th>topic</th>\n",
       "      <th>ageGroup</th>\n",
       "      <th>uniqueQuestionID</th>\n",
       "    </tr>\n",
       "  </thead>\n",
       "  <tbody>\n",
       "    <tr>\n",
       "      <th>563</th>\n",
       "      <td>12</td>\n",
       "      <td>left</td>\n",
       "      <td>2019-05-28 12:17:02.647000+00:00</td>\n",
       "      <td>A_E_F_T</td>\n",
       "      <td>0</td>\n",
       "      <td>1454962c</td>\n",
       "      <td>correct</td>\n",
       "      <td>animals</td>\n",
       "      <td>11-13</td>\n",
       "      <td>A_E_F_T_INTRO</td>\n",
       "    </tr>\n",
       "    <tr>\n",
       "      <th>14670</th>\n",
       "      <td>12</td>\n",
       "      <td>left</td>\n",
       "      <td>2019-05-28 12:17:09.350000+00:00</td>\n",
       "      <td>A_E_F_T</td>\n",
       "      <td>0</td>\n",
       "      <td>d09631e3</td>\n",
       "      <td>correct</td>\n",
       "      <td>animals</td>\n",
       "      <td>11-13</td>\n",
       "      <td>A_E_F_T_INTRO</td>\n",
       "    </tr>\n",
       "    <tr>\n",
       "      <th>576</th>\n",
       "      <td>12</td>\n",
       "      <td>left</td>\n",
       "      <td>2019-05-28 12:17:11.176000+00:00</td>\n",
       "      <td>A_E_F_O</td>\n",
       "      <td>1</td>\n",
       "      <td>1454962c</td>\n",
       "      <td>wrong</td>\n",
       "      <td>animals</td>\n",
       "      <td>11-13</td>\n",
       "      <td>A_E_F_O_INTRO</td>\n",
       "    </tr>\n",
       "    <tr>\n",
       "      <th>14612</th>\n",
       "      <td>12</td>\n",
       "      <td>left</td>\n",
       "      <td>2019-05-28 12:17:16.655000+00:00</td>\n",
       "      <td>A_E_F_O</td>\n",
       "      <td>1</td>\n",
       "      <td>d09631e3</td>\n",
       "      <td>wrong</td>\n",
       "      <td>animals</td>\n",
       "      <td>11-13</td>\n",
       "      <td>A_E_F_O_INTRO</td>\n",
       "    </tr>\n",
       "    <tr>\n",
       "      <th>8022</th>\n",
       "      <td>12</td>\n",
       "      <td>left</td>\n",
       "      <td>2019-05-28 12:17:17.341000+00:00</td>\n",
       "      <td>A_E_F_T</td>\n",
       "      <td>0</td>\n",
       "      <td>6a36b606</td>\n",
       "      <td>correct</td>\n",
       "      <td>animals</td>\n",
       "      <td>11-13</td>\n",
       "      <td>A_E_F_T_INTRO</td>\n",
       "    </tr>\n",
       "  </tbody>\n",
       "</table>\n",
       "</div>"
      ],
      "text/plain": [
       "       age choice                         createdAt question  step      user  \\\n",
       "563     12   left  2019-05-28 12:17:02.647000+00:00  A_E_F_T     0  1454962c   \n",
       "14670   12   left  2019-05-28 12:17:09.350000+00:00  A_E_F_T     0  d09631e3   \n",
       "576     12   left  2019-05-28 12:17:11.176000+00:00  A_E_F_O     1  1454962c   \n",
       "14612   12   left  2019-05-28 12:17:16.655000+00:00  A_E_F_O     1  d09631e3   \n",
       "8022    12   left  2019-05-28 12:17:17.341000+00:00  A_E_F_T     0  6a36b606   \n",
       "\n",
       "        result    topic ageGroup uniqueQuestionID  \n",
       "563    correct  animals    11-13    A_E_F_T_INTRO  \n",
       "14670  correct  animals    11-13    A_E_F_T_INTRO  \n",
       "576      wrong  animals    11-13    A_E_F_O_INTRO  \n",
       "14612    wrong  animals    11-13    A_E_F_O_INTRO  \n",
       "8022   correct  animals    11-13    A_E_F_T_INTRO  "
      ]
     },
     "execution_count": 40,
     "metadata": {},
     "output_type": "execute_result"
    }
   ],
   "source": [
    "dataDf.head()"
   ]
  },
  {
   "cell_type": "code",
   "execution_count": 35,
   "metadata": {},
   "outputs": [],
   "source": [
    "_D = dataDf.groupby([\"user\", \"uniqueQuestionID\"]).first().reset_index()\n",
    "rows = []\n",
    "for user in dataDf.user.unique():\n",
    "    userSequence = [x[1] for x in _D[_D.user == user].iterrows()]\n",
    "    userRow = { \"user\": user }\n",
    "    for q in userSequence:\n",
    "        userRow[q.uniqueQuestionID] = q.result\n",
    "    rows.append(userRow)\n",
    "userDf = pd.DataFrame(rows).set_index(\"user\")"
   ]
  },
  {
   "cell_type": "code",
   "execution_count": 36,
   "metadata": {},
   "outputs": [
    {
     "data": {
      "text/html": [
       "<div>\n",
       "<style scoped>\n",
       "    .dataframe tbody tr th:only-of-type {\n",
       "        vertical-align: middle;\n",
       "    }\n",
       "\n",
       "    .dataframe tbody tr th {\n",
       "        vertical-align: top;\n",
       "    }\n",
       "\n",
       "    .dataframe thead th {\n",
       "        text-align: right;\n",
       "    }\n",
       "</style>\n",
       "<table border=\"1\" class=\"dataframe\">\n",
       "  <thead>\n",
       "    <tr style=\"text-align: right;\">\n",
       "      <th></th>\n",
       "      <th>A_E_F_C_INTRO</th>\n",
       "      <th>A_E_F_O_INTRO</th>\n",
       "      <th>A_E_F_T_INTRO</th>\n",
       "      <th>A_E_M_C_INTRO</th>\n",
       "      <th>A_E_M_O_INTRO</th>\n",
       "      <th>A_E_M_T_INTRO</th>\n",
       "      <th>A_H_F_CO_CORE</th>\n",
       "      <th>A_H_F_CO_DELY</th>\n",
       "      <th>A_H_F_CO_TRIK</th>\n",
       "      <th>A_H_F_CT_CORE</th>\n",
       "      <th>...</th>\n",
       "      <th>G_H_F_CT_TRIK</th>\n",
       "      <th>G_H_F_OT_CORE</th>\n",
       "      <th>G_H_F_OT_DELY</th>\n",
       "      <th>G_H_F_OT_TRIK</th>\n",
       "      <th>G_H_M_CO_CORE</th>\n",
       "      <th>G_H_M_CO_FLEX</th>\n",
       "      <th>G_H_M_CT_CORE</th>\n",
       "      <th>G_H_M_CT_FLEX</th>\n",
       "      <th>G_H_M_OT_CORE</th>\n",
       "      <th>G_H_M_OT_FLEX</th>\n",
       "    </tr>\n",
       "    <tr>\n",
       "      <th>user</th>\n",
       "      <th></th>\n",
       "      <th></th>\n",
       "      <th></th>\n",
       "      <th></th>\n",
       "      <th></th>\n",
       "      <th></th>\n",
       "      <th></th>\n",
       "      <th></th>\n",
       "      <th></th>\n",
       "      <th></th>\n",
       "      <th></th>\n",
       "      <th></th>\n",
       "      <th></th>\n",
       "      <th></th>\n",
       "      <th></th>\n",
       "      <th></th>\n",
       "      <th></th>\n",
       "      <th></th>\n",
       "      <th></th>\n",
       "      <th></th>\n",
       "      <th></th>\n",
       "    </tr>\n",
       "  </thead>\n",
       "  <tbody>\n",
       "    <tr>\n",
       "      <th>1454962c</th>\n",
       "      <td>correct</td>\n",
       "      <td>wrong</td>\n",
       "      <td>correct</td>\n",
       "      <td>correct</td>\n",
       "      <td>correct</td>\n",
       "      <td>correct</td>\n",
       "      <td>orientation</td>\n",
       "      <td>color</td>\n",
       "      <td>color</td>\n",
       "      <td>color</td>\n",
       "      <td>...</td>\n",
       "      <td>color</td>\n",
       "      <td>orientation</td>\n",
       "      <td>type</td>\n",
       "      <td>orientation</td>\n",
       "      <td>orientation</td>\n",
       "      <td>color</td>\n",
       "      <td>type</td>\n",
       "      <td>color</td>\n",
       "      <td>type</td>\n",
       "      <td>orientation</td>\n",
       "    </tr>\n",
       "    <tr>\n",
       "      <th>d09631e3</th>\n",
       "      <td>correct</td>\n",
       "      <td>wrong</td>\n",
       "      <td>correct</td>\n",
       "      <td>wrong</td>\n",
       "      <td>correct</td>\n",
       "      <td>correct</td>\n",
       "      <td>orientation</td>\n",
       "      <td>color</td>\n",
       "      <td>orientation</td>\n",
       "      <td>type</td>\n",
       "      <td>...</td>\n",
       "      <td>color</td>\n",
       "      <td>orientation</td>\n",
       "      <td>type</td>\n",
       "      <td>orientation</td>\n",
       "      <td>orientation</td>\n",
       "      <td>color</td>\n",
       "      <td>color</td>\n",
       "      <td>color</td>\n",
       "      <td>orientation</td>\n",
       "      <td>type</td>\n",
       "    </tr>\n",
       "    <tr>\n",
       "      <th>6a36b606</th>\n",
       "      <td>correct</td>\n",
       "      <td>wrong</td>\n",
       "      <td>correct</td>\n",
       "      <td>correct</td>\n",
       "      <td>correct</td>\n",
       "      <td>correct</td>\n",
       "      <td>color</td>\n",
       "      <td>color</td>\n",
       "      <td>orientation</td>\n",
       "      <td>type</td>\n",
       "      <td>...</td>\n",
       "      <td>type</td>\n",
       "      <td>type</td>\n",
       "      <td>type</td>\n",
       "      <td>type</td>\n",
       "      <td>color</td>\n",
       "      <td>orientation</td>\n",
       "      <td>type</td>\n",
       "      <td>type</td>\n",
       "      <td>type</td>\n",
       "      <td>type</td>\n",
       "    </tr>\n",
       "    <tr>\n",
       "      <th>a3344a41</th>\n",
       "      <td>wrong</td>\n",
       "      <td>correct</td>\n",
       "      <td>wrong</td>\n",
       "      <td>correct</td>\n",
       "      <td>correct</td>\n",
       "      <td>correct</td>\n",
       "      <td>color</td>\n",
       "      <td>color</td>\n",
       "      <td>orientation</td>\n",
       "      <td>type</td>\n",
       "      <td>...</td>\n",
       "      <td>type</td>\n",
       "      <td>orientation</td>\n",
       "      <td>type</td>\n",
       "      <td>orientation</td>\n",
       "      <td>color</td>\n",
       "      <td>orientation</td>\n",
       "      <td>color</td>\n",
       "      <td>color</td>\n",
       "      <td>orientation</td>\n",
       "      <td>type</td>\n",
       "    </tr>\n",
       "    <tr>\n",
       "      <th>a2289c75</th>\n",
       "      <td>correct</td>\n",
       "      <td>wrong</td>\n",
       "      <td>correct</td>\n",
       "      <td>correct</td>\n",
       "      <td>correct</td>\n",
       "      <td>correct</td>\n",
       "      <td>orientation</td>\n",
       "      <td>orientation</td>\n",
       "      <td>orientation</td>\n",
       "      <td>type</td>\n",
       "      <td>...</td>\n",
       "      <td>color</td>\n",
       "      <td>orientation</td>\n",
       "      <td>type</td>\n",
       "      <td>orientation</td>\n",
       "      <td>color</td>\n",
       "      <td>orientation</td>\n",
       "      <td>color</td>\n",
       "      <td>color</td>\n",
       "      <td>orientation</td>\n",
       "      <td>type</td>\n",
       "    </tr>\n",
       "  </tbody>\n",
       "</table>\n",
       "<p>5 rows × 63 columns</p>\n",
       "</div>"
      ],
      "text/plain": [
       "         A_E_F_C_INTRO A_E_F_O_INTRO A_E_F_T_INTRO A_E_M_C_INTRO  \\\n",
       "user                                                               \n",
       "1454962c       correct         wrong       correct       correct   \n",
       "d09631e3       correct         wrong       correct         wrong   \n",
       "6a36b606       correct         wrong       correct       correct   \n",
       "a3344a41         wrong       correct         wrong       correct   \n",
       "a2289c75       correct         wrong       correct       correct   \n",
       "\n",
       "         A_E_M_O_INTRO A_E_M_T_INTRO A_H_F_CO_CORE A_H_F_CO_DELY  \\\n",
       "user                                                               \n",
       "1454962c       correct       correct   orientation         color   \n",
       "d09631e3       correct       correct   orientation         color   \n",
       "6a36b606       correct       correct         color         color   \n",
       "a3344a41       correct       correct         color         color   \n",
       "a2289c75       correct       correct   orientation   orientation   \n",
       "\n",
       "         A_H_F_CO_TRIK A_H_F_CT_CORE      ...      G_H_F_CT_TRIK  \\\n",
       "user                                      ...                      \n",
       "1454962c         color         color      ...              color   \n",
       "d09631e3   orientation          type      ...              color   \n",
       "6a36b606   orientation          type      ...               type   \n",
       "a3344a41   orientation          type      ...               type   \n",
       "a2289c75   orientation          type      ...              color   \n",
       "\n",
       "         G_H_F_OT_CORE G_H_F_OT_DELY G_H_F_OT_TRIK G_H_M_CO_CORE  \\\n",
       "user                                                               \n",
       "1454962c   orientation          type   orientation   orientation   \n",
       "d09631e3   orientation          type   orientation   orientation   \n",
       "6a36b606          type          type          type         color   \n",
       "a3344a41   orientation          type   orientation         color   \n",
       "a2289c75   orientation          type   orientation         color   \n",
       "\n",
       "         G_H_M_CO_FLEX G_H_M_CT_CORE G_H_M_CT_FLEX G_H_M_OT_CORE G_H_M_OT_FLEX  \n",
       "user                                                                            \n",
       "1454962c         color          type         color          type   orientation  \n",
       "d09631e3         color         color         color   orientation          type  \n",
       "6a36b606   orientation          type          type          type          type  \n",
       "a3344a41   orientation         color         color   orientation          type  \n",
       "a2289c75   orientation         color         color   orientation          type  \n",
       "\n",
       "[5 rows x 63 columns]"
      ]
     },
     "execution_count": 36,
     "metadata": {},
     "output_type": "execute_result"
    }
   ],
   "source": [
    "userDf.head()"
   ]
  },
  {
   "cell_type": "code",
   "execution_count": 153,
   "metadata": {},
   "outputs": [],
   "source": [
    "introQuestions = [\n",
    "    'A_E_F_C_INTRO', 'A_E_F_O_INTRO', 'A_E_F_T_INTRO',\n",
    "    'C_E_F_C_INTRO', 'C_E_F_O_INTRO', 'C_E_F_T_INTRO', \n",
    "    'G_E_F_C_INTRO', 'G_E_F_O_INTRO', 'G_E_F_T_INTRO',\n",
    "    \n",
    "    'A_E_M_C_INTRO', 'A_E_M_O_INTRO', 'A_E_M_T_INTRO',\n",
    "    'C_E_M_C_INTRO', 'C_E_M_O_INTRO', 'C_E_M_T_INTRO', \n",
    "    'G_E_M_C_INTRO', 'G_E_M_O_INTRO', 'G_E_M_T_INTRO'\n",
    "]\n",
    "\n",
    "coreQuestions = [\n",
    "    'A_H_F_OT_CORE', 'A_H_F_CT_CORE', 'A_H_F_CO_CORE',\n",
    "    'C_H_F_OT_CORE', 'C_H_F_CT_CORE', 'C_H_F_CO_CORE', \n",
    "    'G_H_F_OT_CORE', 'G_H_F_CT_CORE', 'G_H_F_CO_CORE', \n",
    "    \n",
    "    'A_H_M_OT_CORE', 'A_H_M_CT_CORE', 'A_H_M_CO_CORE',\n",
    "    'C_H_M_OT_CORE', 'C_H_M_CT_CORE', 'C_H_M_CO_CORE'\n",
    "    'G_H_M_OT_CORE', 'G_H_M_CT_CORE', 'G_H_M_CO_CORE', \n",
    "]\n",
    "\n",
    "\n",
    "geometryIntroToCore = [\n",
    "    'G_E_F_C_INTRO', 'G_E_F_O_INTRO', 'G_E_F_T_INTRO',\n",
    "    'G_E_M_C_INTRO', 'G_E_M_O_INTRO', 'G_E_M_T_INTRO',\n",
    "    'G_H_F_OT_CORE', 'G_H_F_CT_CORE', 'G_H_F_CO_CORE', \n",
    "    'G_H_M_OT_CORE', 'G_H_M_CT_CORE', 'G_H_M_CO_CORE', \n",
    "]\n",
    "animalsIntroToCore = [\n",
    "    'A_E_F_C_INTRO', 'A_E_F_O_INTRO', 'A_E_F_T_INTRO',\n",
    "    'A_E_M_C_INTRO', 'A_E_M_O_INTRO', 'A_E_M_T_INTRO',\n",
    "    'A_H_F_OT_CORE', 'A_H_F_CT_CORE', 'A_H_F_CO_CORE', \n",
    "    'A_H_M_OT_CORE', 'A_H_M_CT_CORE', 'A_H_M_CO_CORE', \n",
    "]\n",
    "cardsIntroToCore = [\n",
    "    'C_E_F_C_INTRO', 'C_E_F_O_INTRO', 'C_E_F_T_INTRO',\n",
    "    'C_E_M_C_INTRO', 'C_E_M_O_INTRO', 'C_E_M_T_INTRO',\n",
    "    'C_H_F_OT_CORE', 'C_H_F_CT_CORE', 'C_H_F_CO_CORE', \n",
    "    'C_H_M_OT_CORE', 'C_H_M_CT_CORE', 'C_H_M_CO_CORE', \n",
    "]\n",
    "\n",
    "trickQuestions = [\n",
    "    'G_H_F_OT_TRIK', 'G_H_M_OT_FLEX', \n",
    "    'C_H_F_CO_TRIK', 'C_H_M_CO_FLEX',\n",
    "    'A_H_F_CT_TRIK', 'A_H_M_CT_FLEX', \n",
    "    'G_H_F_OT_DELY', 'C_H_F_CO_DELY', 'A_H_F_CT_DELY', \n",
    "    'A_H_F_OT_TRIK', 'A_H_M_OT_FLEX', \n",
    "    'C_H_F_CT_TRIK', 'C_H_M_CT_FLEX', \n",
    "    'G_H_F_CO_TRIK', 'G_H_M_CO_FLEX', \n",
    "    'A_H_F_OT_DELY', 'C_H_F_CT_DELY', 'G_H_F_CO_DELY', \n",
    "    'C_H_F_OT_TRIK', 'C_H_M_OT_FLEX',\n",
    "    'G_H_F_CT_TRIK', 'G_H_M_CT_FLEX', \n",
    "    'A_H_F_CO_TRIK', 'A_H_M_CO_FLEX',\n",
    "    'C_H_F_OT_DELY', 'G_H_F_CT_DELY', 'A_H_F_CO_DELY'\n",
    "]"
   ]
  },
  {
   "cell_type": "code",
   "execution_count": 158,
   "metadata": {},
   "outputs": [],
   "source": [
    "cols = introQuestions\n",
    "\n",
    "rows = []\n",
    "for q1 in cols:\n",
    "    row = [ q1 ]\n",
    "    for q2 in cols:\n",
    "        row.append(-np.log(max(1e-5, ChiSquare(userDf[q1], userDf[q2], verbose=False))))\n",
    "        #row.append(ChiSquare(userDf[q1], userDf[q2]))\n",
    "    rows.append(row)"
   ]
  },
  {
   "cell_type": "code",
   "execution_count": 159,
   "metadata": {},
   "outputs": [
    {
     "data": {
      "text/html": [
       "<div>\n",
       "<style scoped>\n",
       "    .dataframe tbody tr th:only-of-type {\n",
       "        vertical-align: middle;\n",
       "    }\n",
       "\n",
       "    .dataframe tbody tr th {\n",
       "        vertical-align: top;\n",
       "    }\n",
       "\n",
       "    .dataframe thead th {\n",
       "        text-align: right;\n",
       "    }\n",
       "</style>\n",
       "<table border=\"1\" class=\"dataframe\">\n",
       "  <thead>\n",
       "    <tr style=\"text-align: right;\">\n",
       "      <th></th>\n",
       "      <th>A_E_F_C_INTRO</th>\n",
       "      <th>A_E_F_O_INTRO</th>\n",
       "      <th>A_E_F_T_INTRO</th>\n",
       "      <th>C_E_F_C_INTRO</th>\n",
       "      <th>C_E_F_O_INTRO</th>\n",
       "      <th>C_E_F_T_INTRO</th>\n",
       "      <th>G_E_F_C_INTRO</th>\n",
       "      <th>G_E_F_O_INTRO</th>\n",
       "      <th>G_E_F_T_INTRO</th>\n",
       "      <th>A_E_M_C_INTRO</th>\n",
       "      <th>A_E_M_O_INTRO</th>\n",
       "      <th>A_E_M_T_INTRO</th>\n",
       "      <th>C_E_M_C_INTRO</th>\n",
       "      <th>C_E_M_O_INTRO</th>\n",
       "      <th>C_E_M_T_INTRO</th>\n",
       "      <th>G_E_M_C_INTRO</th>\n",
       "      <th>G_E_M_O_INTRO</th>\n",
       "      <th>G_E_M_T_INTRO</th>\n",
       "    </tr>\n",
       "    <tr>\n",
       "      <th>question</th>\n",
       "      <th></th>\n",
       "      <th></th>\n",
       "      <th></th>\n",
       "      <th></th>\n",
       "      <th></th>\n",
       "      <th></th>\n",
       "      <th></th>\n",
       "      <th></th>\n",
       "      <th></th>\n",
       "      <th></th>\n",
       "      <th></th>\n",
       "      <th></th>\n",
       "      <th></th>\n",
       "      <th></th>\n",
       "      <th></th>\n",
       "      <th></th>\n",
       "      <th></th>\n",
       "      <th></th>\n",
       "    </tr>\n",
       "  </thead>\n",
       "  <tbody>\n",
       "    <tr>\n",
       "      <th>A_E_F_C_INTRO</th>\n",
       "      <td>11.512925</td>\n",
       "      <td>0.091501</td>\n",
       "      <td>1.430321</td>\n",
       "      <td>2.044298</td>\n",
       "      <td>0.330887</td>\n",
       "      <td>4.736473</td>\n",
       "      <td>0.234184</td>\n",
       "      <td>0.880715</td>\n",
       "      <td>1.802565</td>\n",
       "      <td>1.635389</td>\n",
       "      <td>0.995157</td>\n",
       "      <td>0.012614</td>\n",
       "      <td>0.050675</td>\n",
       "      <td>1.859389</td>\n",
       "      <td>2.516460</td>\n",
       "      <td>2.649721</td>\n",
       "      <td>0.269118</td>\n",
       "      <td>1.314547</td>\n",
       "    </tr>\n",
       "    <tr>\n",
       "      <th>A_E_F_O_INTRO</th>\n",
       "      <td>0.091501</td>\n",
       "      <td>11.512925</td>\n",
       "      <td>0.143331</td>\n",
       "      <td>2.269290</td>\n",
       "      <td>0.252191</td>\n",
       "      <td>0.737285</td>\n",
       "      <td>1.183205</td>\n",
       "      <td>2.280252</td>\n",
       "      <td>0.061705</td>\n",
       "      <td>0.232051</td>\n",
       "      <td>0.178976</td>\n",
       "      <td>0.322457</td>\n",
       "      <td>0.381403</td>\n",
       "      <td>0.030734</td>\n",
       "      <td>0.649842</td>\n",
       "      <td>0.105222</td>\n",
       "      <td>0.102574</td>\n",
       "      <td>0.186740</td>\n",
       "    </tr>\n",
       "    <tr>\n",
       "      <th>A_E_F_T_INTRO</th>\n",
       "      <td>1.430321</td>\n",
       "      <td>0.143331</td>\n",
       "      <td>11.512925</td>\n",
       "      <td>3.768452</td>\n",
       "      <td>4.538656</td>\n",
       "      <td>3.908554</td>\n",
       "      <td>0.225939</td>\n",
       "      <td>0.463425</td>\n",
       "      <td>1.842084</td>\n",
       "      <td>0.023528</td>\n",
       "      <td>1.053111</td>\n",
       "      <td>0.862724</td>\n",
       "      <td>0.138134</td>\n",
       "      <td>0.233455</td>\n",
       "      <td>1.053111</td>\n",
       "      <td>11.512925</td>\n",
       "      <td>0.225387</td>\n",
       "      <td>2.174700</td>\n",
       "    </tr>\n",
       "    <tr>\n",
       "      <th>C_E_F_C_INTRO</th>\n",
       "      <td>2.044298</td>\n",
       "      <td>2.269290</td>\n",
       "      <td>3.768452</td>\n",
       "      <td>11.512925</td>\n",
       "      <td>1.065062</td>\n",
       "      <td>0.409343</td>\n",
       "      <td>0.168060</td>\n",
       "      <td>5.994946</td>\n",
       "      <td>0.016359</td>\n",
       "      <td>1.361078</td>\n",
       "      <td>1.270047</td>\n",
       "      <td>0.954156</td>\n",
       "      <td>0.274616</td>\n",
       "      <td>0.340591</td>\n",
       "      <td>1.270047</td>\n",
       "      <td>0.219981</td>\n",
       "      <td>-0.000000</td>\n",
       "      <td>2.417845</td>\n",
       "    </tr>\n",
       "    <tr>\n",
       "      <th>C_E_F_O_INTRO</th>\n",
       "      <td>0.330887</td>\n",
       "      <td>0.252191</td>\n",
       "      <td>4.538656</td>\n",
       "      <td>1.065062</td>\n",
       "      <td>11.512925</td>\n",
       "      <td>0.039417</td>\n",
       "      <td>0.029807</td>\n",
       "      <td>0.323975</td>\n",
       "      <td>0.396074</td>\n",
       "      <td>2.101501</td>\n",
       "      <td>0.267411</td>\n",
       "      <td>0.210633</td>\n",
       "      <td>0.381232</td>\n",
       "      <td>1.900334</td>\n",
       "      <td>1.069683</td>\n",
       "      <td>2.679624</td>\n",
       "      <td>-0.000000</td>\n",
       "      <td>2.380607</td>\n",
       "    </tr>\n",
       "  </tbody>\n",
       "</table>\n",
       "</div>"
      ],
      "text/plain": [
       "               A_E_F_C_INTRO  A_E_F_O_INTRO  A_E_F_T_INTRO  C_E_F_C_INTRO  \\\n",
       "question                                                                    \n",
       "A_E_F_C_INTRO      11.512925       0.091501       1.430321       2.044298   \n",
       "A_E_F_O_INTRO       0.091501      11.512925       0.143331       2.269290   \n",
       "A_E_F_T_INTRO       1.430321       0.143331      11.512925       3.768452   \n",
       "C_E_F_C_INTRO       2.044298       2.269290       3.768452      11.512925   \n",
       "C_E_F_O_INTRO       0.330887       0.252191       4.538656       1.065062   \n",
       "\n",
       "               C_E_F_O_INTRO  C_E_F_T_INTRO  G_E_F_C_INTRO  G_E_F_O_INTRO  \\\n",
       "question                                                                    \n",
       "A_E_F_C_INTRO       0.330887       4.736473       0.234184       0.880715   \n",
       "A_E_F_O_INTRO       0.252191       0.737285       1.183205       2.280252   \n",
       "A_E_F_T_INTRO       4.538656       3.908554       0.225939       0.463425   \n",
       "C_E_F_C_INTRO       1.065062       0.409343       0.168060       5.994946   \n",
       "C_E_F_O_INTRO      11.512925       0.039417       0.029807       0.323975   \n",
       "\n",
       "               G_E_F_T_INTRO  A_E_M_C_INTRO  A_E_M_O_INTRO  A_E_M_T_INTRO  \\\n",
       "question                                                                    \n",
       "A_E_F_C_INTRO       1.802565       1.635389       0.995157       0.012614   \n",
       "A_E_F_O_INTRO       0.061705       0.232051       0.178976       0.322457   \n",
       "A_E_F_T_INTRO       1.842084       0.023528       1.053111       0.862724   \n",
       "C_E_F_C_INTRO       0.016359       1.361078       1.270047       0.954156   \n",
       "C_E_F_O_INTRO       0.396074       2.101501       0.267411       0.210633   \n",
       "\n",
       "               C_E_M_C_INTRO  C_E_M_O_INTRO  C_E_M_T_INTRO  G_E_M_C_INTRO  \\\n",
       "question                                                                    \n",
       "A_E_F_C_INTRO       0.050675       1.859389       2.516460       2.649721   \n",
       "A_E_F_O_INTRO       0.381403       0.030734       0.649842       0.105222   \n",
       "A_E_F_T_INTRO       0.138134       0.233455       1.053111      11.512925   \n",
       "C_E_F_C_INTRO       0.274616       0.340591       1.270047       0.219981   \n",
       "C_E_F_O_INTRO       0.381232       1.900334       1.069683       2.679624   \n",
       "\n",
       "               G_E_M_O_INTRO  G_E_M_T_INTRO  \n",
       "question                                     \n",
       "A_E_F_C_INTRO       0.269118       1.314547  \n",
       "A_E_F_O_INTRO       0.102574       0.186740  \n",
       "A_E_F_T_INTRO       0.225387       2.174700  \n",
       "C_E_F_C_INTRO      -0.000000       2.417845  \n",
       "C_E_F_O_INTRO      -0.000000       2.380607  "
      ]
     },
     "execution_count": 159,
     "metadata": {},
     "output_type": "execute_result"
    }
   ],
   "source": [
    "_df = pd.DataFrame(rows, columns=[\"question\"] + cols).set_index(\"question\")\n",
    "_df.head()"
   ]
  },
  {
   "cell_type": "code",
   "execution_count": 160,
   "metadata": {},
   "outputs": [
    {
     "data": {
      "text/plain": [
       "<matplotlib.axes._subplots.AxesSubplot at 0x1a1f6bffd0>"
      ]
     },
     "execution_count": 160,
     "metadata": {},
     "output_type": "execute_result"
    },
    {
     "data": {
      "image/png": "[encoded data removed]",
      "text/plain": [
       "<Figure size 1152x1152 with 2 Axes>"
      ]
     },
     "metadata": {
      "needs_background": "light"
     },
     "output_type": "display_data"
    }
   ],
   "source": [
    "plt.figure(figsize=(16,16))\n",
    "sns.heatmap(_df)"
   ]
  },
  {
   "cell_type": "code",
   "execution_count": 97,
   "metadata": {},
   "outputs": [
    {
     "name": "stdout",
     "output_type": "stream",
     "text": [
      "\n",
      "=====================================\n",
      "C_H_M_CO_CORE  color  orientation\n",
      "G_H_M_CO_CORE                    \n",
      "color             87           43\n",
      "orientation       37           55\n",
      "-------------------------------------\n",
      "p-value: 0.0001\n",
      "=====================================\n",
      "\n",
      "\n"
     ]
    },
    {
     "data": {
      "text/plain": [
       "0.00013879150681610209"
      ]
     },
     "execution_count": 97,
     "metadata": {},
     "output_type": "execute_result"
    }
   ],
   "source": [
    "ChiSquare(userDf[\"G_H_M_CO_CORE\"], userDf[\"C_H_M_CO_CORE\"])"
   ]
  },
  {
   "cell_type": "code",
   "execution_count": null,
   "metadata": {},
   "outputs": [],
   "source": []
  },
  {
   "cell_type": "code",
   "execution_count": null,
   "metadata": {},
   "outputs": [],
   "source": []
  },
  {
   "cell_type": "markdown",
   "metadata": {},
   "source": [
    "## Do hard questions reveal a preference of students (19-27)"
   ]
  },
  {
   "cell_type": "code",
   "execution_count": null,
   "metadata": {},
   "outputs": [],
   "source": []
  },
  {
   "cell_type": "code",
   "execution_count": 20,
   "metadata": {},
   "outputs": [
    {
     "data": {
      "image/png": "[encoded data removed]",
      "text/plain": [
       "<Figure size 576x576 with 9 Axes>"
      ]
     },
     "metadata": {
      "needs_background": "light"
     },
     "output_type": "display_data"
    }
   ],
   "source": [
    "_D = dataDf[(dataDf.step > 17) & (dataDf.step < 27)].groupby([\"question\",\"user\"]).first().groupby([\"question\",\"result\"]).createdAt.count()\n",
    "\n",
    "plt.figure(figsize=(8,8))\n",
    "plt.subplots_adjust(left=0., bottom=0., right=1.2, top=1.2, wspace=None, hspace=None)\n",
    "\n",
    "def filterBars(array):\n",
    "    [c,o,t] = array\n",
    "    x = [\"orientation\",\"type\"] if c == 0 else [\"color\",\"type\"] if o == 0 else [\"color\",\"orientation\"]\n",
    "    y = [o,t] if c == 0 else [c,t] if o == 0 else [c,o]\n",
    "    return x,y\n",
    "\n",
    "for i,q in enumerate(_D.index.levels[0]):\n",
    "    plt.subplot(3,3,i+1)\n",
    "    c = _D.loc[q].loc[\"color\"] if \"color\" in _D.loc[q].index else 0\n",
    "    o = _D.loc[q].loc[\"orientation\"] if \"orientation\" in _D.loc[q].index else 0\n",
    "    t = _D.loc[q].loc[\"type\"] if \"type\" in _D.loc[q].index else 0\n",
    "    \n",
    "    x,y = filterBars([c,o,t])\n",
    "    plt.bar(x,y)\n",
    "    plt.title(q)\n",
    "    plt.ylim([0,220])\n",
    "    "
   ]
  },
  {
   "cell_type": "markdown",
   "metadata": {},
   "source": [
    "## Do hard questions reveal a preference of students (28-36)"
   ]
  },
  {
   "cell_type": "code",
   "execution_count": 21,
   "metadata": {},
   "outputs": [
    {
     "data": {
      "image/png": "[encoded data removed]",
      "text/plain": [
       "<Figure size 576x576 with 9 Axes>"
      ]
     },
     "metadata": {
      "needs_background": "light"
     },
     "output_type": "display_data"
    }
   ],
   "source": [
    "_D = dataDf[(dataDf.step > 26) & (dataDf.step < 36)].groupby([\"question\",\"user\"]).first().groupby([\"question\",\"result\"]).createdAt.count()\n",
    "\n",
    "plt.figure(figsize=(8,8))\n",
    "plt.subplots_adjust(left=0., bottom=0., right=1.2, top=1.2, wspace=None, hspace=None)\n",
    "\n",
    "for i,q in enumerate(_D.index.levels[0]):\n",
    "    plt.subplot(3,3,i+1)\n",
    "    c = _D.loc[q].loc[\"color\"] if \"color\" in _D.loc[q].index else 0\n",
    "    o = _D.loc[q].loc[\"orientation\"] if \"orientation\" in _D.loc[q].index else 0\n",
    "    t = _D.loc[q].loc[\"type\"] if \"type\" in _D.loc[q].index else 0\n",
    "    \n",
    "    \n",
    "    x,y = filterBars([c,o,t])\n",
    "    plt.bar(x,y)\n",
    "    plt.title(q)\n",
    "    plt.ylim([0,220])\n",
    "    "
   ]
  },
  {
   "cell_type": "markdown",
   "metadata": {},
   "source": [
    "## Does success rate to discover properties depends on the step (1-9) ? "
   ]
  },
  {
   "cell_type": "code",
   "execution_count": 22,
   "metadata": {
    "scrolled": false
   },
   "outputs": [
    {
     "name": "stdout",
     "output_type": "stream",
     "text": [
      "[array([531, 135]), array([562, 104]), array([553, 113])]\n"
     ]
    },
    {
     "data": {
      "text/plain": [
       "<Figure size 576x576 with 0 Axes>"
      ]
     },
     "metadata": {},
     "output_type": "display_data"
    },
    {
     "data": {
      "image/png": "[encoded data removed]",
      "text/plain": [
       "<Figure size 864x288 with 3 Axes>"
      ]
     },
     "metadata": {
      "needs_background": "light"
     },
     "output_type": "display_data"
    }
   ],
   "source": [
    "_D = dataDf[dataDf.step < 9].groupby([\"question\",\"user\"]).first().groupby([\"question\",\"step\",\"result\"]).createdAt.count()\n",
    "\n",
    "plt.figure(figsize=(8,8))\n",
    "plt.subplots_adjust(left=0., bottom=0., right=1.2, top=2.4, wspace=None, hspace=None)\n",
    "\n",
    "i = 1\n",
    "total = [np.array([0,0]),np.array([0,0]),np.array([0,0])]\n",
    "\n",
    "for q in _D.index.levels[0]:\n",
    "    for s in _D.loc[q].index.levels[0]:\n",
    "        if s not in _D.loc[q].index: continue\n",
    "        l = _D.loc[q].loc[s].loc[\"correct\"] if \"correct\" in _D.loc[q].loc[s].index else 0\n",
    "        r = _D.loc[q].loc[s].loc[\"wrong\"] if \"wrong\" in _D.loc[q].loc[s].index else 0\n",
    "\n",
    "        #plt.subplot(9,3,i)\n",
    "        i += 1\n",
    "        total[int(s/3) ] += np.array([l,r])\n",
    "        #plt.bar([\"correct\",\"wrong\"], [l,r])\n",
    "        #plt.title(str(q) + \"-\" + str(s))\n",
    "        #plt.ylim([0,80])\n",
    "        \n",
    "print(total)\n",
    "i = 0\n",
    "plt.figure(figsize=(12,4))\n",
    "for x in total:\n",
    "    i+=1\n",
    "    plt.subplot(1,3,i)\n",
    "    plt.bar([\"correct\", \"wrong\"], x)\n",
    "plt.show()"
   ]
  },
  {
   "cell_type": "code",
   "execution_count": null,
   "metadata": {},
   "outputs": [],
   "source": []
  },
  {
   "cell_type": "markdown",
   "metadata": {},
   "source": [
    "## Are feature coherently dominated?"
   ]
  },
  {
   "cell_type": "code",
   "execution_count": 23,
   "metadata": {},
   "outputs": [
    {
     "data": {
      "image/png": "[encoded data removed]",
      "text/plain": [
       "<Figure size 576x576 with 3 Axes>"
      ]
     },
     "metadata": {
      "needs_background": "light"
     },
     "output_type": "display_data"
    }
   ],
   "source": [
    "_D = dataDf[(dataDf.step > 17) & (dataDf.step < 36)].groupby([\"question\",\"user\"]).first().groupby([\"topic\",\"result\"]).createdAt.count()\n",
    "\n",
    "plt.figure(figsize=(8,8))\n",
    "plt.subplots_adjust(left=0., bottom=0., right=1.2, top=1.2, wspace=None, hspace=None)\n",
    "\n",
    "for i,q in enumerate(_D.index.levels[0]):\n",
    "    plt.subplot(3,3,i+1)\n",
    "    c = _D.loc[q].loc[\"color\"] if \"color\" in _D.loc[q].index else 0\n",
    "    o = _D.loc[q].loc[\"orientation\"] if \"orientation\" in _D.loc[q].index else 0\n",
    "    t = _D.loc[q].loc[\"type\"] if \"type\" in _D.loc[q].index else 0\n",
    "    plt.bar([\"color\",\"orientation\",\"type\"], [c,o,t])\n",
    "    plt.title(q)\n",
    "    plt.ylim([0,800])\n",
    "    \n",
    "    "
   ]
  },
  {
   "cell_type": "markdown",
   "metadata": {},
   "source": [
    "## Are student coherent?"
   ]
  },
  {
   "cell_type": "code",
   "execution_count": 24,
   "metadata": {
    "scrolled": false
   },
   "outputs": [
    {
     "data": {
      "image/png": "[encoded data removed]",
      "text/plain": [
       "<Figure size 576x576 with 9 Axes>"
      ]
     },
     "metadata": {
      "needs_background": "light"
     },
     "output_type": "display_data"
    },
    {
     "data": {
      "image/png": "[encoded data removed]",
      "text/plain": [
       "<Figure size 288x288 with 1 Axes>"
      ]
     },
     "metadata": {
      "needs_background": "light"
     },
     "output_type": "display_data"
    }
   ],
   "source": [
    "_D = dataDf[(dataDf.step > 17) & (dataDf.step < 36)]\n",
    "\n",
    "results = [[0,0] for _ in range(9)]\n",
    "studentTypes = []\n",
    "\n",
    "for student in _D.user.unique():\n",
    "    _S = _D[(_D.user == student)]\n",
    "    incoherenceCount = 0\n",
    "    for i in range(9):\n",
    "        aF = _S[_S.question == qHF[i]].result.tolist()[0]\n",
    "        aM = _S[_S.question == qHM[i]].result.tolist()[0]\n",
    "        if aF == aM:\n",
    "            results[i][0] += 1\n",
    "        else:\n",
    "            results[i][1] += 1\n",
    "            incoherenceCount += 1\n",
    "    studentTypes.append(incoherenceCount)\n",
    "            \n",
    "\n",
    "plt.figure(figsize=(8,8))\n",
    "plt.subplots_adjust(left=0., bottom=0., right=1.2, top=1.2, wspace=None, hspace=None)\n",
    "\n",
    "for i in range(9):\n",
    "    plt.subplot(3,3,i+1)\n",
    "    plt.bar([\"coherent\",\"incoherent\"], results[i])\n",
    "    plt.title(qHF[i])\n",
    "    plt.ylim([0,300])\n",
    "    \n",
    "plt.figure(figsize=(4,4))\n",
    "plt.hist(studentTypes, bins=[-0.5 + k for k in range(10)])\n",
    "plt.show()"
   ]
  },
  {
   "cell_type": "code",
   "execution_count": 25,
   "metadata": {},
   "outputs": [
    {
     "data": {
      "text/plain": [
       "(array([1.3365e+04, 3.0091e+04, 3.0319e+04, 1.7621e+04, 6.6370e+03,\n",
       "        1.6370e+03, 3.0200e+02, 2.6000e+01, 2.0000e+00]),\n",
       " array([-0.5,  0.5,  1.5,  2.5,  3.5,  4.5,  5.5,  6.5,  7.5,  8.5]),\n",
       " <a list of 9 Patch objects>)"
      ]
     },
     "execution_count": 25,
     "metadata": {},
     "output_type": "execute_result"
    },
    {
     "data": {
      "image/png": "[encoded data removed]",
      "text/plain": [
       "<Figure size 432x288 with 1 Axes>"
      ]
     },
     "metadata": {
      "needs_background": "light"
     },
     "output_type": "display_data"
    }
   ],
   "source": [
    "counts = [ sum([np.random.random()>0.8 for _ in range(9)]) for _ in range(100000) ]\n",
    "\n",
    "plt.hist(counts, bins=[-0.5 + k for k in range(10)])\n",
    "\n"
   ]
  },
  {
   "cell_type": "markdown",
   "metadata": {},
   "source": [
    "## Are student coherent in the choice of feature?"
   ]
  },
  {
   "cell_type": "code",
   "execution_count": 26,
   "metadata": {},
   "outputs": [
    {
     "name": "stdout",
     "output_type": "stream",
     "text": [
      "['color' 'type']\n"
     ]
    },
    {
     "name": "stderr",
     "output_type": "stream",
     "text": [
      "/Users/louisfaucon/anaconda/lib/python3.6/site-packages/ipykernel_launcher.py:26: SettingWithCopyWarning: \n",
      "A value is trying to be set on a copy of a slice from a DataFrame.\n",
      "Try using .loc[row_indexer,col_indexer] = value instead\n",
      "\n",
      "See the caveats in the documentation: http://pandas.pydata.org/pandas-docs/stable/indexing.html#indexing-view-versus-copy\n"
     ]
    },
    {
     "name": "stdout",
     "output_type": "stream",
     "text": [
      "['orientation' 'type']\n",
      "['orientation' 'color']\n",
      "['type' 'color']\n",
      "['orientation' 'type']\n",
      "['orientation' 'color']\n",
      "['color' 'type']\n",
      "['orientation' 'type']\n",
      "['color' 'orientation']\n"
     ]
    },
    {
     "data": {
      "image/png": "[encoded data removed]",
      "text/plain": [
       "<Figure size 1152x864 with 9 Axes>"
      ]
     },
     "metadata": {
      "needs_background": "light"
     },
     "output_type": "display_data"
    }
   ],
   "source": [
    "_D = dataDf\n",
    "\n",
    "_students = []\n",
    "\n",
    "for student in _D.user.unique():\n",
    "    _S = _D[_D.user == student]\n",
    "    for i in range(9):\n",
    "        answers = _S[(_S.question == qHF[i]) | (_S.question == qHM[i])].result.tolist()\n",
    "        _students.append({\n",
    "            'question': qHF[i],\n",
    "            'answer1': answers[0],\n",
    "            'answer2': answers[1],\n",
    "            'ageGroup': _S.ageGroup.tolist()[0]\n",
    "        })\n",
    "\n",
    "Feature_Choices_Combined = pd.DataFrame(_students)\n",
    "Feature_Choices_Combined.head()\n",
    "\n",
    "\n",
    "plt.figure(figsize=(16,12))\n",
    "i = 1\n",
    "for q in qHF:\n",
    "    _D = Feature_Choices_Combined[Feature_Choices_Combined.question == (q)]\n",
    "    v = _D.answer1.unique()\n",
    "    print(v)\n",
    "    _D[\"combined\"] = _D.answer1 + _D.answer2\n",
    "    \n",
    "    a, A = sum(_D.combined == v[0] + v[0]), sum(_D.combined == v[0] + v[1])\n",
    "    b, B = sum(_D.combined == v[1] + v[0]), sum(_D.combined == v[1] + v[1])\n",
    "    \n",
    "    a, A = a / (a + A), A / (a + A)\n",
    "    b, B = b / (b + B), B / (b + B)\n",
    "    \n",
    "    plt.subplot(3,3,i)\n",
    "    plt.title(q[0] + q[-3:])\n",
    "    plt.bar([v[0][:4] + \"->\" + v[0][:4],v[0][:4] + \"->\" + v[1][:4],v[1][:4] + \"->\"  + v[0][:4],v[1][:4] + \"->\"  + v[1][:4]], [a,A,b,B])\n",
    "    plt.ylim([0,1])\n",
    "    i += 1\n",
    "    "
   ]
  },
  {
   "cell_type": "code",
   "execution_count": 27,
   "metadata": {},
   "outputs": [
    {
     "data": {
      "text/html": [
       "<div>\n",
       "<style scoped>\n",
       "    .dataframe tbody tr th:only-of-type {\n",
       "        vertical-align: middle;\n",
       "    }\n",
       "\n",
       "    .dataframe tbody tr th {\n",
       "        vertical-align: top;\n",
       "    }\n",
       "\n",
       "    .dataframe thead th {\n",
       "        text-align: right;\n",
       "    }\n",
       "</style>\n",
       "<table border=\"1\" class=\"dataframe\">\n",
       "  <thead>\n",
       "    <tr style=\"text-align: right;\">\n",
       "      <th></th>\n",
       "      <th>ageGroup</th>\n",
       "      <th>answer1</th>\n",
       "      <th>answer2</th>\n",
       "      <th>question</th>\n",
       "    </tr>\n",
       "  </thead>\n",
       "  <tbody>\n",
       "    <tr>\n",
       "      <th>0</th>\n",
       "      <td>11-13</td>\n",
       "      <td>color</td>\n",
       "      <td>color</td>\n",
       "      <td>A_H_F_CT</td>\n",
       "    </tr>\n",
       "    <tr>\n",
       "      <th>1</th>\n",
       "      <td>11-13</td>\n",
       "      <td>orientation</td>\n",
       "      <td>orientation</td>\n",
       "      <td>A_H_F_OT</td>\n",
       "    </tr>\n",
       "    <tr>\n",
       "      <th>2</th>\n",
       "      <td>11-13</td>\n",
       "      <td>orientation</td>\n",
       "      <td>color</td>\n",
       "      <td>A_H_F_CO</td>\n",
       "    </tr>\n",
       "    <tr>\n",
       "      <th>3</th>\n",
       "      <td>11-13</td>\n",
       "      <td>type</td>\n",
       "      <td>color</td>\n",
       "      <td>C_H_F_CT</td>\n",
       "    </tr>\n",
       "    <tr>\n",
       "      <th>4</th>\n",
       "      <td>11-13</td>\n",
       "      <td>orientation</td>\n",
       "      <td>orientation</td>\n",
       "      <td>C_H_F_OT</td>\n",
       "    </tr>\n",
       "  </tbody>\n",
       "</table>\n",
       "</div>"
      ],
      "text/plain": [
       "  ageGroup      answer1      answer2  question\n",
       "0    11-13        color        color  A_H_F_CT\n",
       "1    11-13  orientation  orientation  A_H_F_OT\n",
       "2    11-13  orientation        color  A_H_F_CO\n",
       "3    11-13         type        color  C_H_F_CT\n",
       "4    11-13  orientation  orientation  C_H_F_OT"
      ]
     },
     "execution_count": 27,
     "metadata": {},
     "output_type": "execute_result"
    }
   ],
   "source": [
    "Feature_Choices_Combined.head()"
   ]
  },
  {
   "cell_type": "markdown",
   "metadata": {},
   "source": [
    "## Are student resistant to change?"
   ]
  },
  {
   "cell_type": "code",
   "execution_count": 28,
   "metadata": {
    "scrolled": false
   },
   "outputs": [
    {
     "name": "stdout",
     "output_type": "stream",
     "text": [
      "['type', 'type', 'type', 'orientation', 'type']\n",
      "['orientation', 'orientation']\n",
      "['type', 'type', 'color', 'type']\n",
      "['orientation', 'type']\n",
      "['type', 'color']\n",
      "['color', 'orientation']\n",
      "['color', 'color', 'color', 'orientation']\n",
      "['type', 'orientation', 'orientation', 'type', 'type']\n",
      "['color', 'color', 'color', 'type', 'color']\n"
     ]
    },
    {
     "data": {
      "text/html": [
       "<div>\n",
       "<style scoped>\n",
       "    .dataframe tbody tr th:only-of-type {\n",
       "        vertical-align: middle;\n",
       "    }\n",
       "\n",
       "    .dataframe tbody tr th {\n",
       "        vertical-align: top;\n",
       "    }\n",
       "\n",
       "    .dataframe thead th {\n",
       "        text-align: right;\n",
       "    }\n",
       "</style>\n",
       "<table border=\"1\" class=\"dataframe\">\n",
       "  <thead>\n",
       "    <tr style=\"text-align: right;\">\n",
       "      <th></th>\n",
       "      <th>ageGroup</th>\n",
       "      <th>coherent1</th>\n",
       "      <th>coherent2</th>\n",
       "      <th>flexible1</th>\n",
       "      <th>flexible2</th>\n",
       "      <th>user</th>\n",
       "      <th>coherent</th>\n",
       "    </tr>\n",
       "  </thead>\n",
       "  <tbody>\n",
       "    <tr>\n",
       "      <th>0</th>\n",
       "      <td>11-13</td>\n",
       "      <td>True</td>\n",
       "      <td>False</td>\n",
       "      <td>True</td>\n",
       "      <td>False</td>\n",
       "      <td>1454962c</td>\n",
       "      <td>False</td>\n",
       "    </tr>\n",
       "    <tr>\n",
       "      <th>1</th>\n",
       "      <td>11-13</td>\n",
       "      <td>True</td>\n",
       "      <td>False</td>\n",
       "      <td>True</td>\n",
       "      <td>False</td>\n",
       "      <td>1454962c</td>\n",
       "      <td>False</td>\n",
       "    </tr>\n",
       "    <tr>\n",
       "      <th>2</th>\n",
       "      <td>11-13</td>\n",
       "      <td>False</td>\n",
       "      <td>False</td>\n",
       "      <td>True</td>\n",
       "      <td>False</td>\n",
       "      <td>1454962c</td>\n",
       "      <td>False</td>\n",
       "    </tr>\n",
       "    <tr>\n",
       "      <th>3</th>\n",
       "      <td>11-13</td>\n",
       "      <td>False</td>\n",
       "      <td>False</td>\n",
       "      <td>True</td>\n",
       "      <td>False</td>\n",
       "      <td>1454962c</td>\n",
       "      <td>False</td>\n",
       "    </tr>\n",
       "    <tr>\n",
       "      <th>4</th>\n",
       "      <td>11-13</td>\n",
       "      <td>True</td>\n",
       "      <td>True</td>\n",
       "      <td>True</td>\n",
       "      <td>False</td>\n",
       "      <td>1454962c</td>\n",
       "      <td>True</td>\n",
       "    </tr>\n",
       "    <tr>\n",
       "      <th>5</th>\n",
       "      <td>11-13</td>\n",
       "      <td>True</td>\n",
       "      <td>True</td>\n",
       "      <td>True</td>\n",
       "      <td>False</td>\n",
       "      <td>1454962c</td>\n",
       "      <td>True</td>\n",
       "    </tr>\n",
       "    <tr>\n",
       "      <th>6</th>\n",
       "      <td>11-13</td>\n",
       "      <td>False</td>\n",
       "      <td>True</td>\n",
       "      <td>False</td>\n",
       "      <td>False</td>\n",
       "      <td>1454962c</td>\n",
       "      <td>False</td>\n",
       "    </tr>\n",
       "    <tr>\n",
       "      <th>7</th>\n",
       "      <td>11-13</td>\n",
       "      <td>False</td>\n",
       "      <td>True</td>\n",
       "      <td>False</td>\n",
       "      <td>True</td>\n",
       "      <td>1454962c</td>\n",
       "      <td>False</td>\n",
       "    </tr>\n",
       "    <tr>\n",
       "      <th>8</th>\n",
       "      <td>11-13</td>\n",
       "      <td>False</td>\n",
       "      <td>True</td>\n",
       "      <td>False</td>\n",
       "      <td>False</td>\n",
       "      <td>1454962c</td>\n",
       "      <td>False</td>\n",
       "    </tr>\n",
       "    <tr>\n",
       "      <th>9</th>\n",
       "      <td>11-13</td>\n",
       "      <td>True</td>\n",
       "      <td>False</td>\n",
       "      <td>True</td>\n",
       "      <td>False</td>\n",
       "      <td>d09631e3</td>\n",
       "      <td>False</td>\n",
       "    </tr>\n",
       "    <tr>\n",
       "      <th>10</th>\n",
       "      <td>11-13</td>\n",
       "      <td>False</td>\n",
       "      <td>False</td>\n",
       "      <td>True</td>\n",
       "      <td>True</td>\n",
       "      <td>d09631e3</td>\n",
       "      <td>False</td>\n",
       "    </tr>\n",
       "    <tr>\n",
       "      <th>11</th>\n",
       "      <td>11-13</td>\n",
       "      <td>True</td>\n",
       "      <td>True</td>\n",
       "      <td>False</td>\n",
       "      <td>True</td>\n",
       "      <td>d09631e3</td>\n",
       "      <td>True</td>\n",
       "    </tr>\n",
       "  </tbody>\n",
       "</table>\n",
       "</div>"
      ],
      "text/plain": [
       "   ageGroup  coherent1  coherent2  flexible1  flexible2      user  coherent\n",
       "0     11-13       True      False       True      False  1454962c     False\n",
       "1     11-13       True      False       True      False  1454962c     False\n",
       "2     11-13      False      False       True      False  1454962c     False\n",
       "3     11-13      False      False       True      False  1454962c     False\n",
       "4     11-13       True       True       True      False  1454962c      True\n",
       "5     11-13       True       True       True      False  1454962c      True\n",
       "6     11-13      False       True      False      False  1454962c     False\n",
       "7     11-13      False       True      False       True  1454962c     False\n",
       "8     11-13      False       True      False      False  1454962c     False\n",
       "9     11-13       True      False       True      False  d09631e3     False\n",
       "10    11-13      False      False       True       True  d09631e3     False\n",
       "11    11-13       True       True      False       True  d09631e3      True"
      ]
     },
     "execution_count": 28,
     "metadata": {},
     "output_type": "execute_result"
    }
   ],
   "source": [
    "_D = dataDf\n",
    "\n",
    "_students = []\n",
    "_delays = []\n",
    "\n",
    "for student in _D.user.unique():\n",
    "    _S = _D[(_D.user == student)]\n",
    "    incoherenceCount = 0\n",
    "    for i in range(9):\n",
    "        answers = _S[(_S.question == qHF[i]) | (_S.question == qHM[i])].result.tolist()\n",
    "        if len(answers) < 6:\n",
    "            print(answers)\n",
    "            continue\n",
    "\n",
    "        _students.append({\n",
    "            \"user\": _S.user.tolist()[0],\n",
    "            'coherent1': answers[0] == answers[1],\n",
    "            'coherent2': answers[0] == answers[2],\n",
    "            'flexible1': answers[3] == answers[4],\n",
    "            'flexible2': answers[3] == answers[5],\n",
    "            'ageGroup': _S.ageGroup.tolist()[0]\n",
    "        })\n",
    "        \n",
    "        _delays.append({\n",
    "            \"user\": _S.user.tolist()[0],\n",
    "            'ageGroup': _S.ageGroup.tolist()[0],\n",
    "            \"delay\": False,\n",
    "            'flexible': answers[3] == answers[4],\n",
    "        })\n",
    "        _delays.append({\n",
    "            \"user\": _S.user.tolist()[0],\n",
    "            'ageGroup': _S.ageGroup.tolist()[0],\n",
    "            \"delay\": True,\n",
    "            'flexible': answers[3] == answers[5],\n",
    "        })\n",
    "\n",
    "Coherence_Flexibility = pd.DataFrame(_students)\n",
    "Coherence_Flexibility[\"coherent\"] = Coherence_Flexibility.coherent1 & Coherence_Flexibility.coherent2\n",
    "\n",
    "Delay_Flexibility = pd.DataFrame(_delays)\n",
    "\n",
    "Coherence_Flexibility.head(12)\n"
   ]
  },
  {
   "cell_type": "code",
   "execution_count": 29,
   "metadata": {},
   "outputs": [
    {
     "data": {
      "image/png": "[encoded data removed]",
      "text/plain": [
       "<Figure size 864x864 with 4 Axes>"
      ]
     },
     "metadata": {
      "needs_background": "light"
     },
     "output_type": "display_data"
    }
   ],
   "source": [
    "plt.figure(figsize=(12,12))\n",
    "\n",
    "plt.title(\"\")\n",
    "plt.subplot(2,2,1)\n",
    "sns.countplot(x=\"flexible1\", hue=\"ageGroup\", data=Coherence_Flexibility)\n",
    "plt.subplot(2,2,2)\n",
    "sns.countplot(x=\"flexible2\", data=Coherence_Flexibility)\n",
    "\n",
    "\n",
    "plt.subplot(2,2,3)\n",
    "sns.countplot(x=\"flexible1\", data=Coherence_Flexibility[Coherence_Flexibility.coherent1 & Coherence_Flexibility.coherent2])\n",
    "plt.subplot(2,2,4)\n",
    "sns.countplot(x=\"flexible2\", data=Coherence_Flexibility[Coherence_Flexibility.coherent1 & Coherence_Flexibility.coherent2])\n",
    "\n",
    "\n",
    "plt.show()"
   ]
  },
  {
   "cell_type": "code",
   "execution_count": 30,
   "metadata": {},
   "outputs": [
    {
     "ename": "NameError",
     "evalue": "name '_resultDf' is not defined",
     "output_type": "error",
     "traceback": [
      "\u001b[0;31m---------------------------------------------------------------------------\u001b[0m",
      "\u001b[0;31mNameError\u001b[0m                                 Traceback (most recent call last)",
      "\u001b[0;32m<ipython-input-30-3ac57ab2ab21>\u001b[0m in \u001b[0;36m<module>\u001b[0;34m\u001b[0m\n\u001b[0;32m----> 1\u001b[0;31m \u001b[0msum\u001b[0m\u001b[0;34m(\u001b[0m\u001b[0m_resultDf\u001b[0m\u001b[0;34m.\u001b[0m\u001b[0mflexible1\u001b[0m\u001b[0;34m)\u001b[0m\u001b[0;34m,\u001b[0m \u001b[0mlen\u001b[0m\u001b[0;34m(\u001b[0m\u001b[0m_resultDf\u001b[0m\u001b[0;34m.\u001b[0m\u001b[0mflexible1\u001b[0m\u001b[0;34m)\u001b[0m \u001b[0;34m-\u001b[0m \u001b[0msum\u001b[0m\u001b[0;34m(\u001b[0m\u001b[0m_resultDf\u001b[0m\u001b[0;34m.\u001b[0m\u001b[0mflexible1\u001b[0m\u001b[0;34m)\u001b[0m\u001b[0;34m\u001b[0m\u001b[0;34m\u001b[0m\u001b[0m\n\u001b[0m",
      "\u001b[0;31mNameError\u001b[0m: name '_resultDf' is not defined"
     ]
    }
   ],
   "source": [
    "sum(_resultDf.flexible1), len(_resultDf.flexible1) - sum(_resultDf.flexible1)"
   ]
  },
  {
   "cell_type": "code",
   "execution_count": null,
   "metadata": {},
   "outputs": [],
   "source": [
    "_resultDf.head()"
   ]
  },
  {
   "cell_type": "code",
   "execution_count": null,
   "metadata": {},
   "outputs": [],
   "source": [
    "plt.figure(figsize=(12,6))\n",
    "\n",
    "plt.subplot(1,2,1)\n",
    "plt.title(\"Flexibility without delay\")\n",
    "sns.barplot(x=\"ageGroup\", y=\"flexible1\", data=_resultDf)\n",
    "plt.ylim([0,0.6])\n",
    "\n",
    "plt.subplot(1,2,2)\n",
    "plt.title(\"Flexibility with delay\")\n",
    "sns.barplot(x=\"ageGroup\", y=\"flexible2\", data=_resultDf)\n",
    "plt.ylim([0,0.6])"
   ]
  },
  {
   "cell_type": "code",
   "execution_count": null,
   "metadata": {},
   "outputs": [],
   "source": [
    "plt.figure(figsize=(6,6))\n",
    "\n",
    "sns.barplot(x=\"delay\", y=\"flexible\", data=Delay_Flexibility)\n",
    "plt.ylim([0,0.6])\n",
    "ChiSquare(Delay_Flexibility.delay,Delay_Flexibility.flexible)"
   ]
  },
  {
   "cell_type": "code",
   "execution_count": null,
   "metadata": {},
   "outputs": [],
   "source": [
    "plt.figure(figsize=(10,10))\n",
    "plt.subplots_adjust(wspace=0.25,hspace=0.25)\n",
    "\n",
    "plt.subplot(2,2,1)\n",
    "plt.title(\"SHORT TERM flexibility\")\n",
    "sns.barplot(x=\"coherent\", y=\"flexible1\", data=Coherence_Flexibility)\n",
    "plt.ylim([0,1])\n",
    "\n",
    "plt.subplot(2,2,2)\n",
    "plt.title(\"LONG TERM flexibility\")\n",
    "sns.barplot(x=\"coherent\", y=\"flexible2\", data=Coherence_Flexibility)\n",
    "plt.ylim([0,1])\n",
    "\n",
    "plt.subplot(2,2,3)\n",
    "sns.barplot(x=\"flexible1\", y=\"flexible2\", data=Coherence_Flexibility[Coherence_Flexibility.coherent])\n",
    "plt.ylim([0,1])\n",
    "\n",
    "plt.subplot(2,2,4)\n",
    "sns.barplot(x=\"flexible1\", y=\"flexible2\", data=Coherence_Flexibility[Coherence_Flexibility.coherent != True])\n",
    "plt.ylim([0,1])"
   ]
  },
  {
   "cell_type": "code",
   "execution_count": null,
   "metadata": {},
   "outputs": [],
   "source": [
    "_resultDf.groupby(\"coherent\").flexible1.value_counts()"
   ]
  },
  {
   "cell_type": "markdown",
   "metadata": {},
   "source": [
    "##"
   ]
  },
  {
   "cell_type": "markdown",
   "metadata": {},
   "source": [
    "##"
   ]
  },
  {
   "cell_type": "markdown",
   "metadata": {},
   "source": [
    "##"
   ]
  },
  {
   "cell_type": "code",
   "execution_count": null,
   "metadata": {},
   "outputs": [],
   "source": [
    "Feature_Choices_Combined.head()"
   ]
  },
  {
   "cell_type": "code",
   "execution_count": null,
   "metadata": {
    "scrolled": false
   },
   "outputs": [],
   "source": [
    "print(\"RQ: Is success on recognizing features BEFORE feedback dependent on topic ?\")\n",
    "ChiSquare(Questions_1_9.topic,Questions_1_9.result)\n",
    "\n",
    "print(\"RQ: Is success on recognizing features BEFORE feedback dependent on agegroup ?\")\n",
    "ChiSquare(Questions_1_9.ageGroup,Questions_1_9.result)\n",
    "\n",
    "print(\"RQ: Is success on recognizing features improved by the feedback ?\")\n",
    "ChiSquare(Questions_1_18.feedback,Questions_1_18.result)\n",
    "\n",
    "print(\"RQ: Is success on recognizing features AFTER feedback dependent on topic ?\")\n",
    "ChiSquare(Questions_10_18.topic, Questions_10_18.result)\n",
    "\n",
    "print(\"RQ: Is success on recognizing features AFTER feedback dependent on agegroup ?\")\n",
    "ChiSquare(Questions_10_18.ageGroup, Questions_10_18.result)\n",
    "\n",
    "print(\"RQ: Is feature preference dependant on the topic ?\")\n",
    "ChiSquare(Questions_19_27.topic, Questions_19_27.result)\n",
    "ChiSquare(Questions_28_36.topic, Questions_28_36.result)\n",
    "\n",
    "print(\"RQ: Is feature preference consistent ?\")\n",
    "for q in qHF:\n",
    "    _D = Feature_Choices_Combined[Feature_Choices_Combined.question == q]\n",
    "    ChiSquare(_D.answer1, _D.answer2)\n",
    "\n",
    "print(\"RQ: Does delay affects flexibility ?\")\n",
    "ChiSquare(Delay_Flexibility.delay,Delay_Flexibility.flexible)    \n",
    "\n",
    "print(\"RQ: Is flexibility dependent on previous coherence ?\")\n",
    "ChiSquare(Coherence_Flexibility.coherent, Coherence_Flexibility.flexible1)\n",
    "ChiSquare(Coherence_Flexibility.coherent, Coherence_Flexibility.flexible2)\n",
    "    \n",
    "print(\"RQ: Is flexibility dependent on ageGroup ?\")\n",
    "ChiSquare(Coherence_Flexibility.ageGroup, Coherence_Flexibility.flexible1)\n",
    "ChiSquare(Coherence_Flexibility.ageGroup, Coherence_Flexibility.flexible2)\n",
    "\n"
   ]
  },
  {
   "cell_type": "code",
   "execution_count": null,
   "metadata": {},
   "outputs": [],
   "source": []
  }
 ],
 "metadata": {
  "kernelspec": {
   "display_name": "Python 3",
   "language": "python",
   "name": "python3"
  }
 },
 "nbformat": 4,
 "nbformat_minor": 2
}
