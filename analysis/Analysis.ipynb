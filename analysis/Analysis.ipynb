{
 "cells": [
  {
   "cell_type": "code",
   "execution_count": 1,
   "metadata": {},
   "outputs": [],
   "source": [
    "import matplotlib.pyplot as plt\n",
    "import pandas as pd\n",
    "import numpy as np\n",
    "import seaborn as sns\n",
    "import scipy.stats as ss"
   ]
  },
  {
   "cell_type": "code",
   "execution_count": 2,
   "metadata": {},
   "outputs": [
    {
     "data": {
      "text/html": [
       "<div>\n",
       "<style scoped>\n",
       "    .dataframe tbody tr th:only-of-type {\n",
       "        vertical-align: middle;\n",
       "    }\n",
       "\n",
       "    .dataframe tbody tr th {\n",
       "        vertical-align: top;\n",
       "    }\n",
       "\n",
       "    .dataframe thead th {\n",
       "        text-align: right;\n",
       "    }\n",
       "</style>\n",
       "<table border=\"1\" class=\"dataframe\">\n",
       "  <thead>\n",
       "    <tr style=\"text-align: right;\">\n",
       "      <th></th>\n",
       "      <th>age</th>\n",
       "      <th>choice</th>\n",
       "      <th>createdAt</th>\n",
       "      <th>question</th>\n",
       "      <th>step</th>\n",
       "      <th>user</th>\n",
       "      <th>result</th>\n",
       "      <th>topic</th>\n",
       "      <th>ageGroup</th>\n",
       "    </tr>\n",
       "  </thead>\n",
       "  <tbody>\n",
       "    <tr>\n",
       "      <th>563</th>\n",
       "      <td>12</td>\n",
       "      <td>left</td>\n",
       "      <td>2019-05-28 12:17:02.647000+00:00</td>\n",
       "      <td>A_E_F_T</td>\n",
       "      <td>0</td>\n",
       "      <td>1454962c</td>\n",
       "      <td>correct</td>\n",
       "      <td>animals</td>\n",
       "      <td>11-13</td>\n",
       "    </tr>\n",
       "    <tr>\n",
       "      <th>14670</th>\n",
       "      <td>12</td>\n",
       "      <td>left</td>\n",
       "      <td>2019-05-28 12:17:09.350000+00:00</td>\n",
       "      <td>A_E_F_T</td>\n",
       "      <td>0</td>\n",
       "      <td>d09631e3</td>\n",
       "      <td>correct</td>\n",
       "      <td>animals</td>\n",
       "      <td>11-13</td>\n",
       "    </tr>\n",
       "    <tr>\n",
       "      <th>576</th>\n",
       "      <td>12</td>\n",
       "      <td>left</td>\n",
       "      <td>2019-05-28 12:17:11.176000+00:00</td>\n",
       "      <td>A_E_F_O</td>\n",
       "      <td>1</td>\n",
       "      <td>1454962c</td>\n",
       "      <td>wrong</td>\n",
       "      <td>animals</td>\n",
       "      <td>11-13</td>\n",
       "    </tr>\n",
       "    <tr>\n",
       "      <th>14612</th>\n",
       "      <td>12</td>\n",
       "      <td>left</td>\n",
       "      <td>2019-05-28 12:17:16.655000+00:00</td>\n",
       "      <td>A_E_F_O</td>\n",
       "      <td>1</td>\n",
       "      <td>d09631e3</td>\n",
       "      <td>wrong</td>\n",
       "      <td>animals</td>\n",
       "      <td>11-13</td>\n",
       "    </tr>\n",
       "    <tr>\n",
       "      <th>8022</th>\n",
       "      <td>12</td>\n",
       "      <td>left</td>\n",
       "      <td>2019-05-28 12:17:17.341000+00:00</td>\n",
       "      <td>A_E_F_T</td>\n",
       "      <td>0</td>\n",
       "      <td>6a36b606</td>\n",
       "      <td>correct</td>\n",
       "      <td>animals</td>\n",
       "      <td>11-13</td>\n",
       "    </tr>\n",
       "  </tbody>\n",
       "</table>\n",
       "</div>"
      ],
      "text/plain": [
       "       age choice                         createdAt question  step      user  \\\n",
       "563     12   left  2019-05-28 12:17:02.647000+00:00  A_E_F_T     0  1454962c   \n",
       "14670   12   left  2019-05-28 12:17:09.350000+00:00  A_E_F_T     0  d09631e3   \n",
       "576     12   left  2019-05-28 12:17:11.176000+00:00  A_E_F_O     1  1454962c   \n",
       "14612   12   left  2019-05-28 12:17:16.655000+00:00  A_E_F_O     1  d09631e3   \n",
       "8022    12   left  2019-05-28 12:17:17.341000+00:00  A_E_F_T     0  6a36b606   \n",
       "\n",
       "        result    topic ageGroup  \n",
       "563    correct  animals    11-13  \n",
       "14670  correct  animals    11-13  \n",
       "576      wrong  animals    11-13  \n",
       "14612    wrong  animals    11-13  \n",
       "8022   correct  animals    11-13  "
      ]
     },
     "execution_count": 2,
     "metadata": {},
     "output_type": "execute_result"
    }
   ],
   "source": [
    "dataDf = pd.read_csv(\"./induce-data-2019-07-16.csv\",index_col=0)\n",
    "dataDf.head()"
   ]
  },
  {
   "cell_type": "code",
   "execution_count": 3,
   "metadata": {},
   "outputs": [
    {
     "name": "stdout",
     "output_type": "stream",
     "text": [
      "number of students: 222\n"
     ]
    }
   ],
   "source": [
    "print(\"number of students:\", len(dataDf.user.unique()))"
   ]
  },
  {
   "cell_type": "code",
   "execution_count": null,
   "metadata": {},
   "outputs": [],
   "source": []
  },
  {
   "cell_type": "code",
   "execution_count": 4,
   "metadata": {},
   "outputs": [],
   "source": [
    "qHF = [\n",
    "    \"A_H_F_CT\",\n",
    "    \"A_H_F_OT\",\n",
    "    \"A_H_F_CO\",\n",
    "    \"C_H_F_CT\",\n",
    "    \"C_H_F_OT\",\n",
    "    \"C_H_F_CO\",\n",
    "    \"G_H_F_CT\",\n",
    "    \"G_H_F_OT\",\n",
    "    \"G_H_F_CO\",\n",
    "]\n",
    "\n",
    "qHM = [\n",
    "    \"A_H_M_CT\",\n",
    "    \"A_H_M_OT\",\n",
    "    \"A_H_M_CO\",\n",
    "    \"C_H_M_CT\",\n",
    "    \"C_H_M_OT\",\n",
    "    \"C_H_M_CO\",\n",
    "    \"G_H_M_CT\",\n",
    "    \"G_H_M_OT\",\n",
    "    \"G_H_M_CO\",\n",
    "]"
   ]
  },
  {
   "cell_type": "code",
   "execution_count": null,
   "metadata": {},
   "outputs": [],
   "source": []
  },
  {
   "cell_type": "code",
   "execution_count": null,
   "metadata": {},
   "outputs": [],
   "source": []
  },
  {
   "cell_type": "code",
   "execution_count": 5,
   "metadata": {},
   "outputs": [
    {
     "data": {
      "text/plain": [
       "(array([  9.,  64.,  11.,  14., 100.,  24.,   0.]),\n",
       " array([ 7.5,  8.5,  9.5, 10.5, 11.5, 12.5, 13.5, 14.5]),\n",
       " <a list of 7 Patch objects>)"
      ]
     },
     "execution_count": 5,
     "metadata": {},
     "output_type": "execute_result"
    },
    {
     "data": {
      "image/png": "[encoded data removed]",
      "text/plain": [
       "<Figure size 432x288 with 1 Axes>"
      ]
     },
     "metadata": {
      "needs_background": "light"
     },
     "output_type": "display_data"
    }
   ],
   "source": [
    "plt.hist([int(x) for x in dataDf.groupby(\"user\").first().age.tolist()], bins=[7.5 + k for k in range(8)])"
   ]
  },
  {
   "cell_type": "code",
   "execution_count": null,
   "metadata": {},
   "outputs": [],
   "source": []
  },
  {
   "cell_type": "code",
   "execution_count": null,
   "metadata": {},
   "outputs": [],
   "source": []
  },
  {
   "cell_type": "code",
   "execution_count": null,
   "metadata": {},
   "outputs": [],
   "source": []
  },
  {
   "cell_type": "code",
   "execution_count": null,
   "metadata": {},
   "outputs": [],
   "source": []
  },
  {
   "cell_type": "markdown",
   "metadata": {},
   "source": [
    "## Are the 9 first questions answered correctly?"
   ]
  },
  {
   "cell_type": "code",
   "execution_count": null,
   "metadata": {},
   "outputs": [],
   "source": [
    "\n"
   ]
  },
  {
   "cell_type": "code",
   "execution_count": 6,
   "metadata": {},
   "outputs": [],
   "source": [
    "def ChiSquare(x,y):\n",
    "    confusion_matrix = pd.crosstab(x,y)\n",
    "    chi2, p, dof, ex = ss.chi2_contingency(confusion_matrix)\n",
    "    print(\"\\n=====================================\")\n",
    "    print(confusion_matrix)\n",
    "    print(\"-------------------------------------\")\n",
    "    print(\"p-value: %.4f\" % p)\n",
    "    print(\"=====================================\\n\\n\")"
   ]
  },
  {
   "cell_type": "code",
   "execution_count": 35,
   "metadata": {
    "scrolled": false
   },
   "outputs": [
    {
     "data": {
      "text/html": [
       "<div>\n",
       "<style scoped>\n",
       "    .dataframe tbody tr th:only-of-type {\n",
       "        vertical-align: middle;\n",
       "    }\n",
       "\n",
       "    .dataframe tbody tr th {\n",
       "        vertical-align: top;\n",
       "    }\n",
       "\n",
       "    .dataframe thead th {\n",
       "        text-align: right;\n",
       "    }\n",
       "</style>\n",
       "<table border=\"1\" class=\"dataframe\">\n",
       "  <thead>\n",
       "    <tr style=\"text-align: right;\">\n",
       "      <th></th>\n",
       "      <th>question</th>\n",
       "      <th>user</th>\n",
       "      <th>age</th>\n",
       "      <th>choice</th>\n",
       "      <th>createdAt</th>\n",
       "      <th>step</th>\n",
       "      <th>result</th>\n",
       "      <th>topic</th>\n",
       "      <th>ageGroup</th>\n",
       "      <th>feedback</th>\n",
       "    </tr>\n",
       "  </thead>\n",
       "  <tbody>\n",
       "    <tr>\n",
       "      <th>0</th>\n",
       "      <td>A_E_F_C</td>\n",
       "      <td>10fee518</td>\n",
       "      <td>12</td>\n",
       "      <td>left</td>\n",
       "      <td>2019-06-17 09:21:51.428000+00:00</td>\n",
       "      <td>5</td>\n",
       "      <td>wrong</td>\n",
       "      <td>animals</td>\n",
       "      <td>11-13</td>\n",
       "      <td>False</td>\n",
       "    </tr>\n",
       "    <tr>\n",
       "      <th>1</th>\n",
       "      <td>A_E_F_C</td>\n",
       "      <td>1147ad30</td>\n",
       "      <td>13</td>\n",
       "      <td>right</td>\n",
       "      <td>2019-06-13 06:24:10.514000+00:00</td>\n",
       "      <td>2</td>\n",
       "      <td>correct</td>\n",
       "      <td>animals</td>\n",
       "      <td>11-13</td>\n",
       "      <td>False</td>\n",
       "    </tr>\n",
       "    <tr>\n",
       "      <th>2</th>\n",
       "      <td>A_E_F_C</td>\n",
       "      <td>123c90fc</td>\n",
       "      <td>10</td>\n",
       "      <td>left</td>\n",
       "      <td>2019-06-05 12:54:26.105000+00:00</td>\n",
       "      <td>5</td>\n",
       "      <td>wrong</td>\n",
       "      <td>animals</td>\n",
       "      <td>8-10</td>\n",
       "      <td>False</td>\n",
       "    </tr>\n",
       "    <tr>\n",
       "      <th>3</th>\n",
       "      <td>A_E_F_C</td>\n",
       "      <td>12460a06</td>\n",
       "      <td>9</td>\n",
       "      <td>left</td>\n",
       "      <td>2019-06-13 06:44:53.257000+00:00</td>\n",
       "      <td>5</td>\n",
       "      <td>wrong</td>\n",
       "      <td>animals</td>\n",
       "      <td>8-10</td>\n",
       "      <td>False</td>\n",
       "    </tr>\n",
       "    <tr>\n",
       "      <th>4</th>\n",
       "      <td>A_E_F_C</td>\n",
       "      <td>128880be</td>\n",
       "      <td>9</td>\n",
       "      <td>left</td>\n",
       "      <td>2019-06-05 12:53:40.690000+00:00</td>\n",
       "      <td>8</td>\n",
       "      <td>wrong</td>\n",
       "      <td>animals</td>\n",
       "      <td>8-10</td>\n",
       "      <td>False</td>\n",
       "    </tr>\n",
       "    <tr>\n",
       "      <th>5</th>\n",
       "      <td>A_E_F_C</td>\n",
       "      <td>131ddb1e</td>\n",
       "      <td>12</td>\n",
       "      <td>right</td>\n",
       "      <td>2019-06-17 09:21:50.644000+00:00</td>\n",
       "      <td>5</td>\n",
       "      <td>correct</td>\n",
       "      <td>animals</td>\n",
       "      <td>11-13</td>\n",
       "      <td>False</td>\n",
       "    </tr>\n",
       "    <tr>\n",
       "      <th>6</th>\n",
       "      <td>A_E_F_C</td>\n",
       "      <td>13c4f1b0</td>\n",
       "      <td>9</td>\n",
       "      <td>left</td>\n",
       "      <td>2019-06-05 12:52:03.119000+00:00</td>\n",
       "      <td>8</td>\n",
       "      <td>wrong</td>\n",
       "      <td>animals</td>\n",
       "      <td>8-10</td>\n",
       "      <td>False</td>\n",
       "    </tr>\n",
       "    <tr>\n",
       "      <th>7</th>\n",
       "      <td>A_E_F_C</td>\n",
       "      <td>1454962c</td>\n",
       "      <td>12</td>\n",
       "      <td>right</td>\n",
       "      <td>2019-05-28 12:17:35.123000+00:00</td>\n",
       "      <td>2</td>\n",
       "      <td>correct</td>\n",
       "      <td>animals</td>\n",
       "      <td>11-13</td>\n",
       "      <td>False</td>\n",
       "    </tr>\n",
       "    <tr>\n",
       "      <th>8</th>\n",
       "      <td>A_E_F_C</td>\n",
       "      <td>152139ff</td>\n",
       "      <td>12</td>\n",
       "      <td>left</td>\n",
       "      <td>2019-06-13 06:23:02.344000+00:00</td>\n",
       "      <td>2</td>\n",
       "      <td>wrong</td>\n",
       "      <td>animals</td>\n",
       "      <td>11-13</td>\n",
       "      <td>False</td>\n",
       "    </tr>\n",
       "    <tr>\n",
       "      <th>9</th>\n",
       "      <td>A_E_F_C</td>\n",
       "      <td>155d1456</td>\n",
       "      <td>9</td>\n",
       "      <td>left</td>\n",
       "      <td>2019-06-13 06:44:21.819000+00:00</td>\n",
       "      <td>5</td>\n",
       "      <td>wrong</td>\n",
       "      <td>animals</td>\n",
       "      <td>8-10</td>\n",
       "      <td>False</td>\n",
       "    </tr>\n",
       "  </tbody>\n",
       "</table>\n",
       "</div>"
      ],
      "text/plain": [
       "  question      user  age choice                         createdAt  step  \\\n",
       "0  A_E_F_C  10fee518   12   left  2019-06-17 09:21:51.428000+00:00     5   \n",
       "1  A_E_F_C  1147ad30   13  right  2019-06-13 06:24:10.514000+00:00     2   \n",
       "2  A_E_F_C  123c90fc   10   left  2019-06-05 12:54:26.105000+00:00     5   \n",
       "3  A_E_F_C  12460a06    9   left  2019-06-13 06:44:53.257000+00:00     5   \n",
       "4  A_E_F_C  128880be    9   left  2019-06-05 12:53:40.690000+00:00     8   \n",
       "5  A_E_F_C  131ddb1e   12  right  2019-06-17 09:21:50.644000+00:00     5   \n",
       "6  A_E_F_C  13c4f1b0    9   left  2019-06-05 12:52:03.119000+00:00     8   \n",
       "7  A_E_F_C  1454962c   12  right  2019-05-28 12:17:35.123000+00:00     2   \n",
       "8  A_E_F_C  152139ff   12   left  2019-06-13 06:23:02.344000+00:00     2   \n",
       "9  A_E_F_C  155d1456    9   left  2019-06-13 06:44:21.819000+00:00     5   \n",
       "\n",
       "    result    topic ageGroup  feedback  \n",
       "0    wrong  animals    11-13     False  \n",
       "1  correct  animals    11-13     False  \n",
       "2    wrong  animals     8-10     False  \n",
       "3    wrong  animals     8-10     False  \n",
       "4    wrong  animals     8-10     False  \n",
       "5  correct  animals    11-13     False  \n",
       "6    wrong  animals     8-10     False  \n",
       "7  correct  animals    11-13     False  \n",
       "8    wrong  animals    11-13     False  \n",
       "9    wrong  animals     8-10     False  "
      ]
     },
     "execution_count": 35,
     "metadata": {},
     "output_type": "execute_result"
    }
   ],
   "source": [
    "Questions_1_9 = dataDf[dataDf.step < 9].groupby([\"user\",\"question\"]).first().reset_index()\n",
    "Questions_10_18 = dataDf[(dataDf.step > 8) & (dataDf.step < 18)].groupby([\"question\",\"user\"]).first().reset_index()\n",
    "Questions_1_18 = dataDf[(dataDf.step < 18)].groupby([\"question\",\"user\"]).first().reset_index()\n",
    "Questions_1_18[\"feedback\"] = Questions_1_18.step > 8\n",
    "Questions_19_27 = dataDf[(dataDf.step > 17) & (dataDf.step < 27)].groupby([\"question\",\"user\"]).first().reset_index()\n",
    "Questions_28_36 = dataDf[(dataDf.step > 27) & (dataDf.step < 36)].groupby([\"question\",\"user\"]).first().reset_index()\n",
    "Questions_1_18.head(10)"
   ]
  },
  {
   "cell_type": "code",
   "execution_count": 8,
   "metadata": {},
   "outputs": [
    {
     "data": {
      "text/plain": [
       "(0, 225)"
      ]
     },
     "execution_count": 8,
     "metadata": {},
     "output_type": "execute_result"
    },
    {
     "data": {
      "image/png": "[encoded data removed]",
      "text/plain": [
       "<Figure size 648x504 with 2 Axes>"
      ]
     },
     "metadata": {
      "needs_background": "light"
     },
     "output_type": "display_data"
    }
   ],
   "source": [
    "plt.figure(figsize=(9,7))\n",
    "plt.subplots_adjust(hspace=0.4)\n",
    "\n",
    "plt.subplot(2,1,1)\n",
    "sns.countplot(x=\"question\", hue=\"result\", data=Questions_1_9.sort_values(by=[\"question\",\"result\"]))\n",
    "plt.title(\"BEFORE feedback\")\n",
    "plt.ylim([0,225])\n",
    "\n",
    "plt.subplot(2,1,2)\n",
    "sns.countplot(x=\"question\", hue=\"result\", data=Questions_10_18.sort_values(by=[\"question\",\"result\"]))\n",
    "plt.title(\"AFTER feedback\")\n",
    "plt.ylim([0,225])"
   ]
  },
  {
   "cell_type": "code",
   "execution_count": 37,
   "metadata": {},
   "outputs": [
    {
     "name": "stdout",
     "output_type": "stream",
     "text": [
      "\n",
      "=====================================\n",
      "result    correct  wrong\n",
      "feedback                \n",
      "False        1646    352\n",
      "True         1758    240\n",
      "-------------------------------------\n",
      "p-value: 0.0000\n",
      "=====================================\n",
      "\n",
      "\n"
     ]
    },
    {
     "data": {
      "text/plain": [
       "<matplotlib.axes._subplots.AxesSubplot at 0x1a17645588>"
      ]
     },
     "execution_count": 37,
     "metadata": {},
     "output_type": "execute_result"
    },
    {
     "data": {
      "image/png": "[encoded data removed]",
      "text/plain": [
       "<Figure size 432x288 with 1 Axes>"
      ]
     },
     "metadata": {
      "needs_background": "light"
     },
     "output_type": "display_data"
    }
   ],
   "source": [
    "ChiSquare(Questions_1_18.feedback,Questions_1_18.result)\n",
    "sns.countplot(x=\"feedback\", hue=\"result\", data=Questions_1_18.sort_values(by=[\"question\",\"result\"]))\n"
   ]
  },
  {
   "cell_type": "code",
   "execution_count": 69,
   "metadata": {},
   "outputs": [
    {
     "data": {
      "text/plain": [
       "<matplotlib.axes._subplots.AxesSubplot at 0x10cd66c50>"
      ]
     },
     "execution_count": 69,
     "metadata": {},
     "output_type": "execute_result"
    },
    {
     "data": {
      "image/png": "[encoded data removed]",
      "text/plain": [
       "<Figure size 432x288 with 1 Axes>"
      ]
     },
     "metadata": {
      "needs_background": "light"
     },
     "output_type": "display_data"
    }
   ],
   "source": [
    "_D = Questions_1_18\n",
    "_D[\"result_\"] = _D.result != \"wrong\" \n",
    "\n",
    "sns.barplot(x=\"feedback\", y=\"result_\", hue=\"ageGroup\", data=Questions_1_18.sort_values(by=[\"question\",\"result\"]))\n"
   ]
  },
  {
   "cell_type": "code",
   "execution_count": 9,
   "metadata": {},
   "outputs": [
    {
     "data": {
      "text/plain": [
       "(0, 450)"
      ]
     },
     "execution_count": 9,
     "metadata": {},
     "output_type": "execute_result"
    },
    {
     "data": {
      "image/png": "[encoded data removed]",
      "text/plain": [
       "<Figure size 648x504 with 2 Axes>"
      ]
     },
     "metadata": {
      "needs_background": "light"
     },
     "output_type": "display_data"
    }
   ],
   "source": [
    "plt.figure(figsize=(9,7))\n",
    "plt.subplots_adjust(hspace=0.4)\n",
    "\n",
    "plt.subplot(2,1,1)\n",
    "sns.countplot(x=\"topic\", hue=\"result\", data=Questions_19_27.sort_values(by=[\"question\",\"result\"]))\n",
    "plt.title(\"Topic Preference\")\n",
    "plt.ylim([0,450])\n",
    "\n",
    "plt.subplot(2,1,2)\n",
    "sns.countplot(x=\"topic\", hue=\"result\", data=Questions_28_36.sort_values(by=[\"question\",\"result\"]))\n",
    "plt.title(\"Topics\")\n",
    "plt.ylim([0,450])"
   ]
  },
  {
   "cell_type": "code",
   "execution_count": 10,
   "metadata": {},
   "outputs": [
    {
     "data": {
      "image/png": "[encoded data removed]",
      "text/plain": [
       "<Figure size 864x576 with 9 Axes>"
      ]
     },
     "metadata": {
      "needs_background": "light"
     },
     "output_type": "display_data"
    }
   ],
   "source": [
    "_D = Questions_1_9.groupby([\"question\",\"ageGroup\",\"result\"]).createdAt.count()\n",
    "\n",
    "plt.figure(figsize=(12,8))\n",
    "plt.subplots_adjust(left=0., bottom=0., right=1.2, top=1.2, wspace=None, hspace=None)\n",
    "\n",
    "for i,q in enumerate(_D.index.levels[0]):\n",
    "    plt.subplot(3,3,i+1)\n",
    "    \n",
    "    ly = _D.loc[q].loc[\"8-10\"].loc[\"correct\"] if \"correct\" in _D.loc[q].loc[\"8-10\"].index else 0.001\n",
    "    ry = _D.loc[q].loc[\"8-10\"].loc[\"wrong\"] if \"wrong\" in _D.loc[q].loc[\"8-10\"].index else 0.001\n",
    "    lo = _D.loc[q].loc[\"11-13\"].loc[\"correct\"] if \"correct\" in _D.loc[q].loc[\"11-13\"].index else 0.001\n",
    "    ro = _D.loc[q].loc[\"11-13\"].loc[\"wrong\"] if \"wrong\" in _D.loc[q].loc[\"11-13\"].index else 0.001\n",
    "    \n",
    "    ly, ry = ly / (ly + ry), ry / (ly + ry)\n",
    "    lo, ro = lo / (lo + ro), ro / (lo + ro)\n",
    "    \n",
    "    plt.bar([\"correct_8-10\",\"wrong_8-10\"], [ly,ry])\n",
    "    plt.bar([\"correct_11-13\",\"wrong_11-13\"], [lo,ro])\n",
    "    plt.title(q)\n",
    "    plt.ylim([0,1])\n",
    "\n"
   ]
  },
  {
   "cell_type": "markdown",
   "metadata": {},
   "source": [
    "## Are the features correctly answered in the questions 10-18 ?"
   ]
  },
  {
   "cell_type": "code",
   "execution_count": 11,
   "metadata": {},
   "outputs": [
    {
     "data": {
      "image/png": "[encoded data removed]",
      "text/plain": [
       "<Figure size 576x576 with 9 Axes>"
      ]
     },
     "metadata": {
      "needs_background": "light"
     },
     "output_type": "display_data"
    }
   ],
   "source": [
    "_D = Questions_10_18.groupby([\"question\",\"result\"]).createdAt.count()\n",
    "\n",
    "plt.figure(figsize=(8,8))\n",
    "plt.subplots_adjust(left=0., bottom=0., right=1.2, top=1.2, wspace=None, hspace=None)\n",
    "\n",
    "for i,q in enumerate(_D.index.levels[0]):\n",
    "    plt.subplot(3,3,i+1)\n",
    "    l = _D.loc[q].loc[\"correct\"] if \"correct\" in _D.loc[q].index else 0\n",
    "    r = _D.loc[q].loc[\"wrong\"] if \"wrong\" in _D.loc[q].index else 0\n",
    "    plt.bar([\"correct\",\"wrong\"], [l,r])\n",
    "    plt.title(q)\n",
    "    plt.ylim([0,225])\n"
   ]
  },
  {
   "cell_type": "code",
   "execution_count": 12,
   "metadata": {},
   "outputs": [
    {
     "data": {
      "image/png": "[encoded data removed]",
      "text/plain": [
       "<Figure size 864x864 with 9 Axes>"
      ]
     },
     "metadata": {
      "needs_background": "light"
     },
     "output_type": "display_data"
    }
   ],
   "source": [
    "_D = dataDf[(dataDf.step > 8) & (dataDf.step < 18)].groupby([\"question\",\"user\"]).first().groupby([\"question\",\"ageGroup\",\"result\"]).createdAt.count()\n",
    "\n",
    "plt.figure(figsize=(12,12))\n",
    "plt.subplots_adjust(left=0., bottom=0., right=1.2, top=1.2, wspace=None, hspace=None)\n",
    "\n",
    "_D\n",
    "\n",
    "\n",
    "for i,q in enumerate(_D.index.levels[0]):\n",
    "    plt.subplot(3,3,i+1)\n",
    "    \n",
    "    ly = _D.loc[q].loc[\"8-10\"].loc[\"correct\"] if \"correct\" in _D.loc[q].loc[\"8-10\"].index else 0.001\n",
    "    ry = _D.loc[q].loc[\"8-10\"].loc[\"wrong\"] if \"wrong\" in _D.loc[q].loc[\"8-10\"].index else 0.001\n",
    "    lo = _D.loc[q].loc[\"11-13\"].loc[\"correct\"] if \"correct\" in _D.loc[q].loc[\"11-13\"].index else 0.001\n",
    "    ro = _D.loc[q].loc[\"11-13\"].loc[\"wrong\"] if \"wrong\" in _D.loc[q].loc[\"11-13\"].index else 0.001\n",
    "    \n",
    "    ly, ry = ly / (ly + ry), ry / (ly + ry)\n",
    "    lo, ro = lo / (lo + ro), ro / (lo + ro)\n",
    "    \n",
    "    plt.bar([\"correct_8-10\",\"wrong_8-10\"], [ly,ry])\n",
    "    plt.bar([\"correct_11-13\",\"wrong_11-13\"], [lo,ro])\n",
    "    plt.title(q)\n",
    "    plt.ylim([0,1])\n"
   ]
  },
  {
   "cell_type": "code",
   "execution_count": 13,
   "metadata": {},
   "outputs": [
    {
     "name": "stdout",
     "output_type": "stream",
     "text": [
      "BY: 0.198 \t BO: 0.163\n",
      "AY: 0.146 \t AO: 0.105\n"
     ]
    },
    {
     "data": {
      "image/png": "[encoded data removed]",
      "text/plain": [
       "<Figure size 576x288 with 1 Axes>"
      ]
     },
     "metadata": {
      "needs_background": "light"
     },
     "output_type": "display_data"
    }
   ],
   "source": [
    "_D = dataDf[dataDf.step < 9].groupby([\"question\",\"user\"]).first().groupby([\"ageGroup\",\"result\"]).createdAt.count()\n",
    "\n",
    "plt.figure(figsize=(8,4))\n",
    "plt.subplots_adjust(left=0., bottom=0., right=1.2, top=1.2, wspace=None, hspace=None)\n",
    "   \n",
    "ly = _D.loc[\"8-10\"].loc[\"correct\"] if \"correct\" in _D.loc[\"8-10\"].index else 0.001\n",
    "ry = _D.loc[\"8-10\"].loc[\"wrong\"] if \"wrong\" in _D.loc[\"8-10\"].index else 0.001\n",
    "lo = _D.loc[\"11-13\"].loc[\"correct\"] if \"correct\" in _D.loc[\"11-13\"].index else 0.001\n",
    "ro = _D.loc[\"11-13\"].loc[\"wrong\"] if \"wrong\" in _D.loc[\"11-13\"].index else 0.001\n",
    "    \n",
    "ly, ry = ly / (ly + ry), ry / (ly + ry)\n",
    "lo, ro = lo / (lo + ro), ro / (lo + ro)\n",
    "    \n",
    "plt.bar([\"B_W_8-10\"], [ry])\n",
    "plt.bar([\"B_W_11-13\"], [ro])\n",
    "\n",
    "print(\"BY: %.3f \\t BO: %.3f\" % (ry,ro))\n",
    "\n",
    "_D = dataDf[(dataDf.step > 8) & (dataDf.step < 18)].groupby([\"question\",\"user\"]).first().groupby([\"ageGroup\",\"result\"]).createdAt.count()\n",
    "   \n",
    "ly = _D.loc[\"8-10\"].loc[\"correct\"] if \"correct\" in _D.loc[\"8-10\"].index else 0.001\n",
    "ry = _D.loc[\"8-10\"].loc[\"wrong\"] if \"wrong\" in _D.loc[\"8-10\"].index else 0.001\n",
    "lo = _D.loc[\"11-13\"].loc[\"correct\"] if \"correct\" in _D.loc[\"11-13\"].index else 0.001\n",
    "ro = _D.loc[\"11-13\"].loc[\"wrong\"] if \"wrong\" in _D.loc[\"11-13\"].index else 0.001\n",
    "    \n",
    "ly, ry = ly / (ly + ry), ry / (ly + ry)\n",
    "lo, ro = lo / (lo + ro), ro / (lo + ro)\n",
    "    \n",
    "#plt.bar([\"A_C_8-10\",\"A_W_8-10\"], [ly,ry])\n",
    "#plt.bar([\"A_C_11-13\",\"A_W_11-13\"], [lo,ro])\n",
    "\n",
    "plt.bar([\"A_W_8-10\"], [ry])\n",
    "plt.bar([\"A_W_11-13\"], [ro])\n",
    "\n",
    "print(\"AY: %.3f \\t AO: %.3f\" % (ry, ro))\n"
   ]
  },
  {
   "cell_type": "markdown",
   "metadata": {},
   "source": [
    "## Do hard questions reveal a preference of students (19-27)"
   ]
  },
  {
   "cell_type": "code",
   "execution_count": 14,
   "metadata": {},
   "outputs": [
    {
     "data": {
      "image/png": "[encoded data removed]",
      "text/plain": [
       "<Figure size 576x576 with 9 Axes>"
      ]
     },
     "metadata": {
      "needs_background": "light"
     },
     "output_type": "display_data"
    }
   ],
   "source": [
    "_D = dataDf[(dataDf.step > 17) & (dataDf.step < 27)].groupby([\"question\",\"user\"]).first().groupby([\"question\",\"result\"]).createdAt.count()\n",
    "\n",
    "plt.figure(figsize=(8,8))\n",
    "plt.subplots_adjust(left=0., bottom=0., right=1.2, top=1.2, wspace=None, hspace=None)\n",
    "\n",
    "def filterBars(array):\n",
    "    [c,o,t] = array\n",
    "    x = [\"orientation\",\"type\"] if c == 0 else [\"color\",\"type\"] if o == 0 else [\"color\",\"orientation\"]\n",
    "    y = [o,t] if c == 0 else [c,t] if o == 0 else [c,o]\n",
    "    return x,y\n",
    "\n",
    "for i,q in enumerate(_D.index.levels[0]):\n",
    "    plt.subplot(3,3,i+1)\n",
    "    c = _D.loc[q].loc[\"color\"] if \"color\" in _D.loc[q].index else 0\n",
    "    o = _D.loc[q].loc[\"orientation\"] if \"orientation\" in _D.loc[q].index else 0\n",
    "    t = _D.loc[q].loc[\"type\"] if \"type\" in _D.loc[q].index else 0\n",
    "    \n",
    "    x,y = filterBars([c,o,t])\n",
    "    plt.bar(x,y)\n",
    "    plt.title(q)\n",
    "    plt.ylim([0,220])\n",
    "    "
   ]
  },
  {
   "cell_type": "markdown",
   "metadata": {},
   "source": [
    "## Do hard questions reveal a preference of students (28-36)"
   ]
  },
  {
   "cell_type": "code",
   "execution_count": 15,
   "metadata": {},
   "outputs": [
    {
     "data": {
      "image/png": "[encoded data removed]",
      "text/plain": [
       "<Figure size 576x576 with 9 Axes>"
      ]
     },
     "metadata": {
      "needs_background": "light"
     },
     "output_type": "display_data"
    }
   ],
   "source": [
    "_D = dataDf[(dataDf.step > 26) & (dataDf.step < 36)].groupby([\"question\",\"user\"]).first().groupby([\"question\",\"result\"]).createdAt.count()\n",
    "\n",
    "plt.figure(figsize=(8,8))\n",
    "plt.subplots_adjust(left=0., bottom=0., right=1.2, top=1.2, wspace=None, hspace=None)\n",
    "\n",
    "for i,q in enumerate(_D.index.levels[0]):\n",
    "    plt.subplot(3,3,i+1)\n",
    "    c = _D.loc[q].loc[\"color\"] if \"color\" in _D.loc[q].index else 0\n",
    "    o = _D.loc[q].loc[\"orientation\"] if \"orientation\" in _D.loc[q].index else 0\n",
    "    t = _D.loc[q].loc[\"type\"] if \"type\" in _D.loc[q].index else 0\n",
    "    \n",
    "    \n",
    "    x,y = filterBars([c,o,t])\n",
    "    plt.bar(x,y)\n",
    "    plt.title(q)\n",
    "    plt.ylim([0,220])\n",
    "    "
   ]
  },
  {
   "cell_type": "markdown",
   "metadata": {},
   "source": [
    "## Does success rate to discover properties depends on the step (1-9) ? "
   ]
  },
  {
   "cell_type": "code",
   "execution_count": 16,
   "metadata": {
    "scrolled": false
   },
   "outputs": [
    {
     "name": "stdout",
     "output_type": "stream",
     "text": [
      "[array([531, 135]), array([562, 104]), array([553, 113])]\n"
     ]
    },
    {
     "data": {
      "text/plain": [
       "<Figure size 576x576 with 0 Axes>"
      ]
     },
     "metadata": {},
     "output_type": "display_data"
    },
    {
     "data": {
      "image/png": "[encoded data removed]",
      "text/plain": [
       "<Figure size 864x288 with 3 Axes>"
      ]
     },
     "metadata": {
      "needs_background": "light"
     },
     "output_type": "display_data"
    }
   ],
   "source": [
    "_D = dataDf[dataDf.step < 9].groupby([\"question\",\"user\"]).first().groupby([\"question\",\"step\",\"result\"]).createdAt.count()\n",
    "\n",
    "plt.figure(figsize=(8,8))\n",
    "plt.subplots_adjust(left=0., bottom=0., right=1.2, top=2.4, wspace=None, hspace=None)\n",
    "\n",
    "i = 1\n",
    "total = [np.array([0,0]),np.array([0,0]),np.array([0,0])]\n",
    "\n",
    "for q in _D.index.levels[0]:\n",
    "    for s in _D.loc[q].index.levels[0]:\n",
    "        if s not in _D.loc[q].index: continue\n",
    "        l = _D.loc[q].loc[s].loc[\"correct\"] if \"correct\" in _D.loc[q].loc[s].index else 0\n",
    "        r = _D.loc[q].loc[s].loc[\"wrong\"] if \"wrong\" in _D.loc[q].loc[s].index else 0\n",
    "\n",
    "        #plt.subplot(9,3,i)\n",
    "        i += 1\n",
    "        total[int(s/3) ] += np.array([l,r])\n",
    "        #plt.bar([\"correct\",\"wrong\"], [l,r])\n",
    "        #plt.title(str(q) + \"-\" + str(s))\n",
    "        #plt.ylim([0,80])\n",
    "        \n",
    "print(total)\n",
    "i = 0\n",
    "plt.figure(figsize=(12,4))\n",
    "for x in total:\n",
    "    i+=1\n",
    "    plt.subplot(1,3,i)\n",
    "    plt.bar([\"correct\", \"wrong\"], x)\n",
    "plt.show()"
   ]
  },
  {
   "cell_type": "code",
   "execution_count": null,
   "metadata": {},
   "outputs": [],
   "source": []
  },
  {
   "cell_type": "markdown",
   "metadata": {},
   "source": [
    "## Are feature coherently dominated?"
   ]
  },
  {
   "cell_type": "code",
   "execution_count": 17,
   "metadata": {},
   "outputs": [
    {
     "data": {
      "image/png": "[encoded data removed]",
      "text/plain": [
       "<Figure size 576x576 with 3 Axes>"
      ]
     },
     "metadata": {
      "needs_background": "light"
     },
     "output_type": "display_data"
    }
   ],
   "source": [
    "_D = dataDf[(dataDf.step > 17) & (dataDf.step < 36)].groupby([\"question\",\"user\"]).first().groupby([\"topic\",\"result\"]).createdAt.count()\n",
    "\n",
    "plt.figure(figsize=(8,8))\n",
    "plt.subplots_adjust(left=0., bottom=0., right=1.2, top=1.2, wspace=None, hspace=None)\n",
    "\n",
    "for i,q in enumerate(_D.index.levels[0]):\n",
    "    plt.subplot(3,3,i+1)\n",
    "    c = _D.loc[q].loc[\"color\"] if \"color\" in _D.loc[q].index else 0\n",
    "    o = _D.loc[q].loc[\"orientation\"] if \"orientation\" in _D.loc[q].index else 0\n",
    "    t = _D.loc[q].loc[\"type\"] if \"type\" in _D.loc[q].index else 0\n",
    "    plt.bar([\"color\",\"orientation\",\"type\"], [c,o,t])\n",
    "    plt.title(q)\n",
    "    plt.ylim([0,800])\n",
    "    \n",
    "    "
   ]
  },
  {
   "cell_type": "markdown",
   "metadata": {},
   "source": [
    "## Are student coherent?"
   ]
  },
  {
   "cell_type": "code",
   "execution_count": 18,
   "metadata": {
    "scrolled": false
   },
   "outputs": [
    {
     "data": {
      "image/png": "[encoded data removed]",
      "text/plain": [
       "<Figure size 576x576 with 9 Axes>"
      ]
     },
     "metadata": {
      "needs_background": "light"
     },
     "output_type": "display_data"
    },
    {
     "data": {
      "image/png": "[encoded data removed]",
      "text/plain": [
       "<Figure size 288x288 with 1 Axes>"
      ]
     },
     "metadata": {
      "needs_background": "light"
     },
     "output_type": "display_data"
    }
   ],
   "source": [
    "_D = dataDf[(dataDf.step > 17) & (dataDf.step < 36)]\n",
    "\n",
    "results = [[0,0] for _ in range(9)]\n",
    "studentTypes = []\n",
    "\n",
    "for student in _D.user.unique():\n",
    "    _S = _D[(_D.user == student)]\n",
    "    incoherenceCount = 0\n",
    "    for i in range(9):\n",
    "        aF = _S[_S.question == qHF[i]].result.tolist()[0]\n",
    "        aM = _S[_S.question == qHM[i]].result.tolist()[0]\n",
    "        if aF == aM:\n",
    "            results[i][0] += 1\n",
    "        else:\n",
    "            results[i][1] += 1\n",
    "            incoherenceCount += 1\n",
    "    studentTypes.append(incoherenceCount)\n",
    "            \n",
    "\n",
    "plt.figure(figsize=(8,8))\n",
    "plt.subplots_adjust(left=0., bottom=0., right=1.2, top=1.2, wspace=None, hspace=None)\n",
    "\n",
    "for i in range(9):\n",
    "    plt.subplot(3,3,i+1)\n",
    "    plt.bar([\"coherent\",\"incoherent\"], results[i])\n",
    "    plt.title(qHF[i])\n",
    "    plt.ylim([0,300])\n",
    "    \n",
    "plt.figure(figsize=(4,4))\n",
    "plt.hist(studentTypes, bins=[-0.5 + k for k in range(10)])\n",
    "plt.show()"
   ]
  },
  {
   "cell_type": "code",
   "execution_count": 19,
   "metadata": {},
   "outputs": [
    {
     "data": {
      "text/plain": [
       "(array([1.3375e+04, 3.0023e+04, 3.0457e+04, 1.7496e+04, 6.6270e+03,\n",
       "        1.7360e+03, 2.5600e+02, 2.8000e+01, 2.0000e+00]),\n",
       " array([-0.5,  0.5,  1.5,  2.5,  3.5,  4.5,  5.5,  6.5,  7.5,  8.5]),\n",
       " <a list of 9 Patch objects>)"
      ]
     },
     "execution_count": 19,
     "metadata": {},
     "output_type": "execute_result"
    },
    {
     "data": {
      "image/png": "[encoded data removed]",
      "text/plain": [
       "<Figure size 432x288 with 1 Axes>"
      ]
     },
     "metadata": {
      "needs_background": "light"
     },
     "output_type": "display_data"
    }
   ],
   "source": [
    "counts = [ sum([np.random.random()>0.8 for _ in range(9)]) for _ in range(100000) ]\n",
    "\n",
    "plt.hist(counts, bins=[-0.5 + k for k in range(10)])\n",
    "\n"
   ]
  },
  {
   "cell_type": "markdown",
   "metadata": {},
   "source": [
    "## Are student coherent in the choice of feature?"
   ]
  },
  {
   "cell_type": "code",
   "execution_count": 20,
   "metadata": {},
   "outputs": [
    {
     "name": "stdout",
     "output_type": "stream",
     "text": [
      "['color' 'type']\n"
     ]
    },
    {
     "name": "stderr",
     "output_type": "stream",
     "text": [
      "/Users/louisfaucon/anaconda/lib/python3.6/site-packages/ipykernel_launcher.py:26: SettingWithCopyWarning: \n",
      "A value is trying to be set on a copy of a slice from a DataFrame.\n",
      "Try using .loc[row_indexer,col_indexer] = value instead\n",
      "\n",
      "See the caveats in the documentation: http://pandas.pydata.org/pandas-docs/stable/indexing.html#indexing-view-versus-copy\n"
     ]
    },
    {
     "name": "stdout",
     "output_type": "stream",
     "text": [
      "['orientation' 'type']\n",
      "['orientation' 'color']\n",
      "['type' 'color']\n",
      "['orientation' 'type']\n",
      "['orientation' 'color']\n",
      "['color' 'type']\n",
      "['orientation' 'type']\n",
      "['color' 'orientation']\n"
     ]
    },
    {
     "data": {
      "image/png": "[encoded data removed]",
      "text/plain": [
       "<Figure size 1152x864 with 9 Axes>"
      ]
     },
     "metadata": {
      "needs_background": "light"
     },
     "output_type": "display_data"
    }
   ],
   "source": [
    "_D = dataDf\n",
    "\n",
    "_students = []\n",
    "\n",
    "for student in _D.user.unique():\n",
    "    _S = _D[_D.user == student]\n",
    "    for i in range(9):\n",
    "        answers = _S[(_S.question == qHF[i]) | (_S.question == qHM[i])].result.tolist()\n",
    "        _students.append({\n",
    "            'question': qHF[i],\n",
    "            'answer1': answers[0],\n",
    "            'answer2': answers[1],\n",
    "            'ageGroup': _S.ageGroup.tolist()[0]\n",
    "        })\n",
    "\n",
    "Feature_Choices_Combined = pd.DataFrame(_students)\n",
    "Feature_Choices_Combined.head()\n",
    "\n",
    "\n",
    "plt.figure(figsize=(16,12))\n",
    "i = 1\n",
    "for q in qHF:\n",
    "    _D = Feature_Choices_Combined[Feature_Choices_Combined.question == (q)]\n",
    "    v = _D.answer1.unique()\n",
    "    print(v)\n",
    "    _D[\"combined\"] = _D.answer1 + _D.answer2\n",
    "    \n",
    "    a, A = sum(_D.combined == v[0] + v[0]), sum(_D.combined == v[0] + v[1])\n",
    "    b, B = sum(_D.combined == v[1] + v[0]), sum(_D.combined == v[1] + v[1])\n",
    "    \n",
    "    a, A = a / (a + A), A / (a + A)\n",
    "    b, B = b / (b + B), B / (b + B)\n",
    "    \n",
    "    plt.subplot(3,3,i)\n",
    "    plt.title(q[0] + q[-3:])\n",
    "    plt.bar([v[0][:4] + \"->\" + v[0][:4],v[0][:4] + \"->\" + v[1][:4],v[1][:4] + \"->\"  + v[0][:4],v[1][:4] + \"->\"  + v[1][:4]], [a,A,b,B])\n",
    "    plt.ylim([0,1])\n",
    "    i += 1\n",
    "    "
   ]
  },
  {
   "cell_type": "code",
   "execution_count": 21,
   "metadata": {},
   "outputs": [
    {
     "data": {
      "text/html": [
       "<div>\n",
       "<style scoped>\n",
       "    .dataframe tbody tr th:only-of-type {\n",
       "        vertical-align: middle;\n",
       "    }\n",
       "\n",
       "    .dataframe tbody tr th {\n",
       "        vertical-align: top;\n",
       "    }\n",
       "\n",
       "    .dataframe thead th {\n",
       "        text-align: right;\n",
       "    }\n",
       "</style>\n",
       "<table border=\"1\" class=\"dataframe\">\n",
       "  <thead>\n",
       "    <tr style=\"text-align: right;\">\n",
       "      <th></th>\n",
       "      <th>ageGroup</th>\n",
       "      <th>answer1</th>\n",
       "      <th>answer2</th>\n",
       "      <th>question</th>\n",
       "    </tr>\n",
       "  </thead>\n",
       "  <tbody>\n",
       "    <tr>\n",
       "      <th>0</th>\n",
       "      <td>11-13</td>\n",
       "      <td>color</td>\n",
       "      <td>color</td>\n",
       "      <td>A_H_F_CT</td>\n",
       "    </tr>\n",
       "    <tr>\n",
       "      <th>1</th>\n",
       "      <td>11-13</td>\n",
       "      <td>orientation</td>\n",
       "      <td>orientation</td>\n",
       "      <td>A_H_F_OT</td>\n",
       "    </tr>\n",
       "    <tr>\n",
       "      <th>2</th>\n",
       "      <td>11-13</td>\n",
       "      <td>orientation</td>\n",
       "      <td>color</td>\n",
       "      <td>A_H_F_CO</td>\n",
       "    </tr>\n",
       "    <tr>\n",
       "      <th>3</th>\n",
       "      <td>11-13</td>\n",
       "      <td>type</td>\n",
       "      <td>color</td>\n",
       "      <td>C_H_F_CT</td>\n",
       "    </tr>\n",
       "    <tr>\n",
       "      <th>4</th>\n",
       "      <td>11-13</td>\n",
       "      <td>orientation</td>\n",
       "      <td>orientation</td>\n",
       "      <td>C_H_F_OT</td>\n",
       "    </tr>\n",
       "  </tbody>\n",
       "</table>\n",
       "</div>"
      ],
      "text/plain": [
       "  ageGroup      answer1      answer2  question\n",
       "0    11-13        color        color  A_H_F_CT\n",
       "1    11-13  orientation  orientation  A_H_F_OT\n",
       "2    11-13  orientation        color  A_H_F_CO\n",
       "3    11-13         type        color  C_H_F_CT\n",
       "4    11-13  orientation  orientation  C_H_F_OT"
      ]
     },
     "execution_count": 21,
     "metadata": {},
     "output_type": "execute_result"
    }
   ],
   "source": [
    "Feature_Choices_Combined.head()"
   ]
  },
  {
   "cell_type": "markdown",
   "metadata": {},
   "source": [
    "## Are student resistant to change?"
   ]
  },
  {
   "cell_type": "code",
   "execution_count": 73,
   "metadata": {
    "scrolled": false
   },
   "outputs": [
    {
     "name": "stdout",
     "output_type": "stream",
     "text": [
      "['type', 'type', 'type', 'orientation', 'type']\n",
      "['orientation', 'orientation']\n",
      "['type', 'type', 'color', 'type']\n",
      "['orientation', 'type']\n",
      "['type', 'color']\n",
      "['color', 'orientation']\n",
      "['color', 'color', 'color', 'orientation']\n",
      "['type', 'orientation', 'orientation', 'type', 'type']\n",
      "['color', 'color', 'color', 'type', 'color']\n"
     ]
    },
    {
     "data": {
      "text/html": [
       "<div>\n",
       "<style scoped>\n",
       "    .dataframe tbody tr th:only-of-type {\n",
       "        vertical-align: middle;\n",
       "    }\n",
       "\n",
       "    .dataframe tbody tr th {\n",
       "        vertical-align: top;\n",
       "    }\n",
       "\n",
       "    .dataframe thead th {\n",
       "        text-align: right;\n",
       "    }\n",
       "</style>\n",
       "<table border=\"1\" class=\"dataframe\">\n",
       "  <thead>\n",
       "    <tr style=\"text-align: right;\">\n",
       "      <th></th>\n",
       "      <th>ageGroup</th>\n",
       "      <th>coherent1</th>\n",
       "      <th>coherent2</th>\n",
       "      <th>flexible1</th>\n",
       "      <th>flexible2</th>\n",
       "      <th>user</th>\n",
       "      <th>coherent</th>\n",
       "    </tr>\n",
       "  </thead>\n",
       "  <tbody>\n",
       "    <tr>\n",
       "      <th>0</th>\n",
       "      <td>11-13</td>\n",
       "      <td>True</td>\n",
       "      <td>False</td>\n",
       "      <td>True</td>\n",
       "      <td>False</td>\n",
       "      <td>1454962c</td>\n",
       "      <td>False</td>\n",
       "    </tr>\n",
       "    <tr>\n",
       "      <th>1</th>\n",
       "      <td>11-13</td>\n",
       "      <td>True</td>\n",
       "      <td>False</td>\n",
       "      <td>True</td>\n",
       "      <td>False</td>\n",
       "      <td>1454962c</td>\n",
       "      <td>False</td>\n",
       "    </tr>\n",
       "    <tr>\n",
       "      <th>2</th>\n",
       "      <td>11-13</td>\n",
       "      <td>False</td>\n",
       "      <td>False</td>\n",
       "      <td>True</td>\n",
       "      <td>False</td>\n",
       "      <td>1454962c</td>\n",
       "      <td>False</td>\n",
       "    </tr>\n",
       "    <tr>\n",
       "      <th>3</th>\n",
       "      <td>11-13</td>\n",
       "      <td>False</td>\n",
       "      <td>False</td>\n",
       "      <td>True</td>\n",
       "      <td>False</td>\n",
       "      <td>1454962c</td>\n",
       "      <td>False</td>\n",
       "    </tr>\n",
       "    <tr>\n",
       "      <th>4</th>\n",
       "      <td>11-13</td>\n",
       "      <td>True</td>\n",
       "      <td>True</td>\n",
       "      <td>True</td>\n",
       "      <td>False</td>\n",
       "      <td>1454962c</td>\n",
       "      <td>True</td>\n",
       "    </tr>\n",
       "    <tr>\n",
       "      <th>5</th>\n",
       "      <td>11-13</td>\n",
       "      <td>True</td>\n",
       "      <td>True</td>\n",
       "      <td>True</td>\n",
       "      <td>False</td>\n",
       "      <td>1454962c</td>\n",
       "      <td>True</td>\n",
       "    </tr>\n",
       "    <tr>\n",
       "      <th>6</th>\n",
       "      <td>11-13</td>\n",
       "      <td>False</td>\n",
       "      <td>True</td>\n",
       "      <td>False</td>\n",
       "      <td>False</td>\n",
       "      <td>1454962c</td>\n",
       "      <td>False</td>\n",
       "    </tr>\n",
       "    <tr>\n",
       "      <th>7</th>\n",
       "      <td>11-13</td>\n",
       "      <td>False</td>\n",
       "      <td>True</td>\n",
       "      <td>False</td>\n",
       "      <td>True</td>\n",
       "      <td>1454962c</td>\n",
       "      <td>False</td>\n",
       "    </tr>\n",
       "    <tr>\n",
       "      <th>8</th>\n",
       "      <td>11-13</td>\n",
       "      <td>False</td>\n",
       "      <td>True</td>\n",
       "      <td>False</td>\n",
       "      <td>False</td>\n",
       "      <td>1454962c</td>\n",
       "      <td>False</td>\n",
       "    </tr>\n",
       "    <tr>\n",
       "      <th>9</th>\n",
       "      <td>11-13</td>\n",
       "      <td>True</td>\n",
       "      <td>False</td>\n",
       "      <td>True</td>\n",
       "      <td>False</td>\n",
       "      <td>d09631e3</td>\n",
       "      <td>False</td>\n",
       "    </tr>\n",
       "    <tr>\n",
       "      <th>10</th>\n",
       "      <td>11-13</td>\n",
       "      <td>False</td>\n",
       "      <td>False</td>\n",
       "      <td>True</td>\n",
       "      <td>True</td>\n",
       "      <td>d09631e3</td>\n",
       "      <td>False</td>\n",
       "    </tr>\n",
       "    <tr>\n",
       "      <th>11</th>\n",
       "      <td>11-13</td>\n",
       "      <td>True</td>\n",
       "      <td>True</td>\n",
       "      <td>False</td>\n",
       "      <td>True</td>\n",
       "      <td>d09631e3</td>\n",
       "      <td>True</td>\n",
       "    </tr>\n",
       "  </tbody>\n",
       "</table>\n",
       "</div>"
      ],
      "text/plain": [
       "   ageGroup  coherent1  coherent2  flexible1  flexible2      user  coherent\n",
       "0     11-13       True      False       True      False  1454962c     False\n",
       "1     11-13       True      False       True      False  1454962c     False\n",
       "2     11-13      False      False       True      False  1454962c     False\n",
       "3     11-13      False      False       True      False  1454962c     False\n",
       "4     11-13       True       True       True      False  1454962c      True\n",
       "5     11-13       True       True       True      False  1454962c      True\n",
       "6     11-13      False       True      False      False  1454962c     False\n",
       "7     11-13      False       True      False       True  1454962c     False\n",
       "8     11-13      False       True      False      False  1454962c     False\n",
       "9     11-13       True      False       True      False  d09631e3     False\n",
       "10    11-13      False      False       True       True  d09631e3     False\n",
       "11    11-13       True       True      False       True  d09631e3      True"
      ]
     },
     "execution_count": 73,
     "metadata": {},
     "output_type": "execute_result"
    }
   ],
   "source": [
    "_D = dataDf\n",
    "\n",
    "_students = []\n",
    "_delays = []\n",
    "\n",
    "for student in _D.user.unique():\n",
    "    _S = _D[(_D.user == student)]\n",
    "    incoherenceCount = 0\n",
    "    for i in range(9):\n",
    "        answers = _S[(_S.question == qHF[i]) | (_S.question == qHM[i])].result.tolist()\n",
    "        if len(answers) < 6:\n",
    "            print(answers)\n",
    "            continue\n",
    "\n",
    "        _students.append({\n",
    "            \"user\": _S.user.tolist()[0],\n",
    "            'coherent1': answers[0] == answers[1],\n",
    "            'coherent2': answers[0] == answers[2],\n",
    "            'flexible1': answers[3] == answers[4],\n",
    "            'flexible2': answers[3] == answers[5],\n",
    "            'ageGroup': _S.ageGroup.tolist()[0]\n",
    "        })\n",
    "        \n",
    "        _delays.append({\n",
    "            \"user\": _S.user.tolist()[0],\n",
    "            'ageGroup': _S.ageGroup.tolist()[0],\n",
    "            \"delay\": False,\n",
    "            'flexible': answers[3] == answers[4],\n",
    "        })\n",
    "        _delays.append({\n",
    "            \"user\": _S.user.tolist()[0],\n",
    "            'ageGroup': _S.ageGroup.tolist()[0],\n",
    "            \"delay\": True,\n",
    "            'flexible': answers[3] == answers[5],\n",
    "        })\n",
    "\n",
    "Coherence_Flexibility = pd.DataFrame(_students)\n",
    "Coherence_Flexibility[\"coherent\"] = Coherence_Flexibility.coherent1 & Coherence_Flexibility.coherent2\n",
    "\n",
    "Delay_Flexibility = pd.DataFrame(_delays)\n",
    "\n",
    "Coherence_Flexibility.head(12)\n"
   ]
  },
  {
   "cell_type": "code",
   "execution_count": 56,
   "metadata": {},
   "outputs": [
    {
     "data": {
      "image/png": "[encoded data removed]",
      "text/plain": [
       "<Figure size 864x864 with 4 Axes>"
      ]
     },
     "metadata": {
      "needs_background": "light"
     },
     "output_type": "display_data"
    }
   ],
   "source": [
    "plt.figure(figsize=(12,12))\n",
    "\n",
    "plt.title(\"\")\n",
    "plt.subplot(2,2,1)\n",
    "sns.countplot(x=\"flexible1\", hue=\"ageGroup\", data=Coherence_Flexibility)\n",
    "plt.subplot(2,2,2)\n",
    "sns.countplot(x=\"flexible2\", data=Coherence_Flexibility)\n",
    "\n",
    "\n",
    "plt.subplot(2,2,3)\n",
    "sns.countplot(x=\"flexible1\", data=Coherence_Flexibility[Coherence_Flexibility.coherent1 & Coherence_Flexibility.coherent2])\n",
    "plt.subplot(2,2,4)\n",
    "sns.countplot(x=\"flexible2\", data=Coherence_Flexibility[Coherence_Flexibility.coherent1 & Coherence_Flexibility.coherent2])\n",
    "\n",
    "\n",
    "plt.show()"
   ]
  },
  {
   "cell_type": "code",
   "execution_count": 57,
   "metadata": {},
   "outputs": [
    {
     "data": {
      "text/plain": [
       "(872, 1117)"
      ]
     },
     "execution_count": 57,
     "metadata": {},
     "output_type": "execute_result"
    }
   ],
   "source": [
    "sum(_resultDf.flexible1), len(_resultDf.flexible1) - sum(_resultDf.flexible1)"
   ]
  },
  {
   "cell_type": "code",
   "execution_count": 58,
   "metadata": {},
   "outputs": [
    {
     "data": {
      "text/html": [
       "<div>\n",
       "<style scoped>\n",
       "    .dataframe tbody tr th:only-of-type {\n",
       "        vertical-align: middle;\n",
       "    }\n",
       "\n",
       "    .dataframe tbody tr th {\n",
       "        vertical-align: top;\n",
       "    }\n",
       "\n",
       "    .dataframe thead th {\n",
       "        text-align: right;\n",
       "    }\n",
       "</style>\n",
       "<table border=\"1\" class=\"dataframe\">\n",
       "  <thead>\n",
       "    <tr style=\"text-align: right;\">\n",
       "      <th></th>\n",
       "      <th>ageGroup</th>\n",
       "      <th>coherent1</th>\n",
       "      <th>coherent2</th>\n",
       "      <th>flexible1</th>\n",
       "      <th>flexible2</th>\n",
       "      <th>coherent</th>\n",
       "    </tr>\n",
       "  </thead>\n",
       "  <tbody>\n",
       "    <tr>\n",
       "      <th>0</th>\n",
       "      <td>11-13</td>\n",
       "      <td>True</td>\n",
       "      <td>False</td>\n",
       "      <td>True</td>\n",
       "      <td>False</td>\n",
       "      <td>TrueFalse</td>\n",
       "    </tr>\n",
       "    <tr>\n",
       "      <th>1</th>\n",
       "      <td>11-13</td>\n",
       "      <td>True</td>\n",
       "      <td>False</td>\n",
       "      <td>True</td>\n",
       "      <td>False</td>\n",
       "      <td>TrueFalse</td>\n",
       "    </tr>\n",
       "    <tr>\n",
       "      <th>2</th>\n",
       "      <td>11-13</td>\n",
       "      <td>False</td>\n",
       "      <td>False</td>\n",
       "      <td>True</td>\n",
       "      <td>False</td>\n",
       "      <td>FalseFalse</td>\n",
       "    </tr>\n",
       "    <tr>\n",
       "      <th>3</th>\n",
       "      <td>11-13</td>\n",
       "      <td>False</td>\n",
       "      <td>False</td>\n",
       "      <td>True</td>\n",
       "      <td>False</td>\n",
       "      <td>FalseFalse</td>\n",
       "    </tr>\n",
       "    <tr>\n",
       "      <th>4</th>\n",
       "      <td>11-13</td>\n",
       "      <td>True</td>\n",
       "      <td>True</td>\n",
       "      <td>True</td>\n",
       "      <td>False</td>\n",
       "      <td>TrueTrue</td>\n",
       "    </tr>\n",
       "  </tbody>\n",
       "</table>\n",
       "</div>"
      ],
      "text/plain": [
       "  ageGroup  coherent1  coherent2  flexible1  flexible2    coherent\n",
       "0    11-13       True      False       True      False   TrueFalse\n",
       "1    11-13       True      False       True      False   TrueFalse\n",
       "2    11-13      False      False       True      False  FalseFalse\n",
       "3    11-13      False      False       True      False  FalseFalse\n",
       "4    11-13       True       True       True      False    TrueTrue"
      ]
     },
     "execution_count": 58,
     "metadata": {},
     "output_type": "execute_result"
    }
   ],
   "source": [
    "_resultDf.head()"
   ]
  },
  {
   "cell_type": "code",
   "execution_count": 59,
   "metadata": {},
   "outputs": [
    {
     "data": {
      "text/plain": [
       "(0, 0.6)"
      ]
     },
     "execution_count": 59,
     "metadata": {},
     "output_type": "execute_result"
    },
    {
     "data": {
      "image/png": "[encoded data removed]",
      "text/plain": [
       "<Figure size 864x432 with 2 Axes>"
      ]
     },
     "metadata": {
      "needs_background": "light"
     },
     "output_type": "display_data"
    }
   ],
   "source": [
    "plt.figure(figsize=(12,6))\n",
    "\n",
    "plt.subplot(1,2,1)\n",
    "plt.title(\"Flexibility without delay\")\n",
    "sns.barplot(x=\"ageGroup\", y=\"flexible1\", data=_resultDf)\n",
    "plt.ylim([0,0.6])\n",
    "\n",
    "plt.subplot(1,2,2)\n",
    "plt.title(\"Flexibility with delay\")\n",
    "sns.barplot(x=\"ageGroup\", y=\"flexible2\", data=_resultDf)\n",
    "plt.ylim([0,0.6])"
   ]
  },
  {
   "cell_type": "code",
   "execution_count": 76,
   "metadata": {},
   "outputs": [
    {
     "name": "stdout",
     "output_type": "stream",
     "text": [
      "\n",
      "=====================================\n",
      "flexible  False  True \n",
      "delay                 \n",
      "False      1117    872\n",
      "True       1207    782\n",
      "-------------------------------------\n",
      "p-value: 0.0042\n",
      "=====================================\n",
      "\n",
      "\n"
     ]
    },
    {
     "data": {
      "image/png": "[encoded data removed]",
      "text/plain": [
       "<Figure size 432x432 with 1 Axes>"
      ]
     },
     "metadata": {
      "needs_background": "light"
     },
     "output_type": "display_data"
    }
   ],
   "source": [
    "plt.figure(figsize=(6,6))\n",
    "\n",
    "sns.barplot(x=\"delay\", y=\"flexible\", data=Delay_Flexibility)\n",
    "plt.ylim([0,0.6])\n",
    "ChiSquare(Delay_Flexibility.delay,Delay_Flexibility.flexible)"
   ]
  },
  {
   "cell_type": "code",
   "execution_count": 67,
   "metadata": {},
   "outputs": [
    {
     "data": {
      "text/plain": [
       "(0, 1)"
      ]
     },
     "execution_count": 67,
     "metadata": {},
     "output_type": "execute_result"
    },
    {
     "data": {
      "image/png": "[encoded data removed]",
      "text/plain": [
       "<Figure size 720x720 with 4 Axes>"
      ]
     },
     "metadata": {
      "needs_background": "light"
     },
     "output_type": "display_data"
    }
   ],
   "source": [
    "plt.figure(figsize=(10,10))\n",
    "plt.subplots_adjust(wspace=0.25,hspace=0.25)\n",
    "\n",
    "plt.subplot(2,2,1)\n",
    "plt.title(\"SHORT TERM flexibility\")\n",
    "sns.barplot(x=\"coherent\", y=\"flexible1\", data=Coherence_Flexibility)\n",
    "plt.ylim([0,1])\n",
    "\n",
    "plt.subplot(2,2,2)\n",
    "plt.title(\"LONG TERM flexibility\")\n",
    "sns.barplot(x=\"coherent\", y=\"flexible2\", data=Coherence_Flexibility)\n",
    "plt.ylim([0,1])\n",
    "\n",
    "plt.subplot(2,2,3)\n",
    "sns.barplot(x=\"flexible1\", y=\"flexible2\", data=Coherence_Flexibility[Coherence_Flexibility.coherent])\n",
    "plt.ylim([0,1])\n",
    "\n",
    "plt.subplot(2,2,4)\n",
    "sns.barplot(x=\"flexible1\", y=\"flexible2\", data=Coherence_Flexibility[Coherence_Flexibility.coherent != True])\n",
    "plt.ylim([0,1])"
   ]
  },
  {
   "cell_type": "code",
   "execution_count": 28,
   "metadata": {},
   "outputs": [
    {
     "data": {
      "text/plain": [
       "coherent    flexible1\n",
       "FalseFalse  False        112\n",
       "            True          92\n",
       "FalseTrue   True         181\n",
       "            False         98\n",
       "TrueFalse   True         221\n",
       "            False         85\n",
       "TrueTrue    False        822\n",
       "            True         378\n",
       "Name: flexible1, dtype: int64"
      ]
     },
     "execution_count": 28,
     "metadata": {},
     "output_type": "execute_result"
    }
   ],
   "source": [
    "_resultDf.groupby(\"coherent\").flexible1.value_counts()"
   ]
  },
  {
   "cell_type": "markdown",
   "metadata": {},
   "source": [
    "##"
   ]
  },
  {
   "cell_type": "markdown",
   "metadata": {},
   "source": [
    "##"
   ]
  },
  {
   "cell_type": "markdown",
   "metadata": {},
   "source": [
    "##"
   ]
  },
  {
   "cell_type": "code",
   "execution_count": 29,
   "metadata": {},
   "outputs": [
    {
     "data": {
      "text/html": [
       "<div>\n",
       "<style scoped>\n",
       "    .dataframe tbody tr th:only-of-type {\n",
       "        vertical-align: middle;\n",
       "    }\n",
       "\n",
       "    .dataframe tbody tr th {\n",
       "        vertical-align: top;\n",
       "    }\n",
       "\n",
       "    .dataframe thead th {\n",
       "        text-align: right;\n",
       "    }\n",
       "</style>\n",
       "<table border=\"1\" class=\"dataframe\">\n",
       "  <thead>\n",
       "    <tr style=\"text-align: right;\">\n",
       "      <th></th>\n",
       "      <th>ageGroup</th>\n",
       "      <th>answer1</th>\n",
       "      <th>answer2</th>\n",
       "      <th>question</th>\n",
       "    </tr>\n",
       "  </thead>\n",
       "  <tbody>\n",
       "    <tr>\n",
       "      <th>0</th>\n",
       "      <td>11-13</td>\n",
       "      <td>color</td>\n",
       "      <td>color</td>\n",
       "      <td>A_H_F_CT</td>\n",
       "    </tr>\n",
       "    <tr>\n",
       "      <th>1</th>\n",
       "      <td>11-13</td>\n",
       "      <td>orientation</td>\n",
       "      <td>orientation</td>\n",
       "      <td>A_H_F_OT</td>\n",
       "    </tr>\n",
       "    <tr>\n",
       "      <th>2</th>\n",
       "      <td>11-13</td>\n",
       "      <td>orientation</td>\n",
       "      <td>color</td>\n",
       "      <td>A_H_F_CO</td>\n",
       "    </tr>\n",
       "    <tr>\n",
       "      <th>3</th>\n",
       "      <td>11-13</td>\n",
       "      <td>type</td>\n",
       "      <td>color</td>\n",
       "      <td>C_H_F_CT</td>\n",
       "    </tr>\n",
       "    <tr>\n",
       "      <th>4</th>\n",
       "      <td>11-13</td>\n",
       "      <td>orientation</td>\n",
       "      <td>orientation</td>\n",
       "      <td>C_H_F_OT</td>\n",
       "    </tr>\n",
       "  </tbody>\n",
       "</table>\n",
       "</div>"
      ],
      "text/plain": [
       "  ageGroup      answer1      answer2  question\n",
       "0    11-13        color        color  A_H_F_CT\n",
       "1    11-13  orientation  orientation  A_H_F_OT\n",
       "2    11-13  orientation        color  A_H_F_CO\n",
       "3    11-13         type        color  C_H_F_CT\n",
       "4    11-13  orientation  orientation  C_H_F_OT"
      ]
     },
     "execution_count": 29,
     "metadata": {},
     "output_type": "execute_result"
    }
   ],
   "source": [
    "Feature_Choices_Combined.head()"
   ]
  },
  {
   "cell_type": "code",
   "execution_count": 77,
   "metadata": {
    "scrolled": false
   },
   "outputs": [
    {
     "name": "stdout",
     "output_type": "stream",
     "text": [
      "RQ: Is success on recognizing features BEFORE feedback dependent on topic ?\n",
      "\n",
      "=====================================\n",
      "result    correct  wrong\n",
      "topic                   \n",
      "animals       410    256\n",
      "cards         607     59\n",
      "geometry      629     37\n",
      "-------------------------------------\n",
      "p-value: 0.0000\n",
      "=====================================\n",
      "\n",
      "\n",
      "RQ: Is success on recognizing features BEFORE feedback dependent on agegroup ?\n",
      "\n",
      "=====================================\n",
      "result    correct  wrong\n",
      "ageGroup                \n",
      "11-13        1040    202\n",
      "8-10          606    150\n",
      "-------------------------------------\n",
      "p-value: 0.0483\n",
      "=====================================\n",
      "\n",
      "\n",
      "RQ: Is success on recognizing features improved by the feedback ?\n",
      "\n",
      "=====================================\n",
      "result    correct  wrong\n",
      "feedback                \n",
      "False        1646    352\n",
      "True         1758    240\n",
      "-------------------------------------\n",
      "p-value: 0.0000\n",
      "=====================================\n",
      "\n",
      "\n",
      "RQ: Is success on recognizing features AFTER feedback dependent on topic ?\n",
      "\n",
      "=====================================\n",
      "result    correct  wrong\n",
      "topic                   \n",
      "animals       579     87\n",
      "cards         581     85\n",
      "geometry      598     68\n",
      "-------------------------------------\n",
      "p-value: 0.2126\n",
      "=====================================\n",
      "\n",
      "\n",
      "RQ: Is success on recognizing features AFTER feedback dependent on agegroup ?\n",
      "\n",
      "=====================================\n",
      "result    correct  wrong\n",
      "ageGroup                \n",
      "11-13        1112    130\n",
      "8-10          646    110\n",
      "-------------------------------------\n",
      "p-value: 0.0080\n",
      "=====================================\n",
      "\n",
      "\n",
      "RQ: Is feature preference dependant on the topic ?\n",
      "\n",
      "=====================================\n",
      "result    color  orientation  type\n",
      "topic                             \n",
      "animals      88          197   381\n",
      "cards       198          211   257\n",
      "geometry    289          237   140\n",
      "-------------------------------------\n",
      "p-value: 0.0000\n",
      "=====================================\n",
      "\n",
      "\n",
      "\n",
      "=====================================\n",
      "result    color  orientation  type\n",
      "topic                             \n",
      "animals     175          139   282\n",
      "cards       191          162   230\n",
      "geometry    287          204   106\n",
      "-------------------------------------\n",
      "p-value: 0.0000\n",
      "=====================================\n",
      "\n",
      "\n",
      "RQ: Is feature preference consistent ?\n",
      "\n",
      "=====================================\n",
      "answer2  color  type\n",
      "answer1             \n",
      "color       20     6\n",
      "type        67   129\n",
      "-------------------------------------\n",
      "p-value: 0.0001\n",
      "=====================================\n",
      "\n",
      "\n",
      "\n",
      "=====================================\n",
      "answer2      orientation  type\n",
      "answer1                       \n",
      "orientation           25    12\n",
      "type                  10   175\n",
      "-------------------------------------\n",
      "p-value: 0.0000\n",
      "=====================================\n",
      "\n",
      "\n",
      "\n",
      "=====================================\n",
      "answer2      color  orientation\n",
      "answer1                        \n",
      "color           45           17\n",
      "orientation     73           87\n",
      "-------------------------------------\n",
      "p-value: 0.0005\n",
      "=====================================\n",
      "\n",
      "\n",
      "\n",
      "=====================================\n",
      "answer2  color  type\n",
      "answer1             \n",
      "color       58     5\n",
      "type        50   109\n",
      "-------------------------------------\n",
      "p-value: 0.0000\n",
      "=====================================\n",
      "\n",
      "\n",
      "\n",
      "=====================================\n",
      "answer2      orientation  type\n",
      "answer1                       \n",
      "orientation           88    36\n",
      "type                  18    80\n",
      "-------------------------------------\n",
      "p-value: 0.0000\n",
      "=====================================\n",
      "\n",
      "\n",
      "\n",
      "=====================================\n",
      "answer2      color  orientation\n",
      "answer1                        \n",
      "color          107           28\n",
      "orientation     17           70\n",
      "-------------------------------------\n",
      "p-value: 0.0000\n",
      "=====================================\n",
      "\n",
      "\n",
      "\n",
      "=====================================\n",
      "answer2  color  type\n",
      "answer1             \n",
      "color      123    17\n",
      "type        34    48\n",
      "-------------------------------------\n",
      "p-value: 0.0000\n",
      "=====================================\n",
      "\n",
      "\n",
      "\n",
      "=====================================\n",
      "answer2      orientation  type\n",
      "answer1                       \n",
      "orientation          144    20\n",
      "type                  20    38\n",
      "-------------------------------------\n",
      "p-value: 0.0000\n",
      "=====================================\n",
      "\n",
      "\n",
      "\n",
      "=====================================\n",
      "answer2      color  orientation\n",
      "answer1                        \n",
      "color          111           38\n",
      "orientation     19           54\n",
      "-------------------------------------\n",
      "p-value: 0.0000\n",
      "=====================================\n",
      "\n",
      "\n",
      "RQ: Does delay affects flexibility ?\n",
      "\n",
      "=====================================\n",
      "flexible  False  True \n",
      "delay                 \n",
      "False      1117    872\n",
      "True       1207    782\n",
      "-------------------------------------\n",
      "p-value: 0.0042\n",
      "=====================================\n",
      "\n",
      "\n",
      "RQ: Is flexibility dependent on previous coherence ?\n",
      "\n",
      "=====================================\n",
      "flexible1  False  True \n",
      "coherent               \n",
      "False        295    494\n",
      "True         822    378\n",
      "-------------------------------------\n",
      "p-value: 0.0000\n",
      "=====================================\n",
      "\n",
      "\n",
      "\n",
      "=====================================\n",
      "flexible2  False  True \n",
      "coherent               \n",
      "False        407    382\n",
      "True         800    400\n",
      "-------------------------------------\n",
      "p-value: 0.0000\n",
      "=====================================\n",
      "\n",
      "\n",
      "RQ: Is flexibility dependent on ageGroup ?\n",
      "\n",
      "=====================================\n",
      "flexible1  False  True \n",
      "ageGroup               \n",
      "11-13        668    565\n",
      "8-10         449    307\n",
      "-------------------------------------\n",
      "p-value: 0.0258\n",
      "=====================================\n",
      "\n",
      "\n",
      "\n",
      "=====================================\n",
      "flexible2  False  True \n",
      "ageGroup               \n",
      "11-13        715    518\n",
      "8-10         492    264\n",
      "-------------------------------------\n",
      "p-value: 0.0020\n",
      "=====================================\n",
      "\n",
      "\n"
     ]
    }
   ],
   "source": [
    "print(\"RQ: Is success on recognizing features BEFORE feedback dependent on topic ?\")\n",
    "ChiSquare(Questions_1_9.topic,Questions_1_9.result)\n",
    "\n",
    "print(\"RQ: Is success on recognizing features BEFORE feedback dependent on agegroup ?\")\n",
    "ChiSquare(Questions_1_9.ageGroup,Questions_1_9.result)\n",
    "\n",
    "print(\"RQ: Is success on recognizing features improved by the feedback ?\")\n",
    "ChiSquare(Questions_1_18.feedback,Questions_1_18.result)\n",
    "\n",
    "print(\"RQ: Is success on recognizing features AFTER feedback dependent on topic ?\")\n",
    "ChiSquare(Questions_10_18.topic, Questions_10_18.result)\n",
    "\n",
    "print(\"RQ: Is success on recognizing features AFTER feedback dependent on agegroup ?\")\n",
    "ChiSquare(Questions_10_18.ageGroup, Questions_10_18.result)\n",
    "\n",
    "print(\"RQ: Is feature preference dependant on the topic ?\")\n",
    "ChiSquare(Questions_19_27.topic, Questions_19_27.result)\n",
    "ChiSquare(Questions_28_36.topic, Questions_28_36.result)\n",
    "\n",
    "print(\"RQ: Is feature preference consistent ?\")\n",
    "for q in qHF:\n",
    "    _D = Feature_Choices_Combined[Feature_Choices_Combined.question == q]\n",
    "    ChiSquare(_D.answer1, _D.answer2)\n",
    "\n",
    "print(\"RQ: Does delay affects flexibility ?\")\n",
    "ChiSquare(Delay_Flexibility.delay,Delay_Flexibility.flexible)    \n",
    "\n",
    "print(\"RQ: Is flexibility dependent on previous coherence ?\")\n",
    "ChiSquare(Coherence_Flexibility.coherent, Coherence_Flexibility.flexible1)\n",
    "ChiSquare(Coherence_Flexibility.coherent, Coherence_Flexibility.flexible2)\n",
    "    \n",
    "print(\"RQ: Is flexibility dependent on ageGroup ?\")\n",
    "ChiSquare(Coherence_Flexibility.ageGroup, Coherence_Flexibility.flexible1)\n",
    "ChiSquare(Coherence_Flexibility.ageGroup, Coherence_Flexibility.flexible2)\n",
    "\n"
   ]
  },
  {
   "cell_type": "code",
   "execution_count": null,
   "metadata": {},
   "outputs": [],
   "source": []
  }
 ],
 "metadata": {
  "kernelspec": {
   "display_name": "Python 3",
   "language": "python",
   "name": "python3"
  },
  "language_info": {
   "codemirror_mode": {
    "name": "ipython",
    "version": 3
   },
   "file_extension": ".py",
   "mimetype": "text/x-python",
   "name": "python",
   "nbconvert_exporter": "python",
   "pygments_lexer": "ipython3",
   "version": "3.6.7"
  }
 },
 "nbformat": 4,
 "nbformat_minor": 2
}
